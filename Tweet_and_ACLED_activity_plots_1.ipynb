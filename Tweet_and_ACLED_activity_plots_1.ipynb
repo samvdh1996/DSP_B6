{
  "nbformat": 4,
  "nbformat_minor": 0,
  "metadata": {
    "colab": {
      "name": "Tweet and ACLED activity plots 1",
      "provenance": [],
      "collapsed_sections": [],
      "mount_file_id": "1IzTtD7dEcf85zFxny0a9s3klK_XKd2vg",
      "authorship_tag": "ABX9TyP9WYEMPXJp7Ynq0MaTrmFA",
      "include_colab_link": true
    },
    "kernelspec": {
      "name": "python3",
      "display_name": "Python 3"
    },
    "accelerator": "GPU"
  },
  "cells": [
    {
      "cell_type": "markdown",
      "metadata": {
        "id": "view-in-github",
        "colab_type": "text"
      },
      "source": [
        "<a href=\"https://colab.research.google.com/github/samvdh1996/DSP_B6/blob/Elise/Tweet_and_ACLED_activity_plots_1.ipynb\" target=\"_parent\"><img src=\"https://colab.research.google.com/assets/colab-badge.svg\" alt=\"Open In Colab\"/></a>"
      ]
    },
    {
      "cell_type": "code",
      "metadata": {
        "colab": {
          "base_uri": "https://localhost:8080/"
        },
        "id": "MVDOw-XNtF8V",
        "outputId": "554be929-e812-47de-917c-c2d4f8b57754"
      },
      "source": [
        "#I'm using colab so I can run multiple things at the same time, and using GPU it seems faster\r\n",
        "from google.colab import drive\r\n",
        "drive.mount('/content/drive')"
      ],
      "execution_count": 9,
      "outputs": [
        {
          "output_type": "stream",
          "text": [
            "Drive already mounted at /content/drive; to attempt to forcibly remount, call drive.mount(\"/content/drive\", force_remount=True).\n"
          ],
          "name": "stdout"
        }
      ]
    },
    {
      "cell_type": "code",
      "metadata": {
        "id": "tkzCGPYRtg7w"
      },
      "source": [
        "import pandas as pd\n",
        "#Using your google drive for this makes things a lot easier, this is the Filtered 2 million document\n",
        "data = pd.read_csv('/content/drive/MyDrive/userlocationComleteLatLong.csv')"
      ],
      "execution_count": 57,
      "outputs": []
    },
    {
      "cell_type": "code",
      "metadata": {
        "colab": {
          "base_uri": "https://localhost:8080/"
        },
        "id": "kNR0Dv6NtzM1",
        "outputId": "ac74524d-c87f-413f-f964-adfda163128b"
      },
      "source": [
        "data.shape"
      ],
      "execution_count": 58,
      "outputs": [
        {
          "output_type": "execute_result",
          "data": {
            "text/plain": [
              "(1880706, 9)"
            ]
          },
          "metadata": {
            "tags": []
          },
          "execution_count": 58
        }
      ]
    },
    {
      "cell_type": "code",
      "metadata": {
        "id": "Q8DOXI3JuULk"
      },
      "source": [
        "#Create the right time format\r\n",
        "weekday=data[\"Created At\"].str.split(\" \", n = 1, expand = True) \r\n",
        "month=weekday[1].str.split(\" \", n = 1, expand = True) \r\n",
        "day=month[1].str.split(\" \", n = 1, expand = True)\r\n",
        "time=day[1].str.split(\" \", n = 1, expand = True) \r\n",
        "hour=time[0].str.split(\":\", n = 3, expand = True) \r\n",
        "data['month']=month[0]\r\n",
        "data['day']=day[0]\r\n",
        "data['day']=data[\"day\"].astype(str) #In order to merge it into a date later on it's a string \r\n",
        "data['time']=time[0]\r\n",
        "data['year']='2020'\r\n",
        "data['hour']=hour[0]\r\n",
        "data['minute']=hour[1]\r\n",
        "data['second']=hour[2]\r\n"
      ],
      "execution_count": 59,
      "outputs": []
    },
    {
      "cell_type": "code",
      "metadata": {
        "colab": {
          "base_uri": "https://localhost:8080/",
          "height": 380
        },
        "id": "tHbffnKs9xzn",
        "outputId": "a4e8861a-0804-4998-af98-95b9dbc9629a"
      },
      "source": [
        "data.head()"
      ],
      "execution_count": 60,
      "outputs": [
        {
          "output_type": "execute_result",
          "data": {
            "text/html": [
              "<div>\n",
              "<style scoped>\n",
              "    .dataframe tbody tr th:only-of-type {\n",
              "        vertical-align: middle;\n",
              "    }\n",
              "\n",
              "    .dataframe tbody tr th {\n",
              "        vertical-align: top;\n",
              "    }\n",
              "\n",
              "    .dataframe thead th {\n",
              "        text-align: right;\n",
              "    }\n",
              "</style>\n",
              "<table border=\"1\" class=\"dataframe\">\n",
              "  <thead>\n",
              "    <tr style=\"text-align: right;\">\n",
              "      <th></th>\n",
              "      <th>Created At</th>\n",
              "      <th>Id</th>\n",
              "      <th>Lang</th>\n",
              "      <th>Place</th>\n",
              "      <th>State2</th>\n",
              "      <th>Text</th>\n",
              "      <th>User Location</th>\n",
              "      <th>Latitude (generated)</th>\n",
              "      <th>Longitude (generated)</th>\n",
              "      <th>month</th>\n",
              "      <th>day</th>\n",
              "      <th>time</th>\n",
              "      <th>year</th>\n",
              "      <th>hour</th>\n",
              "      <th>minute</th>\n",
              "      <th>second</th>\n",
              "    </tr>\n",
              "  </thead>\n",
              "  <tbody>\n",
              "    <tr>\n",
              "      <th>0</th>\n",
              "      <td>Sun Jun 14 00:18:08 +0000 2020</td>\n",
              "      <td>1271960074454515712</td>\n",
              "      <td>en</td>\n",
              "      <td>Grand Rapids</td>\n",
              "      <td>MI</td>\n",
              "      <td>RT @_VFran_: If you rally for wrestlers on the...</td>\n",
              "      <td>Grand Rapids, MI</td>\n",
              "      <td>42,9632</td>\n",
              "      <td>-85,6679</td>\n",
              "      <td>Jun</td>\n",
              "      <td>14</td>\n",
              "      <td>00:18:08</td>\n",
              "      <td>2020</td>\n",
              "      <td>00</td>\n",
              "      <td>18</td>\n",
              "      <td>08</td>\n",
              "    </tr>\n",
              "    <tr>\n",
              "      <th>1</th>\n",
              "      <td>Sun Jun 14 00:18:07 +0000 2020</td>\n",
              "      <td>1271960071153414144</td>\n",
              "      <td>en</td>\n",
              "      <td>Long Beach</td>\n",
              "      <td>CA</td>\n",
              "      <td>RT @JoshuaPotash: The Paris #BlackLivesMatter ...</td>\n",
              "      <td>Long Beach, CA</td>\n",
              "      <td>33,7775</td>\n",
              "      <td>-118,1885</td>\n",
              "      <td>Jun</td>\n",
              "      <td>14</td>\n",
              "      <td>00:18:07</td>\n",
              "      <td>2020</td>\n",
              "      <td>00</td>\n",
              "      <td>18</td>\n",
              "      <td>07</td>\n",
              "    </tr>\n",
              "    <tr>\n",
              "      <th>2</th>\n",
              "      <td>Sun Jun 14 00:18:07 +0000 2020</td>\n",
              "      <td>1271960070641704960</td>\n",
              "      <td>en</td>\n",
              "      <td>Costa Mesa</td>\n",
              "      <td>CA</td>\n",
              "      <td>RT @JoshuaPotash: The Paris #BlackLivesMatter ...</td>\n",
              "      <td>Costa Mesa, CA</td>\n",
              "      <td>33,6633</td>\n",
              "      <td>-117,9033</td>\n",
              "      <td>Jun</td>\n",
              "      <td>14</td>\n",
              "      <td>00:18:07</td>\n",
              "      <td>2020</td>\n",
              "      <td>00</td>\n",
              "      <td>18</td>\n",
              "      <td>07</td>\n",
              "    </tr>\n",
              "    <tr>\n",
              "      <th>3</th>\n",
              "      <td>Sun Jun 14 00:18:07 +0000 2020</td>\n",
              "      <td>1271960069387825152</td>\n",
              "      <td>en</td>\n",
              "      <td>Joplin</td>\n",
              "      <td>MO</td>\n",
              "      <td>RT @JoshuaPotash: It seems like we're seeing l...</td>\n",
              "      <td>Joplin, MO</td>\n",
              "      <td>37,0842</td>\n",
              "      <td>-94,5133</td>\n",
              "      <td>Jun</td>\n",
              "      <td>14</td>\n",
              "      <td>00:18:07</td>\n",
              "      <td>2020</td>\n",
              "      <td>00</td>\n",
              "      <td>18</td>\n",
              "      <td>07</td>\n",
              "    </tr>\n",
              "    <tr>\n",
              "      <th>4</th>\n",
              "      <td>Sun Jun 14 00:18:06 +0000 2020</td>\n",
              "      <td>1271960067785371650</td>\n",
              "      <td>en</td>\n",
              "      <td>Los Angeles</td>\n",
              "      <td>CA</td>\n",
              "      <td>RT @JoshuaPotash: The Paris #BlackLivesMatter ...</td>\n",
              "      <td>Los Angeles, CA</td>\n",
              "      <td>34,0544</td>\n",
              "      <td>-118,2439</td>\n",
              "      <td>Jun</td>\n",
              "      <td>14</td>\n",
              "      <td>00:18:06</td>\n",
              "      <td>2020</td>\n",
              "      <td>00</td>\n",
              "      <td>18</td>\n",
              "      <td>06</td>\n",
              "    </tr>\n",
              "  </tbody>\n",
              "</table>\n",
              "</div>"
            ],
            "text/plain": [
              "                       Created At                   Id Lang  ... hour minute second\n",
              "0  Sun Jun 14 00:18:08 +0000 2020  1271960074454515712   en  ...   00     18     08\n",
              "1  Sun Jun 14 00:18:07 +0000 2020  1271960071153414144   en  ...   00     18     07\n",
              "2  Sun Jun 14 00:18:07 +0000 2020  1271960070641704960   en  ...   00     18     07\n",
              "3  Sun Jun 14 00:18:07 +0000 2020  1271960069387825152   en  ...   00     18     07\n",
              "4  Sun Jun 14 00:18:06 +0000 2020  1271960067785371650   en  ...   00     18     06\n",
              "\n",
              "[5 rows x 16 columns]"
            ]
          },
          "metadata": {
            "tags": []
          },
          "execution_count": 60
        }
      ]
    },
    {
      "cell_type": "code",
      "metadata": {
        "colab": {
          "base_uri": "https://localhost:8080/",
          "height": 380
        },
        "id": "bBcWwZdpzSNa",
        "outputId": "dbb7911a-894c-4416-cf05-311eb0b56a8c"
      },
      "source": [
        "#Turn months into numbers\r\n",
        "data.month=data.month.str.replace('May', '05', regex=True) \r\n",
        "data.month=data.month.str.replace('Jun', '06', regex=True)\r\n",
        "#Create date format and turn into datetime format\r\n",
        "data[\"date\"] = data[\"year\"]+\"-\"+data[\"month\"]+\"-\"+ data[\"day\"]\r\n",
        "data[\"timestamp\"] = data['date']+ \"-\" + data[\"hour\"].astype(str) +\"-\"+data[\"minute\"].astype(str)+\"-\"+data[\"second\"].astype(str)\r\n",
        "data[\"timestamp\"] = pd.to_datetime(data[\"timestamp\"], format=\"%Y-%m-%d-%H-%M-%S\")\r\n",
        "#Drop stuff you don't want anymore\r\n",
        "data=data.drop(['year','month','day','minute','second'], axis=1)\r\n",
        "#Now sorting by time is easy\r\n",
        "data=data.sort_values(by=['timestamp'])\r\n",
        "data.head()\r\n"
      ],
      "execution_count": 61,
      "outputs": [
        {
          "output_type": "execute_result",
          "data": {
            "text/html": [
              "<div>\n",
              "<style scoped>\n",
              "    .dataframe tbody tr th:only-of-type {\n",
              "        vertical-align: middle;\n",
              "    }\n",
              "\n",
              "    .dataframe tbody tr th {\n",
              "        vertical-align: top;\n",
              "    }\n",
              "\n",
              "    .dataframe thead th {\n",
              "        text-align: right;\n",
              "    }\n",
              "</style>\n",
              "<table border=\"1\" class=\"dataframe\">\n",
              "  <thead>\n",
              "    <tr style=\"text-align: right;\">\n",
              "      <th></th>\n",
              "      <th>Created At</th>\n",
              "      <th>Id</th>\n",
              "      <th>Lang</th>\n",
              "      <th>Place</th>\n",
              "      <th>State2</th>\n",
              "      <th>Text</th>\n",
              "      <th>User Location</th>\n",
              "      <th>Latitude (generated)</th>\n",
              "      <th>Longitude (generated)</th>\n",
              "      <th>time</th>\n",
              "      <th>hour</th>\n",
              "      <th>date</th>\n",
              "      <th>timestamp</th>\n",
              "    </tr>\n",
              "  </thead>\n",
              "  <tbody>\n",
              "    <tr>\n",
              "      <th>0</th>\n",
              "      <td>Sun Jun 14 00:18:08 +0000 2020</td>\n",
              "      <td>1271960074454515712</td>\n",
              "      <td>en</td>\n",
              "      <td>Grand Rapids</td>\n",
              "      <td>MI</td>\n",
              "      <td>RT @_VFran_: If you rally for wrestlers on the...</td>\n",
              "      <td>Grand Rapids, MI</td>\n",
              "      <td>42,9632</td>\n",
              "      <td>-85,6679</td>\n",
              "      <td>00:18:08</td>\n",
              "      <td>00</td>\n",
              "      <td>2020-06-14</td>\n",
              "      <td>2020-06-14 00:18:08</td>\n",
              "    </tr>\n",
              "    <tr>\n",
              "      <th>1</th>\n",
              "      <td>Sun Jun 14 00:18:07 +0000 2020</td>\n",
              "      <td>1271960071153414144</td>\n",
              "      <td>en</td>\n",
              "      <td>Long Beach</td>\n",
              "      <td>CA</td>\n",
              "      <td>RT @JoshuaPotash: The Paris #BlackLivesMatter ...</td>\n",
              "      <td>Long Beach, CA</td>\n",
              "      <td>33,7775</td>\n",
              "      <td>-118,1885</td>\n",
              "      <td>00:18:07</td>\n",
              "      <td>00</td>\n",
              "      <td>2020-06-14</td>\n",
              "      <td>2020-06-14 00:18:07</td>\n",
              "    </tr>\n",
              "    <tr>\n",
              "      <th>2</th>\n",
              "      <td>Sun Jun 14 00:18:07 +0000 2020</td>\n",
              "      <td>1271960070641704960</td>\n",
              "      <td>en</td>\n",
              "      <td>Costa Mesa</td>\n",
              "      <td>CA</td>\n",
              "      <td>RT @JoshuaPotash: The Paris #BlackLivesMatter ...</td>\n",
              "      <td>Costa Mesa, CA</td>\n",
              "      <td>33,6633</td>\n",
              "      <td>-117,9033</td>\n",
              "      <td>00:18:07</td>\n",
              "      <td>00</td>\n",
              "      <td>2020-06-14</td>\n",
              "      <td>2020-06-14 00:18:07</td>\n",
              "    </tr>\n",
              "    <tr>\n",
              "      <th>3</th>\n",
              "      <td>Sun Jun 14 00:18:07 +0000 2020</td>\n",
              "      <td>1271960069387825152</td>\n",
              "      <td>en</td>\n",
              "      <td>Joplin</td>\n",
              "      <td>MO</td>\n",
              "      <td>RT @JoshuaPotash: It seems like we're seeing l...</td>\n",
              "      <td>Joplin, MO</td>\n",
              "      <td>37,0842</td>\n",
              "      <td>-94,5133</td>\n",
              "      <td>00:18:07</td>\n",
              "      <td>00</td>\n",
              "      <td>2020-06-14</td>\n",
              "      <td>2020-06-14 00:18:07</td>\n",
              "    </tr>\n",
              "    <tr>\n",
              "      <th>4</th>\n",
              "      <td>Sun Jun 14 00:18:06 +0000 2020</td>\n",
              "      <td>1271960067785371650</td>\n",
              "      <td>en</td>\n",
              "      <td>Los Angeles</td>\n",
              "      <td>CA</td>\n",
              "      <td>RT @JoshuaPotash: The Paris #BlackLivesMatter ...</td>\n",
              "      <td>Los Angeles, CA</td>\n",
              "      <td>34,0544</td>\n",
              "      <td>-118,2439</td>\n",
              "      <td>00:18:06</td>\n",
              "      <td>00</td>\n",
              "      <td>2020-06-14</td>\n",
              "      <td>2020-06-14 00:18:06</td>\n",
              "    </tr>\n",
              "  </tbody>\n",
              "</table>\n",
              "</div>"
            ],
            "text/plain": [
              "                       Created At  ...           timestamp\n",
              "0  Sun Jun 14 00:18:08 +0000 2020  ... 2020-06-14 00:18:08\n",
              "1  Sun Jun 14 00:18:07 +0000 2020  ... 2020-06-14 00:18:07\n",
              "2  Sun Jun 14 00:18:07 +0000 2020  ... 2020-06-14 00:18:07\n",
              "3  Sun Jun 14 00:18:07 +0000 2020  ... 2020-06-14 00:18:07\n",
              "4  Sun Jun 14 00:18:06 +0000 2020  ... 2020-06-14 00:18:06\n",
              "\n",
              "[5 rows x 13 columns]"
            ]
          },
          "metadata": {
            "tags": []
          },
          "execution_count": 61
        }
      ]
    },
    {
      "cell_type": "code",
      "metadata": {
        "colab": {
          "base_uri": "https://localhost:8080/",
          "height": 297
        },
        "id": "Ld8f6ajqcwRe",
        "outputId": "2bc8788e-da07-4ffd-8bfd-56176991f322"
      },
      "source": [
        "data.groupby(data['timestamp'].dt.date).size().plot() #By changing the dt.date into dt.hour or other formats, you can see activity per various date types\r\n",
        "#print(data.groupby(data['timestamp'].dt.date).size()) #List of sizes per date"
      ],
      "execution_count": 89,
      "outputs": [
        {
          "output_type": "execute_result",
          "data": {
            "text/plain": [
              "<matplotlib.axes._subplots.AxesSubplot at 0x7fe044ddd4e0>"
            ]
          },
          "metadata": {
            "tags": []
          },
          "execution_count": 89
        },
        {
          "output_type": "display_data",
          "data": {
            "image/png": "[encoded data removed]",
            "text/plain": [
              "<Figure size 432x288 with 1 Axes>"
            ]
          },
          "metadata": {
            "tags": [],
            "needs_background": "light"
          }
        }
      ]
    },
    {
      "cell_type": "code",
      "metadata": {
        "colab": {
          "base_uri": "https://localhost:8080/",
          "height": 332
        },
        "id": "TvNiVlinUvSS",
        "outputId": "05cf6f13-380c-4cf9-972e-2358810f7198"
      },
      "source": [
        "test = data.groupby([data['timestamp'].dt.to_period('H')]).count()#.unstack() #This plots it per hour per date\r\n",
        "test.plot(legend=0,) #Remove the legend it shows on default\r\n"
      ],
      "execution_count": 88,
      "outputs": [
        {
          "output_type": "execute_result",
          "data": {
            "text/plain": [
              "<matplotlib.axes._subplots.AxesSubplot at 0x7fe046590898>"
            ]
          },
          "metadata": {
            "tags": []
          },
          "execution_count": 88
        },
        {
          "output_type": "display_data",
          "data": {
            "image/png": "[encoded data removed]",
            "text/plain": [
              "<Figure size 432x288 with 1 Axes>"
            ]
          },
          "metadata": {
            "tags": [],
            "needs_background": "light"
          }
        }
      ]
    },
    {
      "cell_type": "code",
      "metadata": {
        "id": "dVGRvgFNek3E"
      },
      "source": [
        "acled = pd.read_csv('/content/drive/MyDrive/ACLEDwithaddress.csv') #Import the ACLED dataset with the adresses, see \r\n",
        "#https://amsuni-my.sharepoint.com/:f:/g/personal/elise_mertens_student_uva_nl/EiDO45mW2X5Jnjgl2SObG7YBGID5hBuKEDxo2AV4Zia6HA?e=eLPOSz"
      ],
      "execution_count": 91,
      "outputs": []
    },
    {
      "cell_type": "code",
      "metadata": {
        "colab": {
          "base_uri": "https://localhost:8080/",
          "height": 194
        },
        "id": "l1r4WDYqg3hd",
        "outputId": "63c119ca-9aa2-4319-d6cc-116b63700983"
      },
      "source": [
        "acled.head()"
      ],
      "execution_count": 106,
      "outputs": [
        {
          "output_type": "execute_result",
          "data": {
            "text/html": [
              "<div>\n",
              "<style scoped>\n",
              "    .dataframe tbody tr th:only-of-type {\n",
              "        vertical-align: middle;\n",
              "    }\n",
              "\n",
              "    .dataframe tbody tr th {\n",
              "        vertical-align: top;\n",
              "    }\n",
              "\n",
              "    .dataframe thead th {\n",
              "        text-align: right;\n",
              "    }\n",
              "</style>\n",
              "<table border=\"1\" class=\"dataframe\">\n",
              "  <thead>\n",
              "    <tr style=\"text-align: right;\">\n",
              "      <th></th>\n",
              "      <th>Unnamed: 0</th>\n",
              "      <th>EVENT_DATE</th>\n",
              "      <th>LATITUDE</th>\n",
              "      <th>LONGITUDE</th>\n",
              "      <th>road</th>\n",
              "      <th>city</th>\n",
              "      <th>town</th>\n",
              "      <th>state</th>\n",
              "      <th>timestamp</th>\n",
              "    </tr>\n",
              "  </thead>\n",
              "  <tbody>\n",
              "    <tr>\n",
              "      <th>0</th>\n",
              "      <td>0</td>\n",
              "      <td>2020-05-07</td>\n",
              "      <td>40.714</td>\n",
              "      <td>-74.006</td>\n",
              "      <td>Chambers Street</td>\n",
              "      <td>New York</td>\n",
              "      <td>0</td>\n",
              "      <td>New York</td>\n",
              "      <td>2020-05-07</td>\n",
              "    </tr>\n",
              "    <tr>\n",
              "      <th>1</th>\n",
              "      <td>1</td>\n",
              "      <td>2020-05-09</td>\n",
              "      <td>39.769</td>\n",
              "      <td>-86.158</td>\n",
              "      <td>Monument Circle</td>\n",
              "      <td>Indianapolis</td>\n",
              "      <td>0</td>\n",
              "      <td>Indiana</td>\n",
              "      <td>2020-05-09</td>\n",
              "    </tr>\n",
              "    <tr>\n",
              "      <th>2</th>\n",
              "      <td>2</td>\n",
              "      <td>2020-05-17</td>\n",
              "      <td>31.150</td>\n",
              "      <td>-81.492</td>\n",
              "      <td>0</td>\n",
              "      <td>0</td>\n",
              "      <td>Brunswick</td>\n",
              "      <td>Georgia</td>\n",
              "      <td>2020-05-17</td>\n",
              "    </tr>\n",
              "    <tr>\n",
              "      <th>3</th>\n",
              "      <td>3</td>\n",
              "      <td>2020-05-21</td>\n",
              "      <td>43.038</td>\n",
              "      <td>-87.906</td>\n",
              "      <td>North Jefferson Street</td>\n",
              "      <td>Milwaukee</td>\n",
              "      <td>0</td>\n",
              "      <td>Wisconsin</td>\n",
              "      <td>2020-05-21</td>\n",
              "    </tr>\n",
              "    <tr>\n",
              "      <th>4</th>\n",
              "      <td>4</td>\n",
              "      <td>2020-05-23</td>\n",
              "      <td>41.586</td>\n",
              "      <td>-93.623</td>\n",
              "      <td>Skywalk</td>\n",
              "      <td>Des Moines</td>\n",
              "      <td>0</td>\n",
              "      <td>Iowa</td>\n",
              "      <td>2020-05-23</td>\n",
              "    </tr>\n",
              "  </tbody>\n",
              "</table>\n",
              "</div>"
            ],
            "text/plain": [
              "   Unnamed: 0  EVENT_DATE  LATITUDE  ...       town      state  timestamp\n",
              "0           0  2020-05-07    40.714  ...          0   New York 2020-05-07\n",
              "1           1  2020-05-09    39.769  ...          0    Indiana 2020-05-09\n",
              "2           2  2020-05-17    31.150  ...  Brunswick    Georgia 2020-05-17\n",
              "3           3  2020-05-21    43.038  ...          0  Wisconsin 2020-05-21\n",
              "4           4  2020-05-23    41.586  ...          0       Iowa 2020-05-23\n",
              "\n",
              "[5 rows x 9 columns]"
            ]
          },
          "metadata": {
            "tags": []
          },
          "execution_count": 106
        }
      ]
    },
    {
      "cell_type": "code",
      "metadata": {
        "colab": {
          "base_uri": "https://localhost:8080/",
          "height": 313
        },
        "id": "UpDi4A6OesJW",
        "outputId": "3337fb99-ab9a-4648-d5ae-09af0f6e9ff2"
      },
      "source": [
        "#Again create the timestamp format\r\n",
        "acled[\"timestamp\"] = pd.to_datetime(acled[\"EVENT_DATE\"], format=\"%Y-%m-%d\")\r\n",
        "#Only select the dates also in the Tweet dataset\r\n",
        "mayjune = (acled['timestamp'] > '2020-5-1') & (acled['timestamp'] <= '2020-6-16')\r\n",
        "acledmayjune= acled.loc[mayjune]\r\n",
        "#Select a specific state or city like New York\r\n",
        "acledmayjuneca=acledmayjune[acledmayjune['city'].str.contains('New York')]\r\n",
        "acledmayjuneca.groupby(acledmayjuneca['timestamp'].dt.date).size().plot(title='ACLED activity NYC')\r\n",
        "#acledmayjuneca.groupby(acledmayjuneca['timestamp'].dt.date).size()"
      ],
      "execution_count": 129,
      "outputs": [
        {
          "output_type": "execute_result",
          "data": {
            "text/plain": [
              "<matplotlib.axes._subplots.AxesSubplot at 0x7fe044825898>"
            ]
          },
          "metadata": {
            "tags": []
          },
          "execution_count": 129
        },
        {
          "output_type": "display_data",
          "data": {
            "image/png": "[encoded data removed]",
            "text/plain": [
              "<Figure size 432x288 with 1 Axes>"
            ]
          },
          "metadata": {
            "tags": [],
            "needs_background": "light"
          }
        }
      ]
    },
    {
      "cell_type": "code",
      "metadata": {
        "colab": {
          "base_uri": "https://localhost:8080/",
          "height": 313
        },
        "id": "2RpBhJDpeEJR",
        "outputId": "f5661e7e-0da4-418a-df1f-652d4250e5c9"
      },
      "source": [
        "#Same but for the Tweets\r\n",
        "dataCA=data[data['Place'].str.contains('New York')]\r\n",
        "dataCA.groupby(dataCA['timestamp'].dt.date).size().plot(title='Tweet activity NYC')\r\n"
      ],
      "execution_count": 146,
      "outputs": [
        {
          "output_type": "execute_result",
          "data": {
            "text/plain": [
              "<matplotlib.axes._subplots.AxesSubplot at 0x7fe0444bc828>"
            ]
          },
          "metadata": {
            "tags": []
          },
          "execution_count": 146
        },
        {
          "output_type": "display_data",
          "data": {
            "image/png": "[encoded data removed]",
            "text/plain": [
              "<Figure size 432x288 with 1 Axes>"
            ]
          },
          "metadata": {
            "tags": [],
            "needs_background": "light"
          }
        }
      ]
    },
    {
      "cell_type": "code",
      "metadata": {
        "colab": {
          "base_uri": "https://localhost:8080/",
          "height": 294
        },
        "id": "L3hy2cVLlWZA",
        "outputId": "28bbaeb9-e408-4e35-ee8c-724cc0ee5efd"
      },
      "source": [
        "#Two ugly plots\r\n",
        "fig, axs = plt.subplots(2)\r\n",
        "\r\n",
        "fig.suptitle('ACLED NYC & NYC TWEETS')\r\n",
        "axs[0].plot(acledmayjuneca.groupby(acledmayjuneca['timestamp'].dt.date).size())\r\n",
        "\r\n",
        "axs[0].grid()\r\n",
        "\r\n",
        "axs[1].plot(dataCA.groupby(dataCA['timestamp'].dt.date).size())\r\n",
        "axs[1].grid()\r\n"
      ],
      "execution_count": 145,
      "outputs": [
        {
          "output_type": "display_data",
          "data": {
            "image/png": "[encoded data removed]",
            "text/plain": [
              "<Figure size 432x288 with 2 Axes>"
            ]
          },
          "metadata": {
            "tags": [],
            "needs_background": "light"
          }
        }
      ]
    }
  ]
}
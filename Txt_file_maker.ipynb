{
 "metadata": {
  "language_info": {
   "codemirror_mode": {
    "name": "ipython",
    "version": 3
   },
   "file_extension": ".py",
   "mimetype": "text/x-python",
   "name": "python",
   "nbconvert_exporter": "python",
   "pygments_lexer": "ipython3",
   "version": "3.7.6-final"
  },
  "orig_nbformat": 2,
  "kernelspec": {
   "name": "python3",
   "display_name": "Python 3",
   "language": "python"
  }
 },
 "nbformat": 4,
 "nbformat_minor": 2,
 "cells": [
  {
   "cell_type": "code",
   "execution_count": 9,
   "metadata": {},
   "outputs": [
    {
     "output_type": "stream",
     "name": "stdout",
     "text": [
      "total tweets = 41801153\nconfigured tweets = 11302693\npercentage done: 27 %\n"
     ]
    }
   ],
   "source": [
    "#I am currently at 967838397715726336\n",
    "#In total there are 41.801.153 tweets\n",
    "# we still have left 33.817.799\n",
    "a = len(data)\n",
    "print('total tweets =', a)\n",
    "\n",
    "\n",
    "#1265746243378184194 = may 27\n",
    "#1258365011610738691 = first tweet blm_tweets_from_may_part1 (thursday may 7)\n",
    "# 1268749894539530242 = last tweet blm_tweets_from_may_part1 (Friday June 5)\n",
    "tweets1 =  7108579\n",
    "#1268749894598250496 = first tweet BLM_cont2 (Fri June 05 2020)\n",
    "#1269748302142042113 = last tweet BLM_cont2 (sun June 07 2020)\n",
    "tweets2 = 4194114\n",
    "\n",
    "total = tweets1+tweets2\n",
    "print('configured tweets =', total)\n",
    "print('percentage done:', round(total/a*100),\"%\")\n"
   ]
  },
  {
   "cell_type": "code",
   "execution_count": 5,
   "metadata": {},
   "outputs": [
    {
     "output_type": "execute_result",
     "data": {
      "text/plain": [
       "41801153"
      ]
     },
     "metadata": {},
     "execution_count": 5
    }
   ],
   "source": [
    "len(data)"
   ]
  },
  {
   "cell_type": "code",
   "execution_count": 2,
   "metadata": {},
   "outputs": [],
   "source": [
    "import pandas as pd\n",
    "import numpy as np"
   ]
  },
  {
   "cell_type": "code",
   "execution_count": 10,
   "metadata": {},
   "outputs": [],
   "source": [
    "\n",
    "data = pd.read_csv('/Users/sam/Documents/Masters/Data_Systems_Project/blm_twitter_corpus-master/blm_tweet_ids.txt', header = None)"
   ]
  },
  {
   "cell_type": "code",
   "execution_count": 11,
   "metadata": {},
   "outputs": [],
   "source": [
    "data = data[data[0]>1269748302142042113]"
   ]
  },
  {
   "cell_type": "code",
   "execution_count": 12,
   "metadata": {},
   "outputs": [
    {
     "output_type": "execute_result",
     "data": {
      "text/plain": [
       "                            0\n",
       "24551787  1269748302259589128\n",
       "24551803  1269748305896124416\n",
       "24551804  1269748307749941252\n",
       "24551805  1269748307838021632\n",
       "24551806  1269748308001636352"
      ],
      "text/html": "<div>\n<style scoped>\n    .dataframe tbody tr th:only-of-type {\n        vertical-align: middle;\n    }\n\n    .dataframe tbody tr th {\n        vertical-align: top;\n    }\n\n    .dataframe thead th {\n        text-align: right;\n    }\n</style>\n<table border=\"1\" class=\"dataframe\">\n  <thead>\n    <tr style=\"text-align: right;\">\n      <th></th>\n      <th>0</th>\n    </tr>\n  </thead>\n  <tbody>\n    <tr>\n      <th>24551787</th>\n      <td>1269748302259589128</td>\n    </tr>\n    <tr>\n      <th>24551803</th>\n      <td>1269748305896124416</td>\n    </tr>\n    <tr>\n      <th>24551804</th>\n      <td>1269748307749941252</td>\n    </tr>\n    <tr>\n      <th>24551805</th>\n      <td>1269748307838021632</td>\n    </tr>\n    <tr>\n      <th>24551806</th>\n      <td>1269748308001636352</td>\n    </tr>\n  </tbody>\n</table>\n</div>"
     },
     "metadata": {},
     "execution_count": 12
    }
   ],
   "source": [
    "data.head()"
   ]
  },
  {
   "cell_type": "code",
   "execution_count": 13,
   "metadata": {},
   "outputs": [],
   "source": [
    "np.savetxt(r'/Users/sam/Documents/Masters/Data_Systems_Project/blm_twitter_corpus-master/blm_may.txt', data.values, fmt='%d')"
   ]
  },
  {
   "cell_type": "code",
   "execution_count": null,
   "metadata": {},
   "outputs": [],
   "source": [
    "cat > test.txt\n",
    "\n",
    "twarc hydrate test.txt > blm_test.jsonl"
   ]
  }
 ]
}
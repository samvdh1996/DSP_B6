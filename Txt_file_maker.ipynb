{
 "metadata": {
  "language_info": {
   "codemirror_mode": {
    "name": "ipython",
    "version": 3
   },
   "file_extension": ".py",
   "mimetype": "text/x-python",
   "name": "python",
   "nbconvert_exporter": "python",
   "pygments_lexer": "ipython3",
   "version": "3.7.6-final"
  },
  "orig_nbformat": 2,
  "kernelspec": {
   "name": "python3",
   "display_name": "Python 3"
  }
 },
 "nbformat": 4,
 "nbformat_minor": 2,
 "cells": [
  {
   "cell_type": "code",
   "execution_count": 5,
   "metadata": {},
   "outputs": [
    {
     "output_type": "stream",
     "name": "stdout",
     "text": [
      "0.47859476507741305\n"
     ]
    }
   ],
   "source": [
    "#I am currently at 967838397715726336\n",
    "#In total there are 41.801.153 tweets\n",
    "# we still have left 33.817.799\n",
    "a = len(data)/41801153\n",
    "print(1-a)\n",
    "\n",
    "\n",
    "#1265746243378184194 = may 27"
   ]
  },
  {
   "cell_type": "code",
   "execution_count": 1,
   "metadata": {},
   "outputs": [],
   "source": [
    "import pandas as pd\n",
    "import numpy as np\n"
   ]
  },
  {
   "cell_type": "code",
   "execution_count": 2,
   "metadata": {},
   "outputs": [],
   "source": [
    "\n",
    "data = pd.read_csv('/Users/sam/Documents/Masters/Data_Systems_Project/blm_twitter_corpus-master/blm_tweet_ids.txt', header = None)"
   ]
  },
  {
   "cell_type": "code",
   "execution_count": 3,
   "metadata": {},
   "outputs": [],
   "source": [
    "data = data[data[0]>1268749894539530242]"
   ]
  },
  {
   "cell_type": "code",
   "execution_count": 32,
   "metadata": {},
   "outputs": [
    {
     "output_type": "execute_result",
     "data": {
      "text/plain": [
       "                            0\n",
       "11633361  1258365011610738691\n",
       "11633364  1258365211968507904\n",
       "11633365  1258365031235887104\n",
       "11633366  1258365169014575105\n",
       "11633370  1258365124517203969"
      ],
      "text/html": "<div>\n<style scoped>\n    .dataframe tbody tr th:only-of-type {\n        vertical-align: middle;\n    }\n\n    .dataframe tbody tr th {\n        vertical-align: top;\n    }\n\n    .dataframe thead th {\n        text-align: right;\n    }\n</style>\n<table border=\"1\" class=\"dataframe\">\n  <thead>\n    <tr style=\"text-align: right;\">\n      <th></th>\n      <th>0</th>\n    </tr>\n  </thead>\n  <tbody>\n    <tr>\n      <th>11633361</th>\n      <td>1258365011610738691</td>\n    </tr>\n    <tr>\n      <th>11633364</th>\n      <td>1258365211968507904</td>\n    </tr>\n    <tr>\n      <th>11633365</th>\n      <td>1258365031235887104</td>\n    </tr>\n    <tr>\n      <th>11633366</th>\n      <td>1258365169014575105</td>\n    </tr>\n    <tr>\n      <th>11633370</th>\n      <td>1258365124517203969</td>\n    </tr>\n  </tbody>\n</table>\n</div>"
     },
     "metadata": {},
     "execution_count": 32
    }
   ],
   "source": [
    "data.head()"
   ]
  },
  {
   "cell_type": "code",
   "execution_count": 6,
   "metadata": {},
   "outputs": [],
   "source": [
    "np.savetxt(r'/Users/sam/Documents/Masters/Data_Systems_Project/blm_twitter_corpus-master/blm_may.txt', data.values, fmt='%d')"
   ]
  },
  {
   "cell_type": "code",
   "execution_count": null,
   "metadata": {},
   "outputs": [],
   "source": [
    "cat > test.txt\n",
    "\n",
    "twarc hydrate test.txt > blm_test.jsonl"
   ]
  }
 ]
}
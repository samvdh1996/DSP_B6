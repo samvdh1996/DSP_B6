{
 "metadata": {
  "language_info": {
   "codemirror_mode": {
    "name": "ipython",
    "version": 3
   },
   "file_extension": ".py",
   "mimetype": "text/x-python",
   "name": "python",
   "nbconvert_exporter": "python",
   "pygments_lexer": "ipython3",
   "version": "3.7.6-final"
  },
  "orig_nbformat": 2,
  "kernelspec": {
   "name": "python3",
   "display_name": "Python 3",
   "language": "python"
  }
 },
 "nbformat": 4,
 "nbformat_minor": 2,
 "cells": [
  {
   "cell_type": "code",
   "execution_count": 8,
   "metadata": {},
   "outputs": [],
   "source": [
    "import pandas as pd\n",
    "from nltk.corpus import stopwords \n",
    "from nltk.stem.wordnet import WordNetLemmatizer\n",
    "import string\n",
    "from string import punctuation\n",
    "import numpy as np\n",
    "import re"
   ]
  },
  {
   "cell_type": "code",
   "execution_count": 11,
   "metadata": {},
   "outputs": [],
   "source": [
    "tweets = pd.read_json('/Users/sam/Documents/Masters/Data_Systems_Project/Locations/user_locations.json')"
   ]
  },
  {
   "cell_type": "code",
   "execution_count": null,
   "metadata": {},
   "outputs": [],
   "source": [
    "tweets = tweets[tweets['state']=='CA']\n",
    "tweets = tweets[tweets.text.str.contains('RT ')==False]"
   ]
  },
  {
   "source": [
    "### cleaning"
   ],
   "cell_type": "markdown",
   "metadata": {}
  },
  {
   "cell_type": "code",
   "execution_count": 12,
   "metadata": {},
   "outputs": [],
   "source": [
    "#clear hyperlinks\n",
    "def clean_hyperlinks(text):\n",
    "    result = re.sub(r'https?://[^\\s<>\"]+|www\\.[^\\s<>\"]+',\" \", str(text))\n",
    "    #result = text.replace(\"RT \", \"\")\n",
    "    return result\n",
    "\n",
    "tweets['text'] = tweets['text'].apply(clean_hyperlinks)\n",
    "\n",
    "#take out hashtags and mentions\n",
    "def string_manipulation(df,column):\n",
    "    df[\"hashtag\"]  = df[column].str.findall(r'#.*?(?=\\s|$)')\n",
    "    df[\"accounts\"] = df[column].str.findall(r'@.*?(?=\\s|$)')\n",
    "    return df\n",
    "tweets = string_manipulation(tweets,\"text\")\n",
    "#make list of al hashtags found\n",
    "tweets['hashtag']=tweets['hashtag'].apply(str)\n",
    "tweets['hashtag'] = tweets['hashtag'].apply(lambda x: ','.join(map(str, x)))\n",
    "\n",
    "#take out hashtags sign and make everything lowercase\n",
    "def inlist(text): \n",
    "    result = text.replace(\"#\", \"\")\n",
    "    result = result.lower()\n",
    "    result = text.split(\",\")\n",
    "    return result\n",
    "tweets['hashtag'] = tweets['hashtag'].apply(inlist)\n",
    "\n",
    "#make list of tweets\n",
    "list_of_tweets = []\n",
    "for tweet in tweets['text']:\n",
    "    temp = tweet\n",
    "    list_of_tweets.append(temp)\n",
    "\n",
    "# Create a set of stopwords\n",
    "stop = set(stopwords.words('english'))\n",
    "\n",
    "# Create a set of punctuation words \n",
    "exclude = set(string.punctuation) \n",
    "\n",
    "# This is the function makeing the lemmatization\n",
    "lemma = WordNetLemmatizer()\n",
    "\n",
    "# In this function we perform the entire cleaning\n",
    "def clean(doc):\n",
    "    stop_free = \" \".join([i for i in doc.lower().split() if i not in stop])\n",
    "    punc_free = ''.join(ch for ch in stop_free if ch not in exclude)\n",
    "    normalized = \" \".join(lemma.lemmatize(word) for word in punc_free.split())\n",
    "    return normalized\n",
    "\n",
    "# This is the clean corpus.\n",
    "tweets['token'] = [clean(doc).split() for doc in list_of_tweets]"
   ]
  },
  {
   "cell_type": "code",
   "execution_count": 58,
   "metadata": {},
   "outputs": [],
   "source": [
    "def split(x):\n",
    "    x = str(x).split()[0]\n",
    "    return x\n",
    "tweets['created_at'] = tweets['created_at'].map(split)\n",
    "tweets['created_at'] = pd.to_datetime(tweets['created_at'], format=\"%Y-%m-%d\")"
   ]
  },
  {
   "source": [
    "splitted=tweets[\"user_location\"].str.split(\", \", n = 1, expand = True)\n",
    "tweets[\"state\"] = splitted[1]\n",
    "tweets[\"city\"] = splitted[0]\n",
    "del splitted"
   ],
   "cell_type": "code",
   "metadata": {},
   "execution_count": null,
   "outputs": []
  },
  {
   "source": [
    "### LDA"
   ],
   "cell_type": "markdown",
   "metadata": {}
  },
  {
   "cell_type": "code",
   "execution_count": 37,
   "metadata": {},
   "outputs": [],
   "source": [
    "# Importing Gensim\n",
    "import gensim\n",
    "from gensim import corpora\n",
    "\n",
    "#Tokens\n",
    "#tokens = tweets['token']\n",
    "\n",
    "# Creating the term dictionary of our courpus, where every unique term is assigned an index\n",
    "dictionary = gensim.corpora.Dictionary(tweets['token'])\n",
    "\n",
    "# Converting list of documents (corpus) into Document Term Matrix using dictionary prepared above.\n",
    "doc_term_matrix = [dictionary.doc2bow(tweet) for tweet in tweets['token']]"
   ]
  },
  {
   "cell_type": "code",
   "execution_count": 48,
   "metadata": {},
   "outputs": [],
   "source": [
    "# Creating the object for LDA model using gensim library\n",
    "Lda = gensim.models.ldamodel.LdaModel\n",
    "\n",
    "# Running and Trainign LDA model on the document term matrix.\n",
    "ldamodel = Lda(doc_term_matrix, num_topics=2, id2word = dictionary, passes=5)"
   ]
  },
  {
   "cell_type": "code",
   "execution_count": 56,
   "metadata": {},
   "outputs": [
    {
     "output_type": "stream",
     "name": "stdout",
     "text": [
      "Topic 0 -> (0, '0.091*\"blacklivesmatter\" + 0.016*\"blm\" + 0.009*\"georgefloyd\" + 0.008*\"protest\" + 0.006*\"defundthepolice\"')\nTopic 1 -> (1, '0.041*\"blacklivesmatter\" + 0.014*\"black\" + 0.009*\"amp\" + 0.008*\"people\" + 0.007*\"police\"')\n"
     ]
    }
   ],
   "source": [
    "# Print 2 topics and describe then with 4 words.\n",
    "topics = ldamodel.print_topics(num_topics=2, num_words=5)\n",
    "\n",
    "i=0\n",
    "for topic in topics:\n",
    "    print (\"Topic\",i ,\"->\", topic)\n",
    "    i+=1"
   ]
  },
  {
   "cell_type": "code",
   "execution_count": 93,
   "metadata": {},
   "outputs": [],
   "source": [
    "states = np.unique(tweets.state)\n",
    "dates = np.unique(tweets.created_at)\n",
    "\n",
    "tweets['topic1'] = 0\n",
    "tweets['topics2'] = 0\n",
    "\n",
    "for state in states:\n",
    "    for date in dates:\n",
    "        temp = tweets.loc[(tweets['state']==state) & (tweets['created_at']== date)]\n",
    "\n",
    "        doc_term_matrix = [dictionary.doc2bow(tweet) for tweet in temp['token']]\n",
    "\n",
    "        ldamodel = Lda(doc_term_matrix, num_topics=2, id2word = dictionary, passes=5)\n",
    "\n",
    "        topics = ldamodel.print_topics(num_topics=2, num_words=5)\n",
    "\n",
    "        tweets['topic1'].loc[(tweets['state']==state) & (tweets['created_at']== date)] = re.findall('\"([^\"]*)\"', topics[0][1])\n",
    "        tweets['topic2'].loc[(tweets['state']==state) & (tweets['created_at']== date)] = re.findall('\"([^\"]*)\"', topics[1][1])\n",
    "\n",
    "#tweets[['text', 'created_at']].groupby('created_at').head()"
   ]
  },
  {
   "cell_type": "code",
   "execution_count": 120,
   "metadata": {},
   "outputs": [],
   "source": [
    "def drop_BLM(x):\n",
    "    output = x[1:]\n",
    "    return output\n",
    "tweets['topic1'] = tweets['topic1'].map(drop_BLM)\n",
    "tweets['topic2'] = tweets['topic2'].map(drop_BLM)"
   ]
  },
  {
   "source": [
    "### sentiment analysis\n"
   ],
   "cell_type": "markdown",
   "metadata": {}
  },
  {
   "cell_type": "code",
   "execution_count": 106,
   "metadata": {},
   "outputs": [
    {
     "output_type": "stream",
     "name": "stderr",
     "text": [
      "[nltk_data] Downloading package vader_lexicon to\n[nltk_data]     /Users/sam/nltk_data...\n[nltk_data]   Package vader_lexicon is already up-to-date!\n"
     ]
    }
   ],
   "source": [
    "import nltk\n",
    "from nltk.sentiment.vader import SentimentIntensityAnalyzer\n",
    "nltk.download('vader_lexicon')\n",
    "analyser = SentimentIntensityAnalyzer()\n",
    "\n",
    "def sentiment_analyzer_scores(text):\n",
    "    score = analyser.polarity_scores(text)\n",
    "    return score['compound']"
   ]
  },
  {
   "source": [
    "tweets['sentiment'] = np.nan\n",
    "tweets['sentiment'] = tweets['text'].apply(sentiment_analyzer_scores)"
   ],
   "cell_type": "code",
   "metadata": {},
   "execution_count": null,
   "outputs": []
  },
  {
   "cell_type": "code",
   "execution_count": 109,
   "metadata": {},
   "outputs": [
    {
     "output_type": "execute_result",
     "data": {
      "text/plain": [
       "[Text(0, 0.5, '#Tweets'),\n",
       " Text(0.5, 0, 'Negative                Neutral                 Positive'),\n",
       " Text(0.5, 1.0, 'Tweets')]"
      ]
     },
     "metadata": {},
     "execution_count": 109
    },
    {
     "output_type": "display_data",
     "data": {
      "text/plain": "<Figure size 432x288 with 1 Axes>",
      "image/svg+xml": "<?xml version=\"1.0\" encoding=\"utf-8\" standalone=\"no\"?>\n<!DOCTYPE svg PUBLIC \"-//W3C//DTD SVG 1.1//EN\"\n  \"http://www.w3.org/Graphics/SVG/1.1/DTD/svg11.dtd\">\n<!-- Created with matplotlib (https://matplotlib.org/) -->\n<svg height=\"277.314375pt\" version=\"1.1\" viewBox=\"0 0 401.690625 277.314375\" width=\"401.690625pt\" xmlns=\"http://www.w3.org/2000/svg\" xmlns:xlink=\"http://www.w3.org/1999/xlink\">\n <defs>\n  <style type=\"text/css\">\n*{stroke-linecap:butt;stroke-linejoin:round;}\n  </style>\n </defs>\n <g id=\"figure_1\">\n  <g id=\"patch_1\">\n   <path d=\"M 0 277.314375 \nL 401.690625 277.314375 \nL 401.690625 0 \nL 0 0 \nz\n\" style=\"fill:none;\"/>\n  </g>\n  <g id=\"axes_1\">\n   <g id=\"patch_2\">\n    <path d=\"M 59.690625 239.758125 \nL 394.490625 239.758125 \nL 394.490625 22.318125 \nL 59.690625 22.318125 \nz\n\" style=\"fill:#ffffff;\"/>\n   </g>\n   <g id=\"patch_3\">\n    <path clip-path=\"url(#pdbd9eab18a)\" d=\"M 74.908807 239.758125 \nL 118.389326 239.758125 \nL 118.389326 188.440832 \nL 74.908807 188.440832 \nz\n\" style=\"fill:#1f77b4;opacity:0.4;\"/>\n   </g>\n   <g id=\"patch_4\">\n    <path clip-path=\"url(#pdbd9eab18a)\" d=\"M 118.389326 239.758125 \nL 161.869846 239.758125 \nL 161.869846 185.676183 \nL 118.389326 185.676183 \nz\n\" style=\"fill:#1f77b4;opacity:0.4;\"/>\n   </g>\n   <g id=\"patch_5\">\n    <path clip-path=\"url(#pdbd9eab18a)\" d=\"M 161.869846 239.758125 \nL 205.350365 239.758125 \nL 205.350365 195.922114 \nL 161.869846 195.922114 \nz\n\" style=\"fill:#1f77b4;opacity:0.4;\"/>\n   </g>\n   <g id=\"patch_6\">\n    <path clip-path=\"url(#pdbd9eab18a)\" d=\"M 205.350365 239.758125 \nL 248.830885 239.758125 \nL 248.830885 32.672411 \nL 205.350365 32.672411 \nz\n\" style=\"fill:#1f77b4;opacity:0.4;\"/>\n   </g>\n   <g id=\"patch_7\">\n    <path clip-path=\"url(#pdbd9eab18a)\" d=\"M 248.830885 239.758125 \nL 292.311404 239.758125 \nL 292.311404 187.938893 \nL 248.830885 187.938893 \nz\n\" style=\"fill:#1f77b4;opacity:0.4;\"/>\n   </g>\n   <g id=\"patch_8\">\n    <path clip-path=\"url(#pdbd9eab18a)\" d=\"M 292.311404 239.758125 \nL 335.791924 239.758125 \nL 335.791924 163.558996 \nL 292.311404 163.558996 \nz\n\" style=\"fill:#1f77b4;opacity:0.4;\"/>\n   </g>\n   <g id=\"patch_9\">\n    <path clip-path=\"url(#pdbd9eab18a)\" d=\"M 335.791924 239.758125 \nL 379.272443 239.758125 \nL 379.272443 190.695574 \nL 335.791924 190.695574 \nz\n\" style=\"fill:#1f77b4;opacity:0.4;\"/>\n   </g>\n   <g id=\"matplotlib.axis_1\">\n    <g id=\"xtick_1\">\n     <g id=\"line2d_1\">\n      <defs>\n       <path d=\"M 0 0 \nL 0 3.5 \n\" id=\"m5adf5c9058\" style=\"stroke:#000000;stroke-width:0.8;\"/>\n      </defs>\n      <g>\n       <use style=\"stroke:#000000;stroke-width:0.8;\" x=\"74.097864\" xlink:href=\"#m5adf5c9058\" y=\"239.758125\"/>\n      </g>\n     </g>\n     <g id=\"text_1\">\n      <!-- −1.00 -->\n      <defs>\n       <path d=\"M 10.59375 35.5 \nL 73.1875 35.5 \nL 73.1875 27.203125 \nL 10.59375 27.203125 \nz\n\" id=\"DejaVuSans-8722\"/>\n       <path d=\"M 12.40625 8.296875 \nL 28.515625 8.296875 \nL 28.515625 63.921875 \nL 10.984375 60.40625 \nL 10.984375 69.390625 \nL 28.421875 72.90625 \nL 38.28125 72.90625 \nL 38.28125 8.296875 \nL 54.390625 8.296875 \nL 54.390625 0 \nL 12.40625 0 \nz\n\" id=\"DejaVuSans-49\"/>\n       <path d=\"M 10.6875 12.40625 \nL 21 12.40625 \nL 21 0 \nL 10.6875 0 \nz\n\" id=\"DejaVuSans-46\"/>\n       <path d=\"M 31.78125 66.40625 \nQ 24.171875 66.40625 20.328125 58.90625 \nQ 16.5 51.421875 16.5 36.375 \nQ 16.5 21.390625 20.328125 13.890625 \nQ 24.171875 6.390625 31.78125 6.390625 \nQ 39.453125 6.390625 43.28125 13.890625 \nQ 47.125 21.390625 47.125 36.375 \nQ 47.125 51.421875 43.28125 58.90625 \nQ 39.453125 66.40625 31.78125 66.40625 \nz\nM 31.78125 74.21875 \nQ 44.046875 74.21875 50.515625 64.515625 \nQ 56.984375 54.828125 56.984375 36.375 \nQ 56.984375 17.96875 50.515625 8.265625 \nQ 44.046875 -1.421875 31.78125 -1.421875 \nQ 19.53125 -1.421875 13.0625 8.265625 \nQ 6.59375 17.96875 6.59375 36.375 \nQ 6.59375 54.828125 13.0625 64.515625 \nQ 19.53125 74.21875 31.78125 74.21875 \nz\n\" id=\"DejaVuSans-48\"/>\n      </defs>\n      <g transform=\"translate(58.775208 254.356562)scale(0.1 -0.1)\">\n       <use xlink:href=\"#DejaVuSans-8722\"/>\n       <use x=\"83.789062\" xlink:href=\"#DejaVuSans-49\"/>\n       <use x=\"147.412109\" xlink:href=\"#DejaVuSans-46\"/>\n       <use x=\"179.199219\" xlink:href=\"#DejaVuSans-48\"/>\n       <use x=\"242.822266\" xlink:href=\"#DejaVuSans-48\"/>\n      </g>\n     </g>\n    </g>\n    <g id=\"xtick_2\">\n     <g id=\"line2d_2\">\n      <g>\n       <use style=\"stroke:#000000;stroke-width:0.8;\" x=\"112.34988\" xlink:href=\"#m5adf5c9058\" y=\"239.758125\"/>\n      </g>\n     </g>\n     <g id=\"text_2\">\n      <!-- −0.75 -->\n      <defs>\n       <path d=\"M 8.203125 72.90625 \nL 55.078125 72.90625 \nL 55.078125 68.703125 \nL 28.609375 0 \nL 18.3125 0 \nL 43.21875 64.59375 \nL 8.203125 64.59375 \nz\n\" id=\"DejaVuSans-55\"/>\n       <path d=\"M 10.796875 72.90625 \nL 49.515625 72.90625 \nL 49.515625 64.59375 \nL 19.828125 64.59375 \nL 19.828125 46.734375 \nQ 21.96875 47.46875 24.109375 47.828125 \nQ 26.265625 48.1875 28.421875 48.1875 \nQ 40.625 48.1875 47.75 41.5 \nQ 54.890625 34.8125 54.890625 23.390625 \nQ 54.890625 11.625 47.5625 5.09375 \nQ 40.234375 -1.421875 26.90625 -1.421875 \nQ 22.3125 -1.421875 17.546875 -0.640625 \nQ 12.796875 0.140625 7.71875 1.703125 \nL 7.71875 11.625 \nQ 12.109375 9.234375 16.796875 8.0625 \nQ 21.484375 6.890625 26.703125 6.890625 \nQ 35.15625 6.890625 40.078125 11.328125 \nQ 45.015625 15.765625 45.015625 23.390625 \nQ 45.015625 31 40.078125 35.4375 \nQ 35.15625 39.890625 26.703125 39.890625 \nQ 22.75 39.890625 18.8125 39.015625 \nQ 14.890625 38.140625 10.796875 36.28125 \nz\n\" id=\"DejaVuSans-53\"/>\n      </defs>\n      <g transform=\"translate(97.027223 254.356562)scale(0.1 -0.1)\">\n       <use xlink:href=\"#DejaVuSans-8722\"/>\n       <use x=\"83.789062\" xlink:href=\"#DejaVuSans-48\"/>\n       <use x=\"147.412109\" xlink:href=\"#DejaVuSans-46\"/>\n       <use x=\"179.199219\" xlink:href=\"#DejaVuSans-55\"/>\n       <use x=\"242.822266\" xlink:href=\"#DejaVuSans-53\"/>\n      </g>\n     </g>\n    </g>\n    <g id=\"xtick_3\">\n     <g id=\"line2d_3\">\n      <g>\n       <use style=\"stroke:#000000;stroke-width:0.8;\" x=\"150.601895\" xlink:href=\"#m5adf5c9058\" y=\"239.758125\"/>\n      </g>\n     </g>\n     <g id=\"text_3\">\n      <!-- −0.50 -->\n      <g transform=\"translate(135.279239 254.356562)scale(0.1 -0.1)\">\n       <use xlink:href=\"#DejaVuSans-8722\"/>\n       <use x=\"83.789062\" xlink:href=\"#DejaVuSans-48\"/>\n       <use x=\"147.412109\" xlink:href=\"#DejaVuSans-46\"/>\n       <use x=\"179.199219\" xlink:href=\"#DejaVuSans-53\"/>\n       <use x=\"242.822266\" xlink:href=\"#DejaVuSans-48\"/>\n      </g>\n     </g>\n    </g>\n    <g id=\"xtick_4\">\n     <g id=\"line2d_4\">\n      <g>\n       <use style=\"stroke:#000000;stroke-width:0.8;\" x=\"188.85391\" xlink:href=\"#m5adf5c9058\" y=\"239.758125\"/>\n      </g>\n     </g>\n     <g id=\"text_4\">\n      <!-- −0.25 -->\n      <defs>\n       <path d=\"M 19.1875 8.296875 \nL 53.609375 8.296875 \nL 53.609375 0 \nL 7.328125 0 \nL 7.328125 8.296875 \nQ 12.9375 14.109375 22.625 23.890625 \nQ 32.328125 33.6875 34.8125 36.53125 \nQ 39.546875 41.84375 41.421875 45.53125 \nQ 43.3125 49.21875 43.3125 52.78125 \nQ 43.3125 58.59375 39.234375 62.25 \nQ 35.15625 65.921875 28.609375 65.921875 \nQ 23.96875 65.921875 18.8125 64.3125 \nQ 13.671875 62.703125 7.8125 59.421875 \nL 7.8125 69.390625 \nQ 13.765625 71.78125 18.9375 73 \nQ 24.125 74.21875 28.421875 74.21875 \nQ 39.75 74.21875 46.484375 68.546875 \nQ 53.21875 62.890625 53.21875 53.421875 \nQ 53.21875 48.921875 51.53125 44.890625 \nQ 49.859375 40.875 45.40625 35.40625 \nQ 44.1875 33.984375 37.640625 27.21875 \nQ 31.109375 20.453125 19.1875 8.296875 \nz\n\" id=\"DejaVuSans-50\"/>\n      </defs>\n      <g transform=\"translate(173.531254 254.356562)scale(0.1 -0.1)\">\n       <use xlink:href=\"#DejaVuSans-8722\"/>\n       <use x=\"83.789062\" xlink:href=\"#DejaVuSans-48\"/>\n       <use x=\"147.412109\" xlink:href=\"#DejaVuSans-46\"/>\n       <use x=\"179.199219\" xlink:href=\"#DejaVuSans-50\"/>\n       <use x=\"242.822266\" xlink:href=\"#DejaVuSans-53\"/>\n      </g>\n     </g>\n    </g>\n    <g id=\"xtick_5\">\n     <g id=\"line2d_5\">\n      <g>\n       <use style=\"stroke:#000000;stroke-width:0.8;\" x=\"227.105926\" xlink:href=\"#m5adf5c9058\" y=\"239.758125\"/>\n      </g>\n     </g>\n     <g id=\"text_5\">\n      <!-- 0.00 -->\n      <g transform=\"translate(215.973113 254.356562)scale(0.1 -0.1)\">\n       <use xlink:href=\"#DejaVuSans-48\"/>\n       <use x=\"63.623047\" xlink:href=\"#DejaVuSans-46\"/>\n       <use x=\"95.410156\" xlink:href=\"#DejaVuSans-48\"/>\n       <use x=\"159.033203\" xlink:href=\"#DejaVuSans-48\"/>\n      </g>\n     </g>\n    </g>\n    <g id=\"xtick_6\">\n     <g id=\"line2d_6\">\n      <g>\n       <use style=\"stroke:#000000;stroke-width:0.8;\" x=\"265.357941\" xlink:href=\"#m5adf5c9058\" y=\"239.758125\"/>\n      </g>\n     </g>\n     <g id=\"text_6\">\n      <!-- 0.25 -->\n      <g transform=\"translate(254.225129 254.356562)scale(0.1 -0.1)\">\n       <use xlink:href=\"#DejaVuSans-48\"/>\n       <use x=\"63.623047\" xlink:href=\"#DejaVuSans-46\"/>\n       <use x=\"95.410156\" xlink:href=\"#DejaVuSans-50\"/>\n       <use x=\"159.033203\" xlink:href=\"#DejaVuSans-53\"/>\n      </g>\n     </g>\n    </g>\n    <g id=\"xtick_7\">\n     <g id=\"line2d_7\">\n      <g>\n       <use style=\"stroke:#000000;stroke-width:0.8;\" x=\"303.609957\" xlink:href=\"#m5adf5c9058\" y=\"239.758125\"/>\n      </g>\n     </g>\n     <g id=\"text_7\">\n      <!-- 0.50 -->\n      <g transform=\"translate(292.477144 254.356562)scale(0.1 -0.1)\">\n       <use xlink:href=\"#DejaVuSans-48\"/>\n       <use x=\"63.623047\" xlink:href=\"#DejaVuSans-46\"/>\n       <use x=\"95.410156\" xlink:href=\"#DejaVuSans-53\"/>\n       <use x=\"159.033203\" xlink:href=\"#DejaVuSans-48\"/>\n      </g>\n     </g>\n    </g>\n    <g id=\"xtick_8\">\n     <g id=\"line2d_8\">\n      <g>\n       <use style=\"stroke:#000000;stroke-width:0.8;\" x=\"341.861972\" xlink:href=\"#m5adf5c9058\" y=\"239.758125\"/>\n      </g>\n     </g>\n     <g id=\"text_8\">\n      <!-- 0.75 -->\n      <g transform=\"translate(330.72916 254.356562)scale(0.1 -0.1)\">\n       <use xlink:href=\"#DejaVuSans-48\"/>\n       <use x=\"63.623047\" xlink:href=\"#DejaVuSans-46\"/>\n       <use x=\"95.410156\" xlink:href=\"#DejaVuSans-55\"/>\n       <use x=\"159.033203\" xlink:href=\"#DejaVuSans-53\"/>\n      </g>\n     </g>\n    </g>\n    <g id=\"xtick_9\">\n     <g id=\"line2d_9\">\n      <g>\n       <use style=\"stroke:#000000;stroke-width:0.8;\" x=\"380.113988\" xlink:href=\"#m5adf5c9058\" y=\"239.758125\"/>\n      </g>\n     </g>\n     <g id=\"text_9\">\n      <!-- 1.00 -->\n      <g transform=\"translate(368.981175 254.356562)scale(0.1 -0.1)\">\n       <use xlink:href=\"#DejaVuSans-49\"/>\n       <use x=\"63.623047\" xlink:href=\"#DejaVuSans-46\"/>\n       <use x=\"95.410156\" xlink:href=\"#DejaVuSans-48\"/>\n       <use x=\"159.033203\" xlink:href=\"#DejaVuSans-48\"/>\n      </g>\n     </g>\n    </g>\n    <g id=\"text_10\">\n     <!-- Negative                Neutral                 Positive -->\n     <defs>\n      <path d=\"M 9.8125 72.90625 \nL 23.09375 72.90625 \nL 55.421875 11.921875 \nL 55.421875 72.90625 \nL 64.984375 72.90625 \nL 64.984375 0 \nL 51.703125 0 \nL 19.390625 60.984375 \nL 19.390625 0 \nL 9.8125 0 \nz\n\" id=\"DejaVuSans-78\"/>\n      <path d=\"M 56.203125 29.59375 \nL 56.203125 25.203125 \nL 14.890625 25.203125 \nQ 15.484375 15.921875 20.484375 11.0625 \nQ 25.484375 6.203125 34.421875 6.203125 \nQ 39.59375 6.203125 44.453125 7.46875 \nQ 49.3125 8.734375 54.109375 11.28125 \nL 54.109375 2.78125 \nQ 49.265625 0.734375 44.1875 -0.34375 \nQ 39.109375 -1.421875 33.890625 -1.421875 \nQ 20.796875 -1.421875 13.15625 6.1875 \nQ 5.515625 13.8125 5.515625 26.8125 \nQ 5.515625 40.234375 12.765625 48.109375 \nQ 20.015625 56 32.328125 56 \nQ 43.359375 56 49.78125 48.890625 \nQ 56.203125 41.796875 56.203125 29.59375 \nz\nM 47.21875 32.234375 \nQ 47.125 39.59375 43.09375 43.984375 \nQ 39.0625 48.390625 32.421875 48.390625 \nQ 24.90625 48.390625 20.390625 44.140625 \nQ 15.875 39.890625 15.1875 32.171875 \nz\n\" id=\"DejaVuSans-101\"/>\n      <path d=\"M 45.40625 27.984375 \nQ 45.40625 37.75 41.375 43.109375 \nQ 37.359375 48.484375 30.078125 48.484375 \nQ 22.859375 48.484375 18.828125 43.109375 \nQ 14.796875 37.75 14.796875 27.984375 \nQ 14.796875 18.265625 18.828125 12.890625 \nQ 22.859375 7.515625 30.078125 7.515625 \nQ 37.359375 7.515625 41.375 12.890625 \nQ 45.40625 18.265625 45.40625 27.984375 \nz\nM 54.390625 6.78125 \nQ 54.390625 -7.171875 48.1875 -13.984375 \nQ 42 -20.796875 29.203125 -20.796875 \nQ 24.46875 -20.796875 20.265625 -20.09375 \nQ 16.0625 -19.390625 12.109375 -17.921875 \nL 12.109375 -9.1875 \nQ 16.0625 -11.328125 19.921875 -12.34375 \nQ 23.78125 -13.375 27.78125 -13.375 \nQ 36.625 -13.375 41.015625 -8.765625 \nQ 45.40625 -4.15625 45.40625 5.171875 \nL 45.40625 9.625 \nQ 42.625 4.78125 38.28125 2.390625 \nQ 33.9375 0 27.875 0 \nQ 17.828125 0 11.671875 7.65625 \nQ 5.515625 15.328125 5.515625 27.984375 \nQ 5.515625 40.671875 11.671875 48.328125 \nQ 17.828125 56 27.875 56 \nQ 33.9375 56 38.28125 53.609375 \nQ 42.625 51.21875 45.40625 46.390625 \nL 45.40625 54.6875 \nL 54.390625 54.6875 \nz\n\" id=\"DejaVuSans-103\"/>\n      <path d=\"M 34.28125 27.484375 \nQ 23.390625 27.484375 19.1875 25 \nQ 14.984375 22.515625 14.984375 16.5 \nQ 14.984375 11.71875 18.140625 8.90625 \nQ 21.296875 6.109375 26.703125 6.109375 \nQ 34.1875 6.109375 38.703125 11.40625 \nQ 43.21875 16.703125 43.21875 25.484375 \nL 43.21875 27.484375 \nz\nM 52.203125 31.203125 \nL 52.203125 0 \nL 43.21875 0 \nL 43.21875 8.296875 \nQ 40.140625 3.328125 35.546875 0.953125 \nQ 30.953125 -1.421875 24.3125 -1.421875 \nQ 15.921875 -1.421875 10.953125 3.296875 \nQ 6 8.015625 6 15.921875 \nQ 6 25.140625 12.171875 29.828125 \nQ 18.359375 34.515625 30.609375 34.515625 \nL 43.21875 34.515625 \nL 43.21875 35.40625 \nQ 43.21875 41.609375 39.140625 45 \nQ 35.0625 48.390625 27.6875 48.390625 \nQ 23 48.390625 18.546875 47.265625 \nQ 14.109375 46.140625 10.015625 43.890625 \nL 10.015625 52.203125 \nQ 14.9375 54.109375 19.578125 55.046875 \nQ 24.21875 56 28.609375 56 \nQ 40.484375 56 46.34375 49.84375 \nQ 52.203125 43.703125 52.203125 31.203125 \nz\n\" id=\"DejaVuSans-97\"/>\n      <path d=\"M 18.3125 70.21875 \nL 18.3125 54.6875 \nL 36.8125 54.6875 \nL 36.8125 47.703125 \nL 18.3125 47.703125 \nL 18.3125 18.015625 \nQ 18.3125 11.328125 20.140625 9.421875 \nQ 21.96875 7.515625 27.59375 7.515625 \nL 36.8125 7.515625 \nL 36.8125 0 \nL 27.59375 0 \nQ 17.1875 0 13.234375 3.875 \nQ 9.28125 7.765625 9.28125 18.015625 \nL 9.28125 47.703125 \nL 2.6875 47.703125 \nL 2.6875 54.6875 \nL 9.28125 54.6875 \nL 9.28125 70.21875 \nz\n\" id=\"DejaVuSans-116\"/>\n      <path d=\"M 9.421875 54.6875 \nL 18.40625 54.6875 \nL 18.40625 0 \nL 9.421875 0 \nz\nM 9.421875 75.984375 \nL 18.40625 75.984375 \nL 18.40625 64.59375 \nL 9.421875 64.59375 \nz\n\" id=\"DejaVuSans-105\"/>\n      <path d=\"M 2.984375 54.6875 \nL 12.5 54.6875 \nL 29.59375 8.796875 \nL 46.6875 54.6875 \nL 56.203125 54.6875 \nL 35.6875 0 \nL 23.484375 0 \nz\n\" id=\"DejaVuSans-118\"/>\n      <path id=\"DejaVuSans-32\"/>\n      <path d=\"M 8.5 21.578125 \nL 8.5 54.6875 \nL 17.484375 54.6875 \nL 17.484375 21.921875 \nQ 17.484375 14.15625 20.5 10.265625 \nQ 23.53125 6.390625 29.59375 6.390625 \nQ 36.859375 6.390625 41.078125 11.03125 \nQ 45.3125 15.671875 45.3125 23.6875 \nL 45.3125 54.6875 \nL 54.296875 54.6875 \nL 54.296875 0 \nL 45.3125 0 \nL 45.3125 8.40625 \nQ 42.046875 3.421875 37.71875 1 \nQ 33.40625 -1.421875 27.6875 -1.421875 \nQ 18.265625 -1.421875 13.375 4.4375 \nQ 8.5 10.296875 8.5 21.578125 \nz\nM 31.109375 56 \nz\n\" id=\"DejaVuSans-117\"/>\n      <path d=\"M 41.109375 46.296875 \nQ 39.59375 47.171875 37.8125 47.578125 \nQ 36.03125 48 33.890625 48 \nQ 26.265625 48 22.1875 43.046875 \nQ 18.109375 38.09375 18.109375 28.8125 \nL 18.109375 0 \nL 9.078125 0 \nL 9.078125 54.6875 \nL 18.109375 54.6875 \nL 18.109375 46.1875 \nQ 20.953125 51.171875 25.484375 53.578125 \nQ 30.03125 56 36.53125 56 \nQ 37.453125 56 38.578125 55.875 \nQ 39.703125 55.765625 41.0625 55.515625 \nz\n\" id=\"DejaVuSans-114\"/>\n      <path d=\"M 9.421875 75.984375 \nL 18.40625 75.984375 \nL 18.40625 0 \nL 9.421875 0 \nz\n\" id=\"DejaVuSans-108\"/>\n      <path d=\"M 19.671875 64.796875 \nL 19.671875 37.40625 \nL 32.078125 37.40625 \nQ 38.96875 37.40625 42.71875 40.96875 \nQ 46.484375 44.53125 46.484375 51.125 \nQ 46.484375 57.671875 42.71875 61.234375 \nQ 38.96875 64.796875 32.078125 64.796875 \nz\nM 9.8125 72.90625 \nL 32.078125 72.90625 \nQ 44.34375 72.90625 50.609375 67.359375 \nQ 56.890625 61.8125 56.890625 51.125 \nQ 56.890625 40.328125 50.609375 34.8125 \nQ 44.34375 29.296875 32.078125 29.296875 \nL 19.671875 29.296875 \nL 19.671875 0 \nL 9.8125 0 \nz\n\" id=\"DejaVuSans-80\"/>\n      <path d=\"M 30.609375 48.390625 \nQ 23.390625 48.390625 19.1875 42.75 \nQ 14.984375 37.109375 14.984375 27.296875 \nQ 14.984375 17.484375 19.15625 11.84375 \nQ 23.34375 6.203125 30.609375 6.203125 \nQ 37.796875 6.203125 41.984375 11.859375 \nQ 46.1875 17.53125 46.1875 27.296875 \nQ 46.1875 37.015625 41.984375 42.703125 \nQ 37.796875 48.390625 30.609375 48.390625 \nz\nM 30.609375 56 \nQ 42.328125 56 49.015625 48.375 \nQ 55.71875 40.765625 55.71875 27.296875 \nQ 55.71875 13.875 49.015625 6.21875 \nQ 42.328125 -1.421875 30.609375 -1.421875 \nQ 18.84375 -1.421875 12.171875 6.21875 \nQ 5.515625 13.875 5.515625 27.296875 \nQ 5.515625 40.765625 12.171875 48.375 \nQ 18.84375 56 30.609375 56 \nz\n\" id=\"DejaVuSans-111\"/>\n      <path d=\"M 44.28125 53.078125 \nL 44.28125 44.578125 \nQ 40.484375 46.53125 36.375 47.5 \nQ 32.28125 48.484375 27.875 48.484375 \nQ 21.1875 48.484375 17.84375 46.4375 \nQ 14.5 44.390625 14.5 40.28125 \nQ 14.5 37.15625 16.890625 35.375 \nQ 19.28125 33.59375 26.515625 31.984375 \nL 29.59375 31.296875 \nQ 39.15625 29.25 43.1875 25.515625 \nQ 47.21875 21.78125 47.21875 15.09375 \nQ 47.21875 7.46875 41.1875 3.015625 \nQ 35.15625 -1.421875 24.609375 -1.421875 \nQ 20.21875 -1.421875 15.453125 -0.5625 \nQ 10.6875 0.296875 5.421875 2 \nL 5.421875 11.28125 \nQ 10.40625 8.6875 15.234375 7.390625 \nQ 20.0625 6.109375 24.8125 6.109375 \nQ 31.15625 6.109375 34.5625 8.28125 \nQ 37.984375 10.453125 37.984375 14.40625 \nQ 37.984375 18.0625 35.515625 20.015625 \nQ 33.0625 21.96875 24.703125 23.78125 \nL 21.578125 24.515625 \nQ 13.234375 26.265625 9.515625 29.90625 \nQ 5.8125 33.546875 5.8125 39.890625 \nQ 5.8125 47.609375 11.28125 51.796875 \nQ 16.75 56 26.8125 56 \nQ 31.78125 56 36.171875 55.265625 \nQ 40.578125 54.546875 44.28125 53.078125 \nz\n\" id=\"DejaVuSans-115\"/>\n     </defs>\n     <g transform=\"translate(114.305469 268.034687)scale(0.1 -0.1)\">\n      <use xlink:href=\"#DejaVuSans-78\"/>\n      <use x=\"74.804688\" xlink:href=\"#DejaVuSans-101\"/>\n      <use x=\"136.328125\" xlink:href=\"#DejaVuSans-103\"/>\n      <use x=\"199.804688\" xlink:href=\"#DejaVuSans-97\"/>\n      <use x=\"261.083984\" xlink:href=\"#DejaVuSans-116\"/>\n      <use x=\"300.292969\" xlink:href=\"#DejaVuSans-105\"/>\n      <use x=\"328.076172\" xlink:href=\"#DejaVuSans-118\"/>\n      <use x=\"387.255859\" xlink:href=\"#DejaVuSans-101\"/>\n      <use x=\"448.779297\" xlink:href=\"#DejaVuSans-32\"/>\n      <use x=\"480.566406\" xlink:href=\"#DejaVuSans-32\"/>\n      <use x=\"512.353516\" xlink:href=\"#DejaVuSans-32\"/>\n      <use x=\"544.140625\" xlink:href=\"#DejaVuSans-32\"/>\n      <use x=\"575.927734\" xlink:href=\"#DejaVuSans-32\"/>\n      <use x=\"607.714844\" xlink:href=\"#DejaVuSans-32\"/>\n      <use x=\"639.501953\" xlink:href=\"#DejaVuSans-32\"/>\n      <use x=\"671.289062\" xlink:href=\"#DejaVuSans-32\"/>\n      <use x=\"703.076172\" xlink:href=\"#DejaVuSans-32\"/>\n      <use x=\"734.863281\" xlink:href=\"#DejaVuSans-32\"/>\n      <use x=\"766.650391\" xlink:href=\"#DejaVuSans-32\"/>\n      <use x=\"798.4375\" xlink:href=\"#DejaVuSans-32\"/>\n      <use x=\"830.224609\" xlink:href=\"#DejaVuSans-32\"/>\n      <use x=\"862.011719\" xlink:href=\"#DejaVuSans-32\"/>\n      <use x=\"893.798828\" xlink:href=\"#DejaVuSans-32\"/>\n      <use x=\"925.585938\" xlink:href=\"#DejaVuSans-32\"/>\n      <use x=\"957.373047\" xlink:href=\"#DejaVuSans-78\"/>\n      <use x=\"1032.177734\" xlink:href=\"#DejaVuSans-101\"/>\n      <use x=\"1093.701172\" xlink:href=\"#DejaVuSans-117\"/>\n      <use x=\"1157.080078\" xlink:href=\"#DejaVuSans-116\"/>\n      <use x=\"1196.289062\" xlink:href=\"#DejaVuSans-114\"/>\n      <use x=\"1237.402344\" xlink:href=\"#DejaVuSans-97\"/>\n      <use x=\"1298.681641\" xlink:href=\"#DejaVuSans-108\"/>\n      <use x=\"1326.464844\" xlink:href=\"#DejaVuSans-32\"/>\n      <use x=\"1358.251953\" xlink:href=\"#DejaVuSans-32\"/>\n      <use x=\"1390.039062\" xlink:href=\"#DejaVuSans-32\"/>\n      <use x=\"1421.826172\" xlink:href=\"#DejaVuSans-32\"/>\n      <use x=\"1453.613281\" xlink:href=\"#DejaVuSans-32\"/>\n      <use x=\"1485.400391\" xlink:href=\"#DejaVuSans-32\"/>\n      <use x=\"1517.1875\" xlink:href=\"#DejaVuSans-32\"/>\n      <use x=\"1548.974609\" xlink:href=\"#DejaVuSans-32\"/>\n      <use x=\"1580.761719\" xlink:href=\"#DejaVuSans-32\"/>\n      <use x=\"1612.548828\" xlink:href=\"#DejaVuSans-32\"/>\n      <use x=\"1644.335938\" xlink:href=\"#DejaVuSans-32\"/>\n      <use x=\"1676.123047\" xlink:href=\"#DejaVuSans-32\"/>\n      <use x=\"1707.910156\" xlink:href=\"#DejaVuSans-32\"/>\n      <use x=\"1739.697266\" xlink:href=\"#DejaVuSans-32\"/>\n      <use x=\"1771.484375\" xlink:href=\"#DejaVuSans-32\"/>\n      <use x=\"1803.271484\" xlink:href=\"#DejaVuSans-32\"/>\n      <use x=\"1835.058594\" xlink:href=\"#DejaVuSans-32\"/>\n      <use x=\"1866.845703\" xlink:href=\"#DejaVuSans-80\"/>\n      <use x=\"1927.101562\" xlink:href=\"#DejaVuSans-111\"/>\n      <use x=\"1988.283203\" xlink:href=\"#DejaVuSans-115\"/>\n      <use x=\"2040.382812\" xlink:href=\"#DejaVuSans-105\"/>\n      <use x=\"2068.166016\" xlink:href=\"#DejaVuSans-116\"/>\n      <use x=\"2107.375\" xlink:href=\"#DejaVuSans-105\"/>\n      <use x=\"2135.158203\" xlink:href=\"#DejaVuSans-118\"/>\n      <use x=\"2194.337891\" xlink:href=\"#DejaVuSans-101\"/>\n     </g>\n    </g>\n   </g>\n   <g id=\"matplotlib.axis_2\">\n    <g id=\"ytick_1\">\n     <g id=\"line2d_10\">\n      <defs>\n       <path d=\"M 0 0 \nL -3.5 0 \n\" id=\"mbb18a54efe\" style=\"stroke:#000000;stroke-width:0.8;\"/>\n      </defs>\n      <g>\n       <use style=\"stroke:#000000;stroke-width:0.8;\" x=\"59.690625\" xlink:href=\"#mbb18a54efe\" y=\"239.758125\"/>\n      </g>\n     </g>\n     <g id=\"text_11\">\n      <!-- 0 -->\n      <g transform=\"translate(46.328125 243.557344)scale(0.1 -0.1)\">\n       <use xlink:href=\"#DejaVuSans-48\"/>\n      </g>\n     </g>\n    </g>\n    <g id=\"ytick_2\">\n     <g id=\"line2d_11\">\n      <g>\n       <use style=\"stroke:#000000;stroke-width:0.8;\" x=\"59.690625\" xlink:href=\"#mbb18a54efe\" y=\"199.921692\"/>\n      </g>\n     </g>\n     <g id=\"text_12\">\n      <!-- 5000 -->\n      <g transform=\"translate(27.240625 203.720911)scale(0.1 -0.1)\">\n       <use xlink:href=\"#DejaVuSans-53\"/>\n       <use x=\"63.623047\" xlink:href=\"#DejaVuSans-48\"/>\n       <use x=\"127.246094\" xlink:href=\"#DejaVuSans-48\"/>\n       <use x=\"190.869141\" xlink:href=\"#DejaVuSans-48\"/>\n      </g>\n     </g>\n    </g>\n    <g id=\"ytick_3\">\n     <g id=\"line2d_12\">\n      <g>\n       <use style=\"stroke:#000000;stroke-width:0.8;\" x=\"59.690625\" xlink:href=\"#mbb18a54efe\" y=\"160.085259\"/>\n      </g>\n     </g>\n     <g id=\"text_13\">\n      <!-- 10000 -->\n      <g transform=\"translate(20.878125 163.884477)scale(0.1 -0.1)\">\n       <use xlink:href=\"#DejaVuSans-49\"/>\n       <use x=\"63.623047\" xlink:href=\"#DejaVuSans-48\"/>\n       <use x=\"127.246094\" xlink:href=\"#DejaVuSans-48\"/>\n       <use x=\"190.869141\" xlink:href=\"#DejaVuSans-48\"/>\n       <use x=\"254.492188\" xlink:href=\"#DejaVuSans-48\"/>\n      </g>\n     </g>\n    </g>\n    <g id=\"ytick_4\">\n     <g id=\"line2d_13\">\n      <g>\n       <use style=\"stroke:#000000;stroke-width:0.8;\" x=\"59.690625\" xlink:href=\"#mbb18a54efe\" y=\"120.248825\"/>\n      </g>\n     </g>\n     <g id=\"text_14\">\n      <!-- 15000 -->\n      <g transform=\"translate(20.878125 124.048044)scale(0.1 -0.1)\">\n       <use xlink:href=\"#DejaVuSans-49\"/>\n       <use x=\"63.623047\" xlink:href=\"#DejaVuSans-53\"/>\n       <use x=\"127.246094\" xlink:href=\"#DejaVuSans-48\"/>\n       <use x=\"190.869141\" xlink:href=\"#DejaVuSans-48\"/>\n       <use x=\"254.492188\" xlink:href=\"#DejaVuSans-48\"/>\n      </g>\n     </g>\n    </g>\n    <g id=\"ytick_5\">\n     <g id=\"line2d_14\">\n      <g>\n       <use style=\"stroke:#000000;stroke-width:0.8;\" x=\"59.690625\" xlink:href=\"#mbb18a54efe\" y=\"80.412392\"/>\n      </g>\n     </g>\n     <g id=\"text_15\">\n      <!-- 20000 -->\n      <g transform=\"translate(20.878125 84.211611)scale(0.1 -0.1)\">\n       <use xlink:href=\"#DejaVuSans-50\"/>\n       <use x=\"63.623047\" xlink:href=\"#DejaVuSans-48\"/>\n       <use x=\"127.246094\" xlink:href=\"#DejaVuSans-48\"/>\n       <use x=\"190.869141\" xlink:href=\"#DejaVuSans-48\"/>\n       <use x=\"254.492188\" xlink:href=\"#DejaVuSans-48\"/>\n      </g>\n     </g>\n    </g>\n    <g id=\"ytick_6\">\n     <g id=\"line2d_15\">\n      <g>\n       <use style=\"stroke:#000000;stroke-width:0.8;\" x=\"59.690625\" xlink:href=\"#mbb18a54efe\" y=\"40.575959\"/>\n      </g>\n     </g>\n     <g id=\"text_16\">\n      <!-- 25000 -->\n      <g transform=\"translate(20.878125 44.375178)scale(0.1 -0.1)\">\n       <use xlink:href=\"#DejaVuSans-50\"/>\n       <use x=\"63.623047\" xlink:href=\"#DejaVuSans-53\"/>\n       <use x=\"127.246094\" xlink:href=\"#DejaVuSans-48\"/>\n       <use x=\"190.869141\" xlink:href=\"#DejaVuSans-48\"/>\n       <use x=\"254.492188\" xlink:href=\"#DejaVuSans-48\"/>\n      </g>\n     </g>\n    </g>\n    <g id=\"text_17\">\n     <!-- #Tweets -->\n     <defs>\n      <path d=\"M 51.125 44 \nL 36.921875 44 \nL 32.8125 27.6875 \nL 47.125 27.6875 \nz\nM 43.796875 71.78125 \nL 38.71875 51.515625 \nL 52.984375 51.515625 \nL 58.109375 71.78125 \nL 65.921875 71.78125 \nL 60.890625 51.515625 \nL 76.125 51.515625 \nL 76.125 44 \nL 58.984375 44 \nL 54.984375 27.6875 \nL 70.515625 27.6875 \nL 70.515625 20.21875 \nL 53.078125 20.21875 \nL 48 0 \nL 40.1875 0 \nL 45.21875 20.21875 \nL 30.90625 20.21875 \nL 25.875 0 \nL 18.015625 0 \nL 23.09375 20.21875 \nL 7.71875 20.21875 \nL 7.71875 27.6875 \nL 24.90625 27.6875 \nL 29 44 \nL 13.28125 44 \nL 13.28125 51.515625 \nL 30.90625 51.515625 \nL 35.890625 71.78125 \nz\n\" id=\"DejaVuSans-35\"/>\n      <path d=\"M -0.296875 72.90625 \nL 61.375 72.90625 \nL 61.375 64.59375 \nL 35.5 64.59375 \nL 35.5 0 \nL 25.59375 0 \nL 25.59375 64.59375 \nL -0.296875 64.59375 \nz\n\" id=\"DejaVuSans-84\"/>\n      <path d=\"M 4.203125 54.6875 \nL 13.1875 54.6875 \nL 24.421875 12.015625 \nL 35.59375 54.6875 \nL 46.1875 54.6875 \nL 57.421875 12.015625 \nL 68.609375 54.6875 \nL 77.59375 54.6875 \nL 63.28125 0 \nL 52.6875 0 \nL 40.921875 44.828125 \nL 29.109375 0 \nL 18.5 0 \nz\n\" id=\"DejaVuSans-119\"/>\n     </defs>\n     <g transform=\"translate(14.798438 153.076406)rotate(-90)scale(0.1 -0.1)\">\n      <use xlink:href=\"#DejaVuSans-35\"/>\n      <use x=\"83.789062\" xlink:href=\"#DejaVuSans-84\"/>\n      <use x=\"144.623047\" xlink:href=\"#DejaVuSans-119\"/>\n      <use x=\"226.410156\" xlink:href=\"#DejaVuSans-101\"/>\n      <use x=\"287.933594\" xlink:href=\"#DejaVuSans-101\"/>\n      <use x=\"349.457031\" xlink:href=\"#DejaVuSans-116\"/>\n      <use x=\"388.666016\" xlink:href=\"#DejaVuSans-115\"/>\n     </g>\n    </g>\n   </g>\n   <g id=\"patch_10\">\n    <path d=\"M 59.690625 239.758125 \nL 59.690625 22.318125 \n\" style=\"fill:none;stroke:#000000;stroke-linecap:square;stroke-linejoin:miter;stroke-width:0.8;\"/>\n   </g>\n   <g id=\"patch_11\">\n    <path d=\"M 394.490625 239.758125 \nL 394.490625 22.318125 \n\" style=\"fill:none;stroke:#000000;stroke-linecap:square;stroke-linejoin:miter;stroke-width:0.8;\"/>\n   </g>\n   <g id=\"patch_12\">\n    <path d=\"M 59.690625 239.758125 \nL 394.490625 239.758125 \n\" style=\"fill:none;stroke:#000000;stroke-linecap:square;stroke-linejoin:miter;stroke-width:0.8;\"/>\n   </g>\n   <g id=\"patch_13\">\n    <path d=\"M 59.690625 22.318125 \nL 394.490625 22.318125 \n\" style=\"fill:none;stroke:#000000;stroke-linecap:square;stroke-linejoin:miter;stroke-width:0.8;\"/>\n   </g>\n   <g id=\"text_18\">\n    <!-- Tweets -->\n    <g transform=\"translate(205.6725 16.318125)scale(0.12 -0.12)\">\n     <use xlink:href=\"#DejaVuSans-84\"/>\n     <use x=\"60.833984\" xlink:href=\"#DejaVuSans-119\"/>\n     <use x=\"142.621094\" xlink:href=\"#DejaVuSans-101\"/>\n     <use x=\"204.144531\" xlink:href=\"#DejaVuSans-101\"/>\n     <use x=\"265.667969\" xlink:href=\"#DejaVuSans-116\"/>\n     <use x=\"304.876953\" xlink:href=\"#DejaVuSans-115\"/>\n    </g>\n   </g>\n  </g>\n </g>\n <defs>\n  <clipPath id=\"pdbd9eab18a\">\n   <rect height=\"217.44\" width=\"334.8\" x=\"59.690625\" y=\"22.318125\"/>\n  </clipPath>\n </defs>\n</svg>\n",
      "image/png": "[encoded data removed]"
     },
     "metadata": {
      "needs_background": "light"
     }
    }
   ],
   "source": [
    "import seaborn as sns\n",
    "ax = sns.distplot(\n",
    "        tweets['sentiment'],\n",
    "        kde=False,\n",
    "        bins=7)\n",
    "ax.set(xlabel='Negative                Neutral                 Positive',\n",
    "           ylabel='#Tweets',\n",
    "          title=\"Tweets\")"
   ]
  },
  {
   "cell_type": "code",
   "execution_count": 122,
   "metadata": {},
   "outputs": [],
   "source": [
    "tweets.to_json('date_city_topics.json')"
   ]
  },
  {
   "cell_type": "code",
   "execution_count": 123,
   "metadata": {},
   "outputs": [
    {
     "output_type": "execute_result",
     "data": {
      "text/plain": [
       "    created_at                   id  \\\n",
       "169 2020-05-07  1258371211752435712   \n",
       "247 2020-05-07  1258374109710278656   \n",
       "319 2020-05-07  1258376559632609280   \n",
       "328 2020-05-07  1258376757322760192   \n",
       "513 2020-05-07  1258382503712260099   \n",
       "\n",
       "                                                  text coordinates lang place  \\\n",
       "169  I’m sick of this. How many more #innocent blac...        None   en  None   \n",
       "247  Praying for #SeanReed  and #AhmaudAubrey famil...        None   en  None   \n",
       "319  And no....we won’t let it go. \\nNo we won’t fo...        None   en  None   \n",
       "328  Tomorrow, 5/8. The running community has the c...        None   en  None   \n",
       "513  These days, you’ll barely catch me taking a sh...        None   en  None   \n",
       "\n",
       "       user_location                                            hashtag  \\\n",
       "169  Los Angeles, CA  [[, ', #, i, n, n, o, c, e, n, t, ', , ,  , ',...   \n",
       "247  Los Angeles, CA  [[, ', #, S, e, a, n, R, e, e, d, ', , ,  , ',...   \n",
       "319    San Diego, CA  [[, ', #, B, l, a, c, k, L, i, v, e, s, M, a, ...   \n",
       "328    Oceanside, CA  [[, ', #, I, R, u, n, W, i, t, h, M, a, u, d, ...   \n",
       "513  Los Angeles, CA                                             [[, ]]   \n",
       "\n",
       "    accounts                                              token state  \\\n",
       "169       []  [i’m, sick, this, many, innocent, black, men, ...    CA   \n",
       "247       []  [praying, seanreed, ahmaudaubrey, family, sens...    CA   \n",
       "319       []  [nowe, won’t, let, go, won’t, forget, won’t, g...    CA   \n",
       "328       []  [tomorrow, 58, running, community, chance, hon...    CA   \n",
       "513       []  [day, you’ll, barely, catch, taking, shit, wit...    CA   \n",
       "\n",
       "            city                                     topic2  \\\n",
       "169  Los Angeles  [black, white, justiceforahmaud, justice]   \n",
       "247  Los Angeles  [black, white, justiceforahmaud, justice]   \n",
       "319    San Diego  [black, white, justiceforahmaud, justice]   \n",
       "328    Oceanside  [black, white, justiceforahmaud, justice]   \n",
       "513  Los Angeles  [black, white, justiceforahmaud, justice]   \n",
       "\n",
       "                                      topic1  topics2  sentiment  \n",
       "169  [justiceforahmaud, tired, can’t, black]        0    -0.9621  \n",
       "247  [justiceforahmaud, tired, can’t, black]        0    -0.6369  \n",
       "319  [justiceforahmaud, tired, can’t, black]        0    -0.8591  \n",
       "328  [justiceforahmaud, tired, can’t, black]        0     0.6486  \n",
       "513  [justiceforahmaud, tired, can’t, black]        0    -0.5574  "
      ],
      "text/html": "<div>\n<style scoped>\n    .dataframe tbody tr th:only-of-type {\n        vertical-align: middle;\n    }\n\n    .dataframe tbody tr th {\n        vertical-align: top;\n    }\n\n    .dataframe thead th {\n        text-align: right;\n    }\n</style>\n<table border=\"1\" class=\"dataframe\">\n  <thead>\n    <tr style=\"text-align: right;\">\n      <th></th>\n      <th>created_at</th>\n      <th>id</th>\n      <th>text</th>\n      <th>coordinates</th>\n      <th>lang</th>\n      <th>place</th>\n      <th>user_location</th>\n      <th>hashtag</th>\n      <th>accounts</th>\n      <th>token</th>\n      <th>state</th>\n      <th>city</th>\n      <th>topic2</th>\n      <th>topic1</th>\n      <th>topics2</th>\n      <th>sentiment</th>\n    </tr>\n  </thead>\n  <tbody>\n    <tr>\n      <th>169</th>\n      <td>2020-05-07</td>\n      <td>1258371211752435712</td>\n      <td>I’m sick of this. How many more #innocent blac...</td>\n      <td>None</td>\n      <td>en</td>\n      <td>None</td>\n      <td>Los Angeles, CA</td>\n      <td>[[, ', #, i, n, n, o, c, e, n, t, ', , ,  , ',...</td>\n      <td>[]</td>\n      <td>[i’m, sick, this, many, innocent, black, men, ...</td>\n      <td>CA</td>\n      <td>Los Angeles</td>\n      <td>[black, white, justiceforahmaud, justice]</td>\n      <td>[justiceforahmaud, tired, can’t, black]</td>\n      <td>0</td>\n      <td>-0.9621</td>\n    </tr>\n    <tr>\n      <th>247</th>\n      <td>2020-05-07</td>\n      <td>1258374109710278656</td>\n      <td>Praying for #SeanReed  and #AhmaudAubrey famil...</td>\n      <td>None</td>\n      <td>en</td>\n      <td>None</td>\n      <td>Los Angeles, CA</td>\n      <td>[[, ', #, S, e, a, n, R, e, e, d, ', , ,  , ',...</td>\n      <td>[]</td>\n      <td>[praying, seanreed, ahmaudaubrey, family, sens...</td>\n      <td>CA</td>\n      <td>Los Angeles</td>\n      <td>[black, white, justiceforahmaud, justice]</td>\n      <td>[justiceforahmaud, tired, can’t, black]</td>\n      <td>0</td>\n      <td>-0.6369</td>\n    </tr>\n    <tr>\n      <th>319</th>\n      <td>2020-05-07</td>\n      <td>1258376559632609280</td>\n      <td>And no....we won’t let it go. \\nNo we won’t fo...</td>\n      <td>None</td>\n      <td>en</td>\n      <td>None</td>\n      <td>San Diego, CA</td>\n      <td>[[, ', #, B, l, a, c, k, L, i, v, e, s, M, a, ...</td>\n      <td>[]</td>\n      <td>[nowe, won’t, let, go, won’t, forget, won’t, g...</td>\n      <td>CA</td>\n      <td>San Diego</td>\n      <td>[black, white, justiceforahmaud, justice]</td>\n      <td>[justiceforahmaud, tired, can’t, black]</td>\n      <td>0</td>\n      <td>-0.8591</td>\n    </tr>\n    <tr>\n      <th>328</th>\n      <td>2020-05-07</td>\n      <td>1258376757322760192</td>\n      <td>Tomorrow, 5/8. The running community has the c...</td>\n      <td>None</td>\n      <td>en</td>\n      <td>None</td>\n      <td>Oceanside, CA</td>\n      <td>[[, ', #, I, R, u, n, W, i, t, h, M, a, u, d, ...</td>\n      <td>[]</td>\n      <td>[tomorrow, 58, running, community, chance, hon...</td>\n      <td>CA</td>\n      <td>Oceanside</td>\n      <td>[black, white, justiceforahmaud, justice]</td>\n      <td>[justiceforahmaud, tired, can’t, black]</td>\n      <td>0</td>\n      <td>0.6486</td>\n    </tr>\n    <tr>\n      <th>513</th>\n      <td>2020-05-07</td>\n      <td>1258382503712260099</td>\n      <td>These days, you’ll barely catch me taking a sh...</td>\n      <td>None</td>\n      <td>en</td>\n      <td>None</td>\n      <td>Los Angeles, CA</td>\n      <td>[[, ]]</td>\n      <td>[]</td>\n      <td>[day, you’ll, barely, catch, taking, shit, wit...</td>\n      <td>CA</td>\n      <td>Los Angeles</td>\n      <td>[black, white, justiceforahmaud, justice]</td>\n      <td>[justiceforahmaud, tired, can’t, black]</td>\n      <td>0</td>\n      <td>-0.5574</td>\n    </tr>\n  </tbody>\n</table>\n</div>"
     },
     "metadata": {},
     "execution_count": 123
    }
   ],
   "source": [
    "tweets.head()"
   ]
  },
  {
   "cell_type": "code",
   "execution_count": null,
   "metadata": {},
   "outputs": [],
   "source": []
  }
 ]
}
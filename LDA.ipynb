{
 "metadata": {
  "language_info": {
   "codemirror_mode": {
    "name": "ipython",
    "version": 3
   },
   "file_extension": ".py",
   "mimetype": "text/x-python",
   "name": "python",
   "nbconvert_exporter": "python",
   "pygments_lexer": "ipython3",
   "version": "3.7.6-final"
  },
  "orig_nbformat": 2,
  "kernelspec": {
   "name": "python3",
   "display_name": "Python 3",
   "language": "python"
  }
 },
 "nbformat": 4,
 "nbformat_minor": 2,
 "cells": [
  {
   "cell_type": "code",
   "execution_count": 25,
   "metadata": {},
   "outputs": [],
   "source": [
    "import pandas as pd\n",
    "import numpy as np\n",
    "import re"
   ]
  },
  {
   "cell_type": "code",
   "execution_count": 70,
   "metadata": {},
   "outputs": [
    {
     "output_type": "execute_result",
     "data": {
      "text/plain": [
       "list"
      ]
     },
     "metadata": {},
     "execution_count": 70
    }
   ],
   "source": [
    "tweets = pd.read_json('tweets_BLM.json')\n",
    "type(tweets['hashtag'][1])"
   ]
  },
  {
   "cell_type": "code",
   "execution_count": 71,
   "metadata": {},
   "outputs": [],
   "source": [
    "# Importing Gensim\n",
    "import gensim\n",
    "from gensim import corpora\n",
    "\n",
    "#Tokens\n",
    "tokens = tweets['hashtag']\n",
    "\n",
    "# Creating the term dictionary of our courpus, where every unique term is assigned an index\n",
    "dictionary = gensim.corpora.Dictionary(tokens)\n",
    "\n",
    "# Converting list of documents (corpus) into Document Term Matrix using dictionary prepared above.\n",
    "doc_term_matrix = [dictionary.doc2bow(tweet) for tweet in tokens]"
   ]
  },
  {
   "cell_type": "code",
   "execution_count": 72,
   "metadata": {},
   "outputs": [],
   "source": [
    "# Creating the object for LDA model using gensim library\n",
    "Lda = gensim.models.ldamodel.LdaModel\n",
    "\n",
    "# Running and Trainign LDA model on the document term matrix.\n",
    "ldamodel = Lda(doc_term_matrix, num_topics=5, id2word = dictionary, passes=20)"
   ]
  },
  {
   "cell_type": "code",
   "execution_count": 73,
   "metadata": {},
   "outputs": [
    {
     "output_type": "stream",
     "name": "stdout",
     "text": [
      "Topic 0 -> (0, '0.072*\"blacklivesmatter\" + 0.011*\"art\" + 0.010*\"blm\" + 0.006*\"blacklivesmatter.\"')\nTopic 1 -> (1, '0.143*\"blacklivesmatter\" + 0.060*\"blm\" + 0.049*\"georgefloyd\" + 0.029*\"justiceforgeorgefloyd\"')\nTopic 2 -> (2, '0.301*\"blacklivesmatter\" + 0.021*\"blackouttuesday\" + 0.015*\"nojusticenopeace\" + 0.015*\"blm\"')\nTopic 3 -> (3, '0.068*\"blacklivesmatter\" + 0.030*\"alllivesmatter\" + 0.008*\"blm\" + 0.008*\"equality\"')\nTopic 4 -> (4, '0.057*\"blacklivesmatter\" + 0.044*\"blacklivesmatter✊🏽✊🏾✊🏿\" + 0.029*\"blm\" + 0.025*\"blacklivesmatter…\"')\n"
     ]
    }
   ],
   "source": [
    "# Print 2 topics and describe then with 4 words.\n",
    "topics = ldamodel.print_topics(num_topics=5, num_words=4)\n",
    "\n",
    "i=0\n",
    "for topic in topics:\n",
    "    print (\"Topic\",i ,\"->\", topic)     \n",
    "    i+=1"
   ]
  },
  {
   "cell_type": "code",
   "execution_count": 68,
   "metadata": {},
   "outputs": [
    {
     "output_type": "stream",
     "name": "stdout",
     "text": [
      "Word 0 (\"blacklivesmatter\") appears 1 time.\nWord 25 (\"justiceforahmaud\") appears 1 time.\nWord 227 (\"prayer\") appears 1 time.\nWord 342 (\"…\") appears 1 time.\nWord 350 (\"love\") appears 1 time.\nWord 408 (\"make\") appears 1 time.\nWord 682 (\"amaudarbery\") appears 1 time.\nWord 683 (\"awareamen\") appears 1 time.\nWord 684 (\"faith\") appears 1 time.\nWord 685 (\"faithoverfear\") appears 1 time.\nWord 686 (\"god\") appears 1 time.\nWord 687 (\"godhears\") appears 1 time.\nWord 688 (\"godknows\") appears 1 time.\nWord 689 (\"godslove\") appears 1 time.\nWord 690 (\"ignorance\") appears 1 time.\nWord 691 (\"livingwhileblack\") appears 1 time.\nWord 692 (\"melanin\") appears 1 time.\nWord 693 (\"righteous\") appears 1 time.\nWord 694 (\"righteousness\") appears 1 time.\nWord 695 (\"🙏🏾🙏🏾🙏🏾\") appears 1 time.\n"
     ]
    }
   ],
   "source": [
    "document_num = 100\n",
    "bow_corpus = doc_term_matrix\n",
    "bow_doc_x = bow_corpus[document_num]\n",
    "\n",
    "for i in range(len(bow_doc_x)):\n",
    "    print(\"Word {} (\\\"{}\\\") appears {} time.\".format(bow_doc_x[i][0], \n",
    "                                                     dictionary[bow_doc_x[i][0]], \n",
    "                                                     bow_doc_x[i][1]))"
   ]
  },
  {
   "cell_type": "code",
   "execution_count": null,
   "metadata": {},
   "outputs": [],
   "source": []
  }
 ]
}
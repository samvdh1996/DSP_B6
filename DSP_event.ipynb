{
 "metadata": {
  "language_info": {
   "codemirror_mode": {
    "name": "ipython",
    "version": 3
   },
   "file_extension": ".py",
   "mimetype": "text/x-python",
   "name": "python",
   "nbconvert_exporter": "python",
   "pygments_lexer": "ipython3",
   "version": "3.7.6-final"
  },
  "orig_nbformat": 2,
  "kernelspec": {
   "name": "python3",
   "display_name": "Python 3",
   "language": "python"
  }
 },
 "nbformat": 4,
 "nbformat_minor": 2,
 "cells": [
  {
   "cell_type": "code",
   "execution_count": 126,
   "metadata": {},
   "outputs": [],
   "source": [
    "import pandas as pd\n",
    "import numpy as np\n",
    "import re"
   ]
  },
  {
   "source": [
    "### Import dataset"
   ],
   "cell_type": "markdown",
   "metadata": {}
  },
  {
   "cell_type": "code",
   "execution_count": 127,
   "metadata": {},
   "outputs": [],
   "source": [
    "tweets = pd.read_json(\"BLM_2.json\")"
   ]
  },
  {
   "cell_type": "code",
   "execution_count": 128,
   "metadata": {},
   "outputs": [],
   "source": [
    "tweets = tweets.reset_index(drop=True)\n",
    "tweets['long'] = 0.\n",
    "tweets['lat'] = 0.\n",
    "for idx, val in enumerate(tweets['geo']):\n",
    "        tweets['lat'][idx] = val['coordinates'][0]\n",
    "        tweets['long'][idx] = val['coordinates'][1]\n",
    "tweets = tweets.drop(columns=['coordinates', 'geo'])"
   ]
  },
  {
   "source": [
    "### From here we get lemmatize the text"
   ],
   "cell_type": "markdown",
   "metadata": {}
  },
  {
   "cell_type": "code",
   "execution_count": 129,
   "metadata": {},
   "outputs": [],
   "source": [
    "def clean_hyperlinks(text):\n",
    "    result = re.sub(r'https?://[^\\s<>\"]+|www\\.[^\\s<>\"]+',\" \", text)\n",
    "    return result"
   ]
  },
  {
   "cell_type": "code",
   "execution_count": 130,
   "metadata": {},
   "outputs": [],
   "source": [
    "#tweets = tweets[tweets['lang'] == 'en']\n",
    "tweets['text'] = tweets['text'].apply(clean_hyperlinks)\n",
    "#tweets['text'].replace('', np.nan, inplace=True)\n",
    "#tweets.dropna(subset=['text'], inplace=True)"
   ]
  },
  {
   "cell_type": "code",
   "execution_count": 131,
   "metadata": {},
   "outputs": [],
   "source": [
    "def string_manipulation(df,column): \n",
    "    #extract hashtags\n",
    "    df[\"hashtag\"]  = df[column].str.findall(r'#.*?(?=\\s|$)')\n",
    "    #extract twitter account references\n",
    "    df[\"accounts\"] = df[column].str.findall(r'@.*?(?=\\s|$)')\n",
    "    return df\n",
    "tweets = string_manipulation(tweets,\"text\")"
   ]
  },
  {
   "cell_type": "code",
   "execution_count": 132,
   "metadata": {},
   "outputs": [],
   "source": [
    "tweets['hashtag'] = tweets['hashtag'].apply(lambda x: ','.join(map(str, x)))\n",
    "from string import punctuation\n",
    "def punctation(text): \n",
    "    result = text.replace(\"#\", \"\")\n",
    "    result = result.lower()\n",
    "    return result\n",
    "tweets['hashtag'] = tweets['hashtag'].apply(punctation)"
   ]
  },
  {
   "cell_type": "code",
   "execution_count": 133,
   "metadata": {},
   "outputs": [],
   "source": [
    "def inlist(text): \n",
    "    result = text.split(\",\")\n",
    "    return result\n",
    "tweets['hashtag'] = tweets['hashtag'].apply(inlist)"
   ]
  },
  {
   "cell_type": "code",
   "execution_count": 134,
   "metadata": {},
   "outputs": [],
   "source": [
    "list_of_tweets = []\n",
    "for tweet in tweets['text']:\n",
    "    temp = tweet\n",
    "    list_of_tweets.append(temp)"
   ]
  },
  {
   "cell_type": "code",
   "execution_count": 135,
   "metadata": {},
   "outputs": [],
   "source": [
    "from nltk.corpus import stopwords \n",
    "from nltk.stem.wordnet import WordNetLemmatizer\n",
    "import string\n",
    "\n",
    "# Create a set of stopwords\n",
    "stop = set(stopwords.words('english'))\n",
    "\n",
    "# Create a set of punctuation words \n",
    "exclude = set(string.punctuation) \n",
    "\n",
    "# This is the function makeing the lemmatization\n",
    "lemma = WordNetLemmatizer()\n",
    "\n",
    "# In this function we perform the entire cleaning\n",
    "def clean(doc):\n",
    "    stop_free = \" \".join([i for i in doc.lower().split() if i not in stop])\n",
    "    punc_free = ''.join(ch for ch in stop_free if ch not in exclude)\n",
    "    normalized = \" \".join(lemma.lemmatize(word) for word in punc_free.split())\n",
    "    return normalized\n",
    "\n",
    "# This is the clean corpus.\n",
    "doc_clean = [clean(doc).split() for doc in list_of_tweets] \n",
    "tweets['token'] = doc_clean"
   ]
  },
  {
   "cell_type": "code",
   "execution_count": 139,
   "metadata": {},
   "outputs": [
    {
     "output_type": "execute_result",
     "data": {
      "text/plain": [
       "   created_at                   id  \\\n",
       "0  2020-06-05  1268749908611403776   \n",
       "1  2020-06-05  1268750111770923010   \n",
       "2  2020-06-05  1268750215156240384   \n",
       "3  2020-06-05  1268750277219360769   \n",
       "4  2020-06-05  1268750533294243840   \n",
       "\n",
       "                                                text lang      long  \\\n",
       "0  Motivation speakers how y’all doing\\nSee it an...   en   3.39583   \n",
       "1  @JustinSigel Thank You! Repost: People in our ...   en -88.10330   \n",
       "2  WE ALL RIDIN TOGETHER 👊🏾🙏🏾👊🏾 @ Blacklivesmatter     en -74.01261   \n",
       "3  “stop killing black people” #cincinnatiprotest...   en -84.50000   \n",
       "4  Starting from the bottom now we here\\nEnjoying...   en   3.39583   \n",
       "\n",
       "         lat                                            hashtag  \\\n",
       "0   6.453060  [alllivesmatter, blacklivesmatter, georgefloyd...   \n",
       "1  30.679500                    [blacklivesmatter, georgefloyd]   \n",
       "2  40.702841                                                 []   \n",
       "3  39.133333  [cincinnatiprotest, cincinnati, blacklivesmatt...   \n",
       "4   6.453060  [billieeilish, billi, billionaire, millionaire...   \n",
       "\n",
       "            accounts                                              token  \n",
       "0                [@]  [motivation, speaker, y’all, see, believe, all...  \n",
       "1  [@JustinSigel, @]  [justinsigel, thank, you, repost, people, comm...  \n",
       "2                [@]        [ridin, together, 👊🏾🙏🏾👊🏾, blacklivesmatter]  \n",
       "3                [@]  [“stop, killing, black, people”, cincinnatipro...  \n",
       "4                [@]  [starting, bottom, enjoying, moment, billieeil...  "
      ],
      "text/html": "<div>\n<style scoped>\n    .dataframe tbody tr th:only-of-type {\n        vertical-align: middle;\n    }\n\n    .dataframe tbody tr th {\n        vertical-align: top;\n    }\n\n    .dataframe thead th {\n        text-align: right;\n    }\n</style>\n<table border=\"1\" class=\"dataframe\">\n  <thead>\n    <tr style=\"text-align: right;\">\n      <th></th>\n      <th>created_at</th>\n      <th>id</th>\n      <th>text</th>\n      <th>lang</th>\n      <th>long</th>\n      <th>lat</th>\n      <th>hashtag</th>\n      <th>accounts</th>\n      <th>token</th>\n    </tr>\n  </thead>\n  <tbody>\n    <tr>\n      <th>0</th>\n      <td>2020-06-05</td>\n      <td>1268749908611403776</td>\n      <td>Motivation speakers how y’all doing\\nSee it an...</td>\n      <td>en</td>\n      <td>3.39583</td>\n      <td>6.453060</td>\n      <td>[alllivesmatter, blacklivesmatter, georgefloyd...</td>\n      <td>[@]</td>\n      <td>[motivation, speaker, y’all, see, believe, all...</td>\n    </tr>\n    <tr>\n      <th>1</th>\n      <td>2020-06-05</td>\n      <td>1268750111770923010</td>\n      <td>@JustinSigel Thank You! Repost: People in our ...</td>\n      <td>en</td>\n      <td>-88.10330</td>\n      <td>30.679500</td>\n      <td>[blacklivesmatter, georgefloyd]</td>\n      <td>[@JustinSigel, @]</td>\n      <td>[justinsigel, thank, you, repost, people, comm...</td>\n    </tr>\n    <tr>\n      <th>2</th>\n      <td>2020-06-05</td>\n      <td>1268750215156240384</td>\n      <td>WE ALL RIDIN TOGETHER 👊🏾🙏🏾👊🏾 @ Blacklivesmatter</td>\n      <td>en</td>\n      <td>-74.01261</td>\n      <td>40.702841</td>\n      <td>[]</td>\n      <td>[@]</td>\n      <td>[ridin, together, 👊🏾🙏🏾👊🏾, blacklivesmatter]</td>\n    </tr>\n    <tr>\n      <th>3</th>\n      <td>2020-06-05</td>\n      <td>1268750277219360769</td>\n      <td>“stop killing black people” #cincinnatiprotest...</td>\n      <td>en</td>\n      <td>-84.50000</td>\n      <td>39.133333</td>\n      <td>[cincinnatiprotest, cincinnati, blacklivesmatt...</td>\n      <td>[@]</td>\n      <td>[“stop, killing, black, people”, cincinnatipro...</td>\n    </tr>\n    <tr>\n      <th>4</th>\n      <td>2020-06-05</td>\n      <td>1268750533294243840</td>\n      <td>Starting from the bottom now we here\\nEnjoying...</td>\n      <td>en</td>\n      <td>3.39583</td>\n      <td>6.453060</td>\n      <td>[billieeilish, billi, billionaire, millionaire...</td>\n      <td>[@]</td>\n      <td>[starting, bottom, enjoying, moment, billieeil...</td>\n    </tr>\n  </tbody>\n</table>\n</div>"
     },
     "metadata": {},
     "execution_count": 139
    }
   ],
   "source": [
    "tweets.head(5)"
   ]
  },
  {
   "cell_type": "code",
   "execution_count": 137,
   "metadata": {},
   "outputs": [],
   "source": [
    "for idx, val in enumerate(tweets['created_at']):\n",
    "    tweets['created_at'][idx] = str(tweets['created_at'][idx]).split()[0]"
   ]
  },
  {
   "cell_type": "code",
   "execution_count": 143,
   "metadata": {},
   "outputs": [],
   "source": [
    "tweets.to_csv('tweets_BLM.csv')"
   ]
  },
  {
   "cell_type": "code",
   "execution_count": null,
   "metadata": {},
   "outputs": [],
   "source": []
  }
 ]
}
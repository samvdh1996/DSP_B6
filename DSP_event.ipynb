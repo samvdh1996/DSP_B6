{
 "metadata": {
  "language_info": {
   "codemirror_mode": {
    "name": "ipython",
    "version": 3
   },
   "file_extension": ".py",
   "mimetype": "text/x-python",
   "name": "python",
   "nbconvert_exporter": "python",
   "pygments_lexer": "ipython3",
   "version": "3.7.6-final"
  },
  "orig_nbformat": 2,
  "kernelspec": {
   "name": "python3",
   "display_name": "Python 3",
   "language": "python"
  }
 },
 "nbformat": 4,
 "nbformat_minor": 2,
 "cells": [
  {
   "cell_type": "code",
   "execution_count": 126,
   "metadata": {},
   "outputs": [],
   "source": [
    "import pandas as pd\n",
    "import numpy as np\n",
    "import re"
   ]
  },
  {
   "source": [
    "### Import datasets"
   ],
   "cell_type": "markdown",
   "metadata": {}
  },
  {
   "cell_type": "code",
   "execution_count": 156,
   "metadata": {},
   "outputs": [],
   "source": [
    "tweets1 = pd.read_json(\"BLM_1.json\")\n",
    "tweets2 = pd.read_json(\"BLM_2.json\")\n",
    "tweets3 = pd.read_json(\"BLM_3.json\")\n",
    "tweets = tweets1.append([tweets2, tweets3])\n",
    "tweets = tweets.sort_values(by='created_at')"
   ]
  },
  {
   "cell_type": "code",
   "execution_count": 157,
   "metadata": {},
   "outputs": [],
   "source": [
    "tweets = tweets.reset_index(drop=True)\n",
    "tweets['long'] = 0.\n",
    "tweets['lat'] = 0.\n",
    "for idx, val in enumerate(tweets['coordinates']):\n",
    "        tweets['lat'][idx] = val['coordinates'][0]\n",
    "        tweets['long'][idx] = val['coordinates'][1]\n",
    "tweets = tweets.drop(columns=['coordinates'])"
   ]
  },
  {
   "source": [
    "### From here we get lemmatize the text"
   ],
   "cell_type": "markdown",
   "metadata": {}
  },
  {
   "cell_type": "code",
   "execution_count": 159,
   "metadata": {},
   "outputs": [],
   "source": [
    "def clean_hyperlinks(text):\n",
    "    result = re.sub(r'https?://[^\\s<>\"]+|www\\.[^\\s<>\"]+',\" \", text)\n",
    "    return result"
   ]
  },
  {
   "cell_type": "code",
   "execution_count": 160,
   "metadata": {},
   "outputs": [],
   "source": [
    "#tweets = tweets[tweets['lang'] == 'en']\n",
    "tweets['text'] = tweets['text'].apply(clean_hyperlinks)\n",
    "#tweets['text'].replace('', np.nan, inplace=True)\n",
    "#tweets.dropna(subset=['text'], inplace=True)"
   ]
  },
  {
   "cell_type": "code",
   "execution_count": 161,
   "metadata": {},
   "outputs": [],
   "source": [
    "def string_manipulation(df,column): \n",
    "    #extract hashtags\n",
    "    df[\"hashtag\"]  = df[column].str.findall(r'#.*?(?=\\s|$)')\n",
    "    #extract twitter account references\n",
    "    df[\"accounts\"] = df[column].str.findall(r'@.*?(?=\\s|$)')\n",
    "    return df\n",
    "tweets = string_manipulation(tweets,\"text\")"
   ]
  },
  {
   "cell_type": "code",
   "execution_count": 162,
   "metadata": {},
   "outputs": [],
   "source": [
    "tweets['hashtag'] = tweets['hashtag'].apply(lambda x: ','.join(map(str, x)))\n",
    "from string import punctuation\n",
    "def punctation(text): \n",
    "    result = text.replace(\"#\", \"\")\n",
    "    result = result.lower()\n",
    "    return result\n",
    "tweets['hashtag'] = tweets['hashtag'].apply(punctation)"
   ]
  },
  {
   "cell_type": "code",
   "execution_count": 163,
   "metadata": {},
   "outputs": [],
   "source": [
    "def inlist(text): \n",
    "    result = text.split(\",\")\n",
    "    return result\n",
    "tweets['hashtag'] = tweets['hashtag'].apply(inlist)"
   ]
  },
  {
   "cell_type": "code",
   "execution_count": 164,
   "metadata": {},
   "outputs": [],
   "source": [
    "list_of_tweets = []\n",
    "for tweet in tweets['text']:\n",
    "    temp = tweet\n",
    "    list_of_tweets.append(temp)"
   ]
  },
  {
   "cell_type": "code",
   "execution_count": 165,
   "metadata": {},
   "outputs": [],
   "source": [
    "from nltk.corpus import stopwords \n",
    "from nltk.stem.wordnet import WordNetLemmatizer\n",
    "import string\n",
    "\n",
    "# Create a set of stopwords\n",
    "stop = set(stopwords.words('english'))\n",
    "\n",
    "# Create a set of punctuation words \n",
    "exclude = set(string.punctuation) \n",
    "\n",
    "# This is the function makeing the lemmatization\n",
    "lemma = WordNetLemmatizer()\n",
    "\n",
    "# In this function we perform the entire cleaning\n",
    "def clean(doc):\n",
    "    stop_free = \" \".join([i for i in doc.lower().split() if i not in stop])\n",
    "    punc_free = ''.join(ch for ch in stop_free if ch not in exclude)\n",
    "    normalized = \" \".join(lemma.lemmatize(word) for word in punc_free.split())\n",
    "    return normalized\n",
    "\n",
    "# This is the clean corpus.\n",
    "doc_clean = [clean(doc).split() for doc in list_of_tweets] \n",
    "tweets['token'] = doc_clean"
   ]
  },
  {
   "cell_type": "code",
   "execution_count": 166,
   "metadata": {},
   "outputs": [
    {
     "output_type": "execute_result",
     "data": {
      "text/plain": [
       "                 created_at                   id  \\\n",
       "0 2020-05-07 12:37:45+00:00  1258375465271607296   \n",
       "1 2020-05-07 14:15:16+00:00  1258400009755770881   \n",
       "2 2020-05-07 14:49:01+00:00  1258408502227349504   \n",
       "3 2020-05-07 15:38:24+00:00  1258420928993562624   \n",
       "4 2020-05-07 16:14:08+00:00  1258429920780390412   \n",
       "\n",
       "                                                text lang  geo      long  \\\n",
       "0  This is a disgrace #runwithmaud @kamalaharris ...   en  NaN  37.97810   \n",
       "1  #blacklivesmatter #seanreed #ahmaudarbery #bla...   in  NaN  39.76920   \n",
       "2  #whiteapathy laylafsaad #blacklivesmatter @ In...   in  NaN  39.76920   \n",
       "3  #BlackLivesMatter #AhmaudArbery @ Everywhere, ...   en  NaN  31.81095   \n",
       "4  Just incase you were no sure! This is what inf...   en  NaN  40.71420   \n",
       "\n",
       "          lat                                            hashtag  \\\n",
       "0 -122.031000  [runwithmaud, justiceforahmaudarbery, justice,...   \n",
       "1  -86.158200  [blacklivesmatter, seanreed, ahmaudarbery, bla...   \n",
       "2  -86.158200                    [whiteapathy, blacklivesmatter]   \n",
       "3  -94.195982                   [blacklivesmatter, ahmaudarbery]   \n",
       "4  -74.006400  [whiteprivilege, truthofthematter, callathinga...   \n",
       "\n",
       "             accounts                                              token  \n",
       "0  [@kamalaharris, @]  [disgrace, runwithmaud, kamalaharris, justicef...  \n",
       "1                 [@]  [blacklivesmatter, seanreed, ahmaudarbery, bla...  \n",
       "2                 [@]  [whiteapathy, laylafsaad, blacklivesmatter, in...  \n",
       "3                 [@]  [blacklivesmatter, ahmaudarbery, everywhere, usa]  \n",
       "4                 [@]  [incase, sure, influence, whiteprivilege, look...  "
      ],
      "text/html": "<div>\n<style scoped>\n    .dataframe tbody tr th:only-of-type {\n        vertical-align: middle;\n    }\n\n    .dataframe tbody tr th {\n        vertical-align: top;\n    }\n\n    .dataframe thead th {\n        text-align: right;\n    }\n</style>\n<table border=\"1\" class=\"dataframe\">\n  <thead>\n    <tr style=\"text-align: right;\">\n      <th></th>\n      <th>created_at</th>\n      <th>id</th>\n      <th>text</th>\n      <th>lang</th>\n      <th>geo</th>\n      <th>long</th>\n      <th>lat</th>\n      <th>hashtag</th>\n      <th>accounts</th>\n      <th>token</th>\n    </tr>\n  </thead>\n  <tbody>\n    <tr>\n      <th>0</th>\n      <td>2020-05-07 12:37:45+00:00</td>\n      <td>1258375465271607296</td>\n      <td>This is a disgrace #runwithmaud @kamalaharris ...</td>\n      <td>en</td>\n      <td>NaN</td>\n      <td>37.97810</td>\n      <td>-122.031000</td>\n      <td>[runwithmaud, justiceforahmaudarbery, justice,...</td>\n      <td>[@kamalaharris, @]</td>\n      <td>[disgrace, runwithmaud, kamalaharris, justicef...</td>\n    </tr>\n    <tr>\n      <th>1</th>\n      <td>2020-05-07 14:15:16+00:00</td>\n      <td>1258400009755770881</td>\n      <td>#blacklivesmatter #seanreed #ahmaudarbery #bla...</td>\n      <td>in</td>\n      <td>NaN</td>\n      <td>39.76920</td>\n      <td>-86.158200</td>\n      <td>[blacklivesmatter, seanreed, ahmaudarbery, bla...</td>\n      <td>[@]</td>\n      <td>[blacklivesmatter, seanreed, ahmaudarbery, bla...</td>\n    </tr>\n    <tr>\n      <th>2</th>\n      <td>2020-05-07 14:49:01+00:00</td>\n      <td>1258408502227349504</td>\n      <td>#whiteapathy laylafsaad #blacklivesmatter @ In...</td>\n      <td>in</td>\n      <td>NaN</td>\n      <td>39.76920</td>\n      <td>-86.158200</td>\n      <td>[whiteapathy, blacklivesmatter]</td>\n      <td>[@]</td>\n      <td>[whiteapathy, laylafsaad, blacklivesmatter, in...</td>\n    </tr>\n    <tr>\n      <th>3</th>\n      <td>2020-05-07 15:38:24+00:00</td>\n      <td>1258420928993562624</td>\n      <td>#BlackLivesMatter #AhmaudArbery @ Everywhere, ...</td>\n      <td>en</td>\n      <td>NaN</td>\n      <td>31.81095</td>\n      <td>-94.195982</td>\n      <td>[blacklivesmatter, ahmaudarbery]</td>\n      <td>[@]</td>\n      <td>[blacklivesmatter, ahmaudarbery, everywhere, usa]</td>\n    </tr>\n    <tr>\n      <th>4</th>\n      <td>2020-05-07 16:14:08+00:00</td>\n      <td>1258429920780390412</td>\n      <td>Just incase you were no sure! This is what inf...</td>\n      <td>en</td>\n      <td>NaN</td>\n      <td>40.71420</td>\n      <td>-74.006400</td>\n      <td>[whiteprivilege, truthofthematter, callathinga...</td>\n      <td>[@]</td>\n      <td>[incase, sure, influence, whiteprivilege, look...</td>\n    </tr>\n  </tbody>\n</table>\n</div>"
     },
     "metadata": {},
     "execution_count": 166
    }
   ],
   "source": [
    "tweets.head(5)"
   ]
  },
  {
   "cell_type": "code",
   "execution_count": 167,
   "metadata": {},
   "outputs": [],
   "source": [
    "for idx, val in enumerate(tweets['created_at']):\n",
    "    tweets['created_at'][idx] = str(tweets['created_at'][idx]).split()[0]"
   ]
  },
  {
   "cell_type": "code",
   "execution_count": 168,
   "metadata": {},
   "outputs": [],
   "source": [
    "tweets.to_csv('tweets_BLM.csv')"
   ]
  },
  {
   "cell_type": "code",
   "execution_count": null,
   "metadata": {},
   "outputs": [],
   "source": []
  }
 ]
}
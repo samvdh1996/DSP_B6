{
 "metadata": {
  "language_info": {
   "codemirror_mode": {
    "name": "ipython",
    "version": 3
   },
   "file_extension": ".py",
   "mimetype": "text/x-python",
   "name": "python",
   "nbconvert_exporter": "python",
   "pygments_lexer": "ipython3",
   "version": "3.7.6-final"
  },
  "orig_nbformat": 2,
  "kernelspec": {
   "name": "python3",
   "display_name": "Python 3",
   "language": "python"
  }
 },
 "nbformat": 4,
 "nbformat_minor": 2,
 "cells": [
  {
   "cell_type": "code",
   "execution_count": 27,
   "metadata": {},
   "outputs": [],
   "source": [
    "import pandas as pd\n",
    "import numpy as np\n",
    "import re"
   ]
  },
  {
   "source": [
    "### Import datasets"
   ],
   "cell_type": "markdown",
   "metadata": {}
  },
  {
   "cell_type": "code",
   "execution_count": 28,
   "metadata": {},
   "outputs": [],
   "source": [
    "tweets1 = pd.read_json(\"BLM_1.json\")\n",
    "tweets2 = pd.read_json(\"BLM_2.json\")\n",
    "tweets3 = pd.read_json(\"BLM_3.json\")\n",
    "tweets = tweets1.append([tweets2, tweets3])\n",
    "tweets = tweets.sort_values(by='created_at')"
   ]
  },
  {
   "cell_type": "code",
   "execution_count": 29,
   "metadata": {},
   "outputs": [],
   "source": [
    "tweets = tweets.reset_index(drop=True)\n",
    "tweets['long'] = 0.\n",
    "tweets['lat'] = 0.\n",
    "for idx, val in enumerate(tweets['coordinates']):\n",
    "        tweets['long'][idx] = val['coordinates'][0]\n",
    "        tweets['lat'][idx] = val['coordinates'][1]\n",
    "tweets = tweets.drop(columns=['coordinates'])"
   ]
  },
  {
   "source": [
    "### From here we get lemmatize the text"
   ],
   "cell_type": "markdown",
   "metadata": {}
  },
  {
   "cell_type": "code",
   "execution_count": 30,
   "metadata": {},
   "outputs": [],
   "source": [
    "def clean_hyperlinks(text):\n",
    "    result = re.sub(r'https?://[^\\s<>\"]+|www\\.[^\\s<>\"]+',\" \", text)\n",
    "    return result"
   ]
  },
  {
   "cell_type": "code",
   "execution_count": 31,
   "metadata": {},
   "outputs": [],
   "source": [
    "#tweets = tweets[tweets['lang'] == 'en']\n",
    "tweets['text'] = tweets['text'].apply(clean_hyperlinks)\n",
    "#tweets['text'].replace('', np.nan, inplace=True)\n",
    "#tweets.dropna(subset=['text'], inplace=True)"
   ]
  },
  {
   "cell_type": "code",
   "execution_count": 32,
   "metadata": {},
   "outputs": [],
   "source": [
    "def string_manipulation(df,column): \n",
    "    #extract hashtags\n",
    "    df[\"hashtag\"]  = df[column].str.findall(r'#.*?(?=\\s|$)')\n",
    "    #extract twitter account references\n",
    "    df[\"accounts\"] = df[column].str.findall(r'@.*?(?=\\s|$)')\n",
    "    return df\n",
    "tweets = string_manipulation(tweets,\"text\")"
   ]
  },
  {
   "cell_type": "code",
   "execution_count": 33,
   "metadata": {},
   "outputs": [],
   "source": [
    "tweets['hashtag'] = tweets['hashtag'].apply(lambda x: ','.join(map(str, x)))\n",
    "from string import punctuation\n",
    "def punctation(text): \n",
    "    result = text.replace(\"#\", \"\")\n",
    "    result = result.lower()\n",
    "    return result\n",
    "tweets['hashtag'] = tweets['hashtag'].apply(punctation)"
   ]
  },
  {
   "cell_type": "code",
   "execution_count": 34,
   "metadata": {},
   "outputs": [],
   "source": [
    "def inlist(text): \n",
    "    result = text.split(\",\")\n",
    "    return result\n",
    "tweets['hashtag'] = tweets['hashtag'].apply(inlist)"
   ]
  },
  {
   "cell_type": "code",
   "execution_count": 35,
   "metadata": {},
   "outputs": [],
   "source": [
    "list_of_tweets = []\n",
    "for tweet in tweets['text']:\n",
    "    temp = tweet\n",
    "    list_of_tweets.append(temp)"
   ]
  },
  {
   "cell_type": "code",
   "execution_count": 36,
   "metadata": {},
   "outputs": [],
   "source": [
    "from nltk.corpus import stopwords \n",
    "from nltk.stem.wordnet import WordNetLemmatizer\n",
    "import string\n",
    "\n",
    "# Create a set of stopwords\n",
    "stop = set(stopwords.words('english'))\n",
    "\n",
    "# Create a set of punctuation words \n",
    "exclude = set(string.punctuation) \n",
    "\n",
    "# This is the function makeing the lemmatization\n",
    "lemma = WordNetLemmatizer()\n",
    "\n",
    "# In this function we perform the entire cleaning\n",
    "def clean(doc):\n",
    "    stop_free = \" \".join([i for i in doc.lower().split() if i not in stop])\n",
    "    punc_free = ''.join(ch for ch in stop_free if ch not in exclude)\n",
    "    normalized = \" \".join(lemma.lemmatize(word) for word in punc_free.split())\n",
    "    return normalized\n",
    "\n",
    "# This is the clean corpus.\n",
    "tweets['token'] = [clean(doc).split() for doc in list_of_tweets]"
   ]
  },
  {
   "cell_type": "code",
   "execution_count": 45,
   "metadata": {},
   "outputs": [
    {
     "output_type": "execute_result",
     "data": {
      "text/plain": [
       "list"
      ]
     },
     "metadata": {},
     "execution_count": 45
    }
   ],
   "source": [
    "type(tweets['token'][1])"
   ]
  },
  {
   "source": [
    "## make date correct"
   ],
   "cell_type": "markdown",
   "metadata": {}
  },
  {
   "cell_type": "code",
   "execution_count": 39,
   "metadata": {},
   "outputs": [],
   "source": [
    "for idx, val in enumerate(tweets['created_at']):\n",
    "    tweets['created_at'][idx] = str(tweets['created_at'][idx]).split()[0]"
   ]
  },
  {
   "source": [
    "### import protest data\n"
   ],
   "cell_type": "markdown",
   "metadata": {}
  },
  {
   "cell_type": "code",
   "execution_count": 40,
   "metadata": {},
   "outputs": [],
   "source": [
    "protest = pd.read_csv('/Users/sam/Documents/GitHub/DSP_B6/Protests_BLM_LongLat_210104.csv')\n",
    "protest['protest'] = 1\n",
    "protest = protest.rename(columns={\"EVENT_DATE\": \"created_at\", \"LATITUDE\": \"lat\", 'LONGITUDE': 'long'})\n",
    "protest['long'] = protest['long'].round(3)\n",
    "protest['lat'] = protest['lat'].round(3)"
   ]
  },
  {
   "cell_type": "code",
   "execution_count": 41,
   "metadata": {},
   "outputs": [],
   "source": [
    "tweets['long'] = tweets['long'].round(3)\n",
    "tweets['lat'] = tweets['lat'].round(3)"
   ]
  },
  {
   "cell_type": "code",
   "execution_count": 42,
   "metadata": {},
   "outputs": [],
   "source": [
    "merged = pd.merge(tweets, protest,  how='left', on=['created_at','long','lat'])\n",
    "merged = merged.fillna(0)"
   ]
  },
  {
   "cell_type": "code",
   "execution_count": 43,
   "metadata": {},
   "outputs": [
    {
     "output_type": "stream",
     "name": "stdout",
     "text": [
      "11685\n7184\n11689\n"
     ]
    }
   ],
   "source": [
    "print(len(tweets))\n",
    "print(len(protest))\n",
    "print(len(merged))"
   ]
  },
  {
   "cell_type": "code",
   "execution_count": 44,
   "metadata": {},
   "outputs": [
    {
     "output_type": "execute_result",
     "data": {
      "text/plain": [
       "182.0"
      ]
     },
     "metadata": {},
     "execution_count": 44
    }
   ],
   "source": [
    "sum(merged['protest'])"
   ]
  },
  {
   "cell_type": "code",
   "execution_count": 47,
   "metadata": {},
   "outputs": [],
   "source": [
    "#tweets t0 text file\n",
    "tweets.to_json('tweets_BLM.json')\n",
    "#to excel (better for tableau)\n",
    "tweets.to_excel(\"tweets_BLM.xlsx\")"
   ]
  },
  {
   "cell_type": "code",
   "execution_count": null,
   "metadata": {},
   "outputs": [],
   "source": []
  }
 ]
}
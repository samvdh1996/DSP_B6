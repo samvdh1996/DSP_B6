{
 "metadata": {
  "language_info": {
   "codemirror_mode": {
    "name": "ipython",
    "version": 3
   },
   "file_extension": ".py",
   "mimetype": "text/x-python",
   "name": "python",
   "nbconvert_exporter": "python",
   "pygments_lexer": "ipython3",
   "version": "3.7.6-final"
  },
  "orig_nbformat": 2,
  "kernelspec": {
   "name": "python3",
   "display_name": "Python 3",
   "language": "python"
  }
 },
 "nbformat": 4,
 "nbformat_minor": 2,
 "cells": [
  {
   "cell_type": "code",
   "execution_count": 2,
   "metadata": {},
   "outputs": [],
   "source": [
    "import pandas as pd\n",
    "import numpy as np\n",
    "import tqdm\n",
    "import lightgbm as lgb\n",
    "from  datetime import datetime, timedelta"
   ]
  },
  {
   "source": [
    "### Import dataset"
   ],
   "cell_type": "markdown",
   "metadata": {}
  },
  {
   "cell_type": "code",
   "execution_count": 3,
   "metadata": {},
   "outputs": [],
   "source": [
    "tweets = pd.read_json(\"/Users/sam/Documents/Masters/Data_Systems_Project/Locations/user_locations.json\")"
   ]
  },
  {
   "cell_type": "code",
   "execution_count": 4,
   "metadata": {},
   "outputs": [
    {
     "output_type": "execute_result",
     "data": {
      "text/plain": [
       "                 created_at                   id  \\\n",
       "0 2020-05-07 11:56:39+00:00  1258365124517203969   \n",
       "1 2020-05-07 11:56:42+00:00  1258365136999518208   \n",
       "2 2020-05-07 11:57:00+00:00  1258365210827644930   \n",
       "3 2020-05-07 11:57:05+00:00  1258365231497203714   \n",
       "4 2020-05-07 11:57:23+00:00  1258365308751970304   \n",
       "\n",
       "                                                text coordinates lang  \\\n",
       "0  This is a sad reality. AmeriKKKa must realize ...        None   en   \n",
       "1  RT @JhadiyahG: Please Share Ahmaud Arbery was ...        None   en   \n",
       "2  RT @SharLovegrove: DEVASTATED by the @guardian...        None   en   \n",
       "3  RT @ZayyWhosane: This shit so frustrating #Bla...        None   en   \n",
       "4  We can't break down on a public road with car ...        None   en   \n",
       "\n",
       "                                               place     user_location  \n",
       "0                                               None       Detroit, MI  \n",
       "1                                               None  Philadelphia, PA  \n",
       "2                                               None   Crazy Horse, ND  \n",
       "3                                               None   New Orleans, LA  \n",
       "4  {'id': '7f88808f3d4e1c41', 'url': 'https://api...        Mequon, WI  "
      ],
      "text/html": "<div>\n<style scoped>\n    .dataframe tbody tr th:only-of-type {\n        vertical-align: middle;\n    }\n\n    .dataframe tbody tr th {\n        vertical-align: top;\n    }\n\n    .dataframe thead th {\n        text-align: right;\n    }\n</style>\n<table border=\"1\" class=\"dataframe\">\n  <thead>\n    <tr style=\"text-align: right;\">\n      <th></th>\n      <th>created_at</th>\n      <th>id</th>\n      <th>text</th>\n      <th>coordinates</th>\n      <th>lang</th>\n      <th>place</th>\n      <th>user_location</th>\n    </tr>\n  </thead>\n  <tbody>\n    <tr>\n      <th>0</th>\n      <td>2020-05-07 11:56:39+00:00</td>\n      <td>1258365124517203969</td>\n      <td>This is a sad reality. AmeriKKKa must realize ...</td>\n      <td>None</td>\n      <td>en</td>\n      <td>None</td>\n      <td>Detroit, MI</td>\n    </tr>\n    <tr>\n      <th>1</th>\n      <td>2020-05-07 11:56:42+00:00</td>\n      <td>1258365136999518208</td>\n      <td>RT @JhadiyahG: Please Share Ahmaud Arbery was ...</td>\n      <td>None</td>\n      <td>en</td>\n      <td>None</td>\n      <td>Philadelphia, PA</td>\n    </tr>\n    <tr>\n      <th>2</th>\n      <td>2020-05-07 11:57:00+00:00</td>\n      <td>1258365210827644930</td>\n      <td>RT @SharLovegrove: DEVASTATED by the @guardian...</td>\n      <td>None</td>\n      <td>en</td>\n      <td>None</td>\n      <td>Crazy Horse, ND</td>\n    </tr>\n    <tr>\n      <th>3</th>\n      <td>2020-05-07 11:57:05+00:00</td>\n      <td>1258365231497203714</td>\n      <td>RT @ZayyWhosane: This shit so frustrating #Bla...</td>\n      <td>None</td>\n      <td>en</td>\n      <td>None</td>\n      <td>New Orleans, LA</td>\n    </tr>\n    <tr>\n      <th>4</th>\n      <td>2020-05-07 11:57:23+00:00</td>\n      <td>1258365308751970304</td>\n      <td>We can't break down on a public road with car ...</td>\n      <td>None</td>\n      <td>en</td>\n      <td>{'id': '7f88808f3d4e1c41', 'url': 'https://api...</td>\n      <td>Mequon, WI</td>\n    </tr>\n  </tbody>\n</table>\n</div>"
     },
     "metadata": {},
     "execution_count": 4
    }
   ],
   "source": [
    "tweets.head()"
   ]
  },
  {
   "source": [
    "#location\n",
    "splitted=tweets[\"user_location\"].str.split(\", \", n = 1, expand = True)\n",
    "tweets[\"state\"] = splitted[1]\n",
    "tweets[\"city\"] = splitted[0]\n",
    "tweets = tweets.drop(columns=['user_location', 'id', 'text', 'coordinates', 'lang', 'place'])\n",
    "\n",
    "#date\n",
    "def split(x):\n",
    "    x = str(x).split()[0]\n",
    "    return x\n",
    "tweets['created_at'] = tweets['created_at'].map(split)\n",
    "tweets['created_at'] = pd.to_datetime(tweets['created_at'], format=\"%Y-%m-%d\")\n",
    "tweets = tweets[tweets['created_at']>'2020-05-20']\n",
    "\n",
    "#"
   ],
   "cell_type": "code",
   "metadata": {},
   "execution_count": null,
   "outputs": []
  },
  {
   "cell_type": "code",
   "execution_count": 17,
   "metadata": {},
   "outputs": [
    {
     "output_type": "execute_result",
     "data": {
      "text/plain": [
       "   created_at   state          city  counts\n",
       "1  2020-05-26      15       she/her       2\n",
       "3  2020-05-26      16       she/her       2\n",
       "7  2020-05-26      17  any pronouns       4\n",
       "8  2020-05-26      17      he / him       3\n",
       "10 2020-05-26  17, 🇯🇲      she/they       5"
      ],
      "text/html": "<div>\n<style scoped>\n    .dataframe tbody tr th:only-of-type {\n        vertical-align: middle;\n    }\n\n    .dataframe tbody tr th {\n        vertical-align: top;\n    }\n\n    .dataframe thead th {\n        text-align: right;\n    }\n</style>\n<table border=\"1\" class=\"dataframe\">\n  <thead>\n    <tr style=\"text-align: right;\">\n      <th></th>\n      <th>created_at</th>\n      <th>state</th>\n      <th>city</th>\n      <th>counts</th>\n    </tr>\n  </thead>\n  <tbody>\n    <tr>\n      <th>1</th>\n      <td>2020-05-26</td>\n      <td>15</td>\n      <td>she/her</td>\n      <td>2</td>\n    </tr>\n    <tr>\n      <th>3</th>\n      <td>2020-05-26</td>\n      <td>16</td>\n      <td>she/her</td>\n      <td>2</td>\n    </tr>\n    <tr>\n      <th>7</th>\n      <td>2020-05-26</td>\n      <td>17</td>\n      <td>any pronouns</td>\n      <td>4</td>\n    </tr>\n    <tr>\n      <th>8</th>\n      <td>2020-05-26</td>\n      <td>17</td>\n      <td>he / him</td>\n      <td>3</td>\n    </tr>\n    <tr>\n      <th>10</th>\n      <td>2020-05-26</td>\n      <td>17, 🇯🇲</td>\n      <td>she/they</td>\n      <td>5</td>\n    </tr>\n  </tbody>\n</table>\n</div>"
     },
     "metadata": {},
     "execution_count": 17
    }
   ],
   "source": [
    "grouped.head()"
   ]
  },
  {
   "cell_type": "code",
   "execution_count": 22,
   "metadata": {},
   "outputs": [],
   "source": [
    "print(tweets.groupby(['createt_at', 'state', 'city']).size())\n"
   ]
  },
  {
   "cell_type": "code",
   "execution_count": 16,
   "metadata": {},
   "outputs": [],
   "source": [
    "grouped = tweets.groupby(['created_at','state', 'city']).size().reset_index(name='counts')\n",
    "grouped = grouped[grouped.counts>1]"
   ]
  },
  {
   "cell_type": "code",
   "execution_count": null,
   "metadata": {},
   "outputs": [],
   "source": [
    "grouped.head()"
   ]
  },
  {
   "cell_type": "code",
   "execution_count": null,
   "metadata": {},
   "outputs": [],
   "source": [
    "protest = pd.read_csv('ACLEDNeatAdress.csv')\n",
    "protest['protest'] = 1\n",
    "protest = protest.rename(columns={\"EVENT_DATE\": \"created_at\", \"state2\": \"state\", 'place': 'city'})\n",
    "protest['created_at'] = pd.to_datetime(protest['created_at'], format=\"%Y-%m-%d\")"
   ]
  },
  {
   "cell_type": "code",
   "execution_count": null,
   "metadata": {},
   "outputs": [],
   "source": []
  },
  {
   "cell_type": "code",
   "execution_count": null,
   "metadata": {},
   "outputs": [],
   "source": [
    "tweets[\"created_at\"] = pd.to_datetime(calendar[\"created_at\"])\n",
    "\n",
    "\n",
    "#transform cat to int\n",
    "for col, cat in cal_types.items():\n",
    "    if cat == \"category\":\n",
    "        calendar[col] = calendar[col].cat.codes.astype(\"int16\")\n",
    "        calendar[col] -= calendar[col].min()"
   ]
  }
 ]
}
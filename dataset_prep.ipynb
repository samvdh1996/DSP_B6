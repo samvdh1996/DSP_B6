{
 "metadata": {
  "language_info": {
   "codemirror_mode": {
    "name": "ipython",
    "version": 3
   },
   "file_extension": ".py",
   "mimetype": "text/x-python",
   "name": "python",
   "nbconvert_exporter": "python",
   "pygments_lexer": "ipython3",
   "version": "3.7.6-final"
  },
  "orig_nbformat": 2,
  "kernelspec": {
   "name": "python3",
   "display_name": "Python 3",
   "language": "python"
  }
 },
 "nbformat": 4,
 "nbformat_minor": 2,
 "cells": [
  {
   "cell_type": "code",
   "execution_count": 27,
   "metadata": {},
   "outputs": [],
   "source": [
    "import pandas as pd\n",
    "import jsonlines\n",
    "#1269748302142042113 is last tweet"
   ]
  },
  {
   "cell_type": "code",
   "execution_count": 28,
   "metadata": {},
   "outputs": [],
   "source": [
    "created_at=[]\n",
    "id=[]\n",
    "full_text=[]\n",
    "coordinates=[]\n",
    "lang=[]\n",
    "geo=[]\n",
    "with jsonlines.open('/Users/sam/Documents/Masters/Data_Systems_Project/blm_part3.jsonl') as reader:\n",
    "    for obj in reader:\n",
    "        created_at.append(obj['created_at'])\n",
    "        id.append(obj['id'])\n",
    "        full_text.append(obj['full_text'])\n",
    "        coordinates.append(obj['coordinates'])\n",
    "        lang.append(obj['lang'])"
   ]
  },
  {
   "cell_type": "code",
   "execution_count": 29,
   "metadata": {},
   "outputs": [],
   "source": [
    "tweets = pd.DataFrame()\n",
    "tweets['created_at']= created_at\n",
    "tweets['id']= id\n",
    "tweets['text']= full_text\n",
    "tweets['coordinates']= coordinates\n",
    "tweets['lang']= lang"
   ]
  },
  {
   "cell_type": "code",
   "execution_count": 30,
   "metadata": {},
   "outputs": [
    {
     "output_type": "stream",
     "name": "stdout",
     "text": [
      "length before: 7365723\n",
      "length after: 5208\n"
     ]
    }
   ],
   "source": [
    "print('length before:', len(tweets))\n",
    "tweets = tweets[pd.notnull(tweets['coordinates'])]\n",
    "print('length after:', len(tweets))"
   ]
  },
  {
   "cell_type": "code",
   "execution_count": 31,
   "metadata": {},
   "outputs": [
    {
     "output_type": "execute_result",
     "data": {
      "text/plain": [
       "                          created_at                   id  \\\n",
       "784   Sun Jun 07 21:49:51 +0000 2020  1269748431565852673   \n",
       "1099  Sun Jun 07 21:50:04 +0000 2020  1269748484372082688   \n",
       "2373  Sun Jun 07 21:51:11 +0000 2020  1269748765809938434   \n",
       "2796  Sun Jun 07 21:51:27 +0000 2020  1269748835661811713   \n",
       "3227  Sun Jun 07 21:51:43 +0000 2020  1269748901294280704   \n",
       "5424  Sun Jun 07 21:53:19 +0000 2020  1269749305218301955   \n",
       "7381  Sun Jun 07 21:54:40 +0000 2020  1269749643648413696   \n",
       "7936  Sun Jun 07 21:55:07 +0000 2020  1269749757209124865   \n",
       "7958  Sun Jun 07 21:55:08 +0000 2020  1269749761403506690   \n",
       "8901  Sun Jun 07 21:55:45 +0000 2020  1269749915124740098   \n",
       "\n",
       "                                                   text  \\\n",
       "784   Say their names and never forget. #blm #blackl...   \n",
       "1099  This was necessary. Prayer and action on displ...   \n",
       "2373  Water flows.........   but water also crashes!...   \n",
       "2796  Montclair Black Lives Matter Unity Walk.\\n.\\n....   \n",
       "3227  More Scenes from Artists Respond on Plywood: t...   \n",
       "5424         #blacklivesmatter  https://t.co/Rx4QD0io3Q   \n",
       "7381  8 minutes and 46 seconds of kneeling; the amou...   \n",
       "7936  6/7/2020 peaceful protest. #blacklivesmatter #...   \n",
       "7958  Am I Next, For Unity Protest in Grand Rapids y...   \n",
       "8901  That’s what I say. #blm #blacklivesmatter✊🏽✊🏾✊...   \n",
       "\n",
       "                                            coordinates lang  \n",
       "784   {'type': 'Point', 'coordinates': [-73.8669, 40...   en  \n",
       "1099  {'type': 'Point', 'coordinates': [-80.579781, ...   en  \n",
       "2373  {'type': 'Point', 'coordinates': [-77.036485, ...   en  \n",
       "2796  {'type': 'Point', 'coordinates': [-74.2176, 40...   en  \n",
       "3227  {'type': 'Point', 'coordinates': [-93.11129, 4...   en  \n",
       "5424  {'type': 'Point', 'coordinates': [-76.29431932...  und  \n",
       "7381  {'type': 'Point', 'coordinates': [-76.73095702...   en  \n",
       "7936  {'type': 'Point', 'coordinates': [-74.2176, 40...   en  \n",
       "7958  {'type': 'Point', 'coordinates': [-85.6557, 42...   en  \n",
       "8901  {'type': 'Point', 'coordinates': [-73.98785, 4...   en  "
      ],
      "text/html": "<div>\n<style scoped>\n    .dataframe tbody tr th:only-of-type {\n        vertical-align: middle;\n    }\n\n    .dataframe tbody tr th {\n        vertical-align: top;\n    }\n\n    .dataframe thead th {\n        text-align: right;\n    }\n</style>\n<table border=\"1\" class=\"dataframe\">\n  <thead>\n    <tr style=\"text-align: right;\">\n      <th></th>\n      <th>created_at</th>\n      <th>id</th>\n      <th>text</th>\n      <th>coordinates</th>\n      <th>lang</th>\n    </tr>\n  </thead>\n  <tbody>\n    <tr>\n      <th>784</th>\n      <td>Sun Jun 07 21:49:51 +0000 2020</td>\n      <td>1269748431565852673</td>\n      <td>Say their names and never forget. #blm #blackl...</td>\n      <td>{'type': 'Point', 'coordinates': [-73.8669, 40...</td>\n      <td>en</td>\n    </tr>\n    <tr>\n      <th>1099</th>\n      <td>Sun Jun 07 21:50:04 +0000 2020</td>\n      <td>1269748484372082688</td>\n      <td>This was necessary. Prayer and action on displ...</td>\n      <td>{'type': 'Point', 'coordinates': [-80.579781, ...</td>\n      <td>en</td>\n    </tr>\n    <tr>\n      <th>2373</th>\n      <td>Sun Jun 07 21:51:11 +0000 2020</td>\n      <td>1269748765809938434</td>\n      <td>Water flows.........   but water also crashes!...</td>\n      <td>{'type': 'Point', 'coordinates': [-77.036485, ...</td>\n      <td>en</td>\n    </tr>\n    <tr>\n      <th>2796</th>\n      <td>Sun Jun 07 21:51:27 +0000 2020</td>\n      <td>1269748835661811713</td>\n      <td>Montclair Black Lives Matter Unity Walk.\\n.\\n....</td>\n      <td>{'type': 'Point', 'coordinates': [-74.2176, 40...</td>\n      <td>en</td>\n    </tr>\n    <tr>\n      <th>3227</th>\n      <td>Sun Jun 07 21:51:43 +0000 2020</td>\n      <td>1269748901294280704</td>\n      <td>More Scenes from Artists Respond on Plywood: t...</td>\n      <td>{'type': 'Point', 'coordinates': [-93.11129, 4...</td>\n      <td>en</td>\n    </tr>\n    <tr>\n      <th>5424</th>\n      <td>Sun Jun 07 21:53:19 +0000 2020</td>\n      <td>1269749305218301955</td>\n      <td>#blacklivesmatter  https://t.co/Rx4QD0io3Q</td>\n      <td>{'type': 'Point', 'coordinates': [-76.29431932...</td>\n      <td>und</td>\n    </tr>\n    <tr>\n      <th>7381</th>\n      <td>Sun Jun 07 21:54:40 +0000 2020</td>\n      <td>1269749643648413696</td>\n      <td>8 minutes and 46 seconds of kneeling; the amou...</td>\n      <td>{'type': 'Point', 'coordinates': [-76.73095702...</td>\n      <td>en</td>\n    </tr>\n    <tr>\n      <th>7936</th>\n      <td>Sun Jun 07 21:55:07 +0000 2020</td>\n      <td>1269749757209124865</td>\n      <td>6/7/2020 peaceful protest. #blacklivesmatter #...</td>\n      <td>{'type': 'Point', 'coordinates': [-74.2176, 40...</td>\n      <td>en</td>\n    </tr>\n    <tr>\n      <th>7958</th>\n      <td>Sun Jun 07 21:55:08 +0000 2020</td>\n      <td>1269749761403506690</td>\n      <td>Am I Next, For Unity Protest in Grand Rapids y...</td>\n      <td>{'type': 'Point', 'coordinates': [-85.6557, 42...</td>\n      <td>en</td>\n    </tr>\n    <tr>\n      <th>8901</th>\n      <td>Sun Jun 07 21:55:45 +0000 2020</td>\n      <td>1269749915124740098</td>\n      <td>That’s what I say. #blm #blacklivesmatter✊🏽✊🏾✊...</td>\n      <td>{'type': 'Point', 'coordinates': [-73.98785, 4...</td>\n      <td>en</td>\n    </tr>\n  </tbody>\n</table>\n</div>"
     },
     "metadata": {},
     "execution_count": 31
    }
   ],
   "source": [
    "tweets.head(10)"
   ]
  },
  {
   "cell_type": "code",
   "execution_count": 32,
   "metadata": {},
   "outputs": [],
   "source": [
    "tweets.to_json(',,,,,.json')"
   ]
  },
  {
   "cell_type": "code",
   "execution_count": null,
   "metadata": {},
   "outputs": [],
   "source": []
  }
 ]
}
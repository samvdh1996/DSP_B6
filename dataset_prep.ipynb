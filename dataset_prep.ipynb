{
 "metadata": {
  "language_info": {
   "codemirror_mode": {
    "name": "ipython",
    "version": 3
   },
   "file_extension": ".py",
   "mimetype": "text/x-python",
   "name": "python",
   "nbconvert_exporter": "python",
   "pygments_lexer": "ipython3",
   "version": "3.7.6-final"
  },
  "orig_nbformat": 2,
  "kernelspec": {
   "name": "python3",
   "display_name": "Python 3"
  }
 },
 "nbformat": 4,
 "nbformat_minor": 2,
 "cells": [
  {
   "cell_type": "code",
   "execution_count": 153,
   "metadata": {},
   "outputs": [],
   "source": [
    "import pandas as pd\n",
    "import jsonlines"
   ]
  },
  {
   "cell_type": "code",
   "execution_count": 151,
   "metadata": {},
   "outputs": [
    {
     "output_type": "execute_result",
     "data": {
      "text/plain": [
       "33817799"
      ]
     },
     "metadata": {},
     "execution_count": 151
    }
   ],
   "source": [
    "len(data)"
   ]
  },
  {
   "cell_type": "code",
   "execution_count": 169,
   "metadata": {},
   "outputs": [],
   "source": [
    "tweets = pd.DataFrame()\n",
    "created_at=[]\n",
    "id=[]\n",
    "full_text=[]\n",
    "coordinates=[]\n",
    "lang=[]\n",
    "geo=[]\n",
    "#hashtags=[]\n",
    "with jsonlines.open('blm_test.jsonl') as reader:\n",
    "    for obj in reader:\n",
    "        created_at.append(obj['created_at'])\n",
    "        id.append(obj['id'])\n",
    "        full_text.append(obj['full_text'])\n",
    "        coordinates.append(obj['coordinates'])\n",
    "        lang.append(obj['lang'])\n",
    "        geo.append(obj['geo'])"
   ]
  },
  {
   "cell_type": "code",
   "execution_count": 170,
   "metadata": {},
   "outputs": [],
   "source": [
    "tweets['created_at']= created_at\n",
    "tweets['id']= id\n",
    "tweets['text']= full_text\n",
    "tweets['coordinates']= coordinates\n",
    "tweets['lang']= lang\n",
    "tweets['geo']= geo"
   ]
  },
  {
   "cell_type": "code",
   "execution_count": 171,
   "metadata": {},
   "outputs": [
    {
     "output_type": "execute_result",
     "data": {
      "text/plain": [
       "                       created_at                   id  \\\n",
       "0  Thu Apr 30 21:17:26 +0000 2020  1255969533522739206   \n",
       "\n",
       "                                                text coordinates lang   geo  \n",
       "0  Criminals used to be arrested. https://t.co/nX...        None   en  None  "
      ],
      "text/html": "<div>\n<style scoped>\n    .dataframe tbody tr th:only-of-type {\n        vertical-align: middle;\n    }\n\n    .dataframe tbody tr th {\n        vertical-align: top;\n    }\n\n    .dataframe thead th {\n        text-align: right;\n    }\n</style>\n<table border=\"1\" class=\"dataframe\">\n  <thead>\n    <tr style=\"text-align: right;\">\n      <th></th>\n      <th>created_at</th>\n      <th>id</th>\n      <th>text</th>\n      <th>coordinates</th>\n      <th>lang</th>\n      <th>geo</th>\n    </tr>\n  </thead>\n  <tbody>\n    <tr>\n      <th>0</th>\n      <td>Thu Apr 30 21:17:26 +0000 2020</td>\n      <td>1255969533522739206</td>\n      <td>Criminals used to be arrested. https://t.co/nX...</td>\n      <td>None</td>\n      <td>en</td>\n      <td>None</td>\n    </tr>\n  </tbody>\n</table>\n</div>"
     },
     "metadata": {},
     "execution_count": 171
    }
   ],
   "source": [
    "tweets"
   ]
  },
  {
   "cell_type": "code",
   "execution_count": 85,
   "metadata": {},
   "outputs": [],
   "source": [
    "def clean_hyperlinks(text): \n",
    "    result = re.sub(r'https?://[^\\s<>\"]+|www\\.[^\\s<>\"]+',\" \", text)\n",
    "    return result"
   ]
  },
  {
   "cell_type": "code",
   "execution_count": 86,
   "metadata": {},
   "outputs": [
    {
     "output_type": "stream",
     "name": "stdout",
     "text": [
      "533706\n"
     ]
    }
   ],
   "source": [
    "print(len(tweets))\n",
    "tweets2 = tweets"
   ]
  },
  {
   "cell_type": "code",
   "execution_count": 87,
   "metadata": {},
   "outputs": [],
   "source": [
    "tweets = tweets[tweets['lang'] == 'en']\n",
    "tweets['text'] = tweets['text'].apply(clean_hyperlinks)\n",
    "tweets['text'].replace('', np.nan, inplace=True)\n",
    "tweets.dropna(subset=['text'], inplace=True)"
   ]
  },
  {
   "cell_type": "code",
   "execution_count": 88,
   "metadata": {},
   "outputs": [],
   "source": [
    "def string_manipulation(df,column): \n",
    "    #extract hashtags\n",
    "    df[\"hashtag\"]  = df[column].str.findall(r'#.*?(?=\\s|$)')\n",
    "    #extract twitter account references\n",
    "    df[\"accounts\"] = df[column].str.findall(r'@.*?(?=\\s|$)')\n",
    "    return df"
   ]
  },
  {
   "cell_type": "code",
   "execution_count": 89,
   "metadata": {},
   "outputs": [],
   "source": [
    "tweets = string_manipulation(tweets,\"text\")"
   ]
  },
  {
   "cell_type": "code",
   "execution_count": 90,
   "metadata": {},
   "outputs": [],
   "source": [
    "tweets['hashtag'] = tweets['hashtag'].apply(lambda x: ','.join(map(str, x)))"
   ]
  },
  {
   "cell_type": "code",
   "execution_count": 91,
   "metadata": {},
   "outputs": [],
   "source": [
    "from string import punctuation\n",
    "def punctation(text): \n",
    "    result = text.replace(\"#\", \"\")\n",
    "    result = result.lower()\n",
    "    return result\n",
    "tweets['hashtag'] = tweets['hashtag'].apply(punctation)"
   ]
  },
  {
   "cell_type": "code",
   "execution_count": 92,
   "metadata": {},
   "outputs": [],
   "source": [
    "def inlist(text): \n",
    "    result = text.split(\",\")\n",
    "    return result\n",
    "tweets['hashtag'] = tweets['hashtag'].apply(inlist)"
   ]
  },
  {
   "cell_type": "code",
   "execution_count": 93,
   "metadata": {},
   "outputs": [],
   "source": [
    "list_of_tweets = []\n",
    "for tweet in tweets['text']:\n",
    "    temp = tweet\n",
    "    list_of_tweets.append(temp)"
   ]
  },
  {
   "cell_type": "code",
   "execution_count": 94,
   "metadata": {},
   "outputs": [],
   "source": [
    "from nltk.corpus import stopwords \n",
    "from nltk.stem.wordnet import WordNetLemmatizer\n",
    "import string\n",
    "\n",
    "# Create a set of stopwords\n",
    "stop = set(stopwords.words('english'))\n",
    "\n",
    "# Create a set of punctuation words \n",
    "exclude = set(string.punctuation) \n",
    "\n",
    "# This is the function makeing the lemmatization\n",
    "lemma = WordNetLemmatizer()\n",
    "\n",
    "# In this function we perform the entire cleaning\n",
    "def clean(doc):\n",
    "    stop_free = \" \".join([i for i in doc.lower().split() if i not in stop])\n",
    "    punc_free = ''.join(ch for ch in stop_free if ch not in exclude)\n",
    "    normalized = \" \".join(lemma.lemmatize(word) for word in punc_free.split())\n",
    "    return normalized\n",
    "\n",
    "# This is the clean corpus.\n",
    "doc_clean = [clean(doc).split() for doc in list_of_tweets] \n",
    "tweets['token'] = doc_clean"
   ]
  },
  {
   "cell_type": "code",
   "execution_count": 128,
   "metadata": {},
   "outputs": [
    {
     "output_type": "execute_result",
     "data": {
      "text/plain": [
       "                            created_at                  id  \\\n",
       "533651  Sat Jan 03 15:38:53 +0000 2015  551402323918860288   \n",
       "533652  Sat Jan 03 15:38:59 +0000 2015  551402351614255104   \n",
       "533653  Sat Jan 03 15:39:17 +0000 2015  551402426150813696   \n",
       "533654  Sat Jan 03 15:39:57 +0000 2015  551402594502209536   \n",
       "533655  Sat Jan 03 15:40:00 +0000 2015  551402604266545152   \n",
       "533656  Sat Jan 03 15:40:11 +0000 2015  551402653113397249   \n",
       "533657  Sat Jan 03 15:40:21 +0000 2015  551402692091080704   \n",
       "533658  Sat Jan 03 15:40:35 +0000 2015  551402752623271937   \n",
       "533659  Sat Jan 03 15:40:37 +0000 2015  551402762161102848   \n",
       "533660  Sat Jan 03 15:41:05 +0000 2015  551402880503386112   \n",
       "533661  Sat Jan 03 15:41:58 +0000 2015  551403100531998720   \n",
       "533662  Sat Jan 03 15:41:59 +0000 2015  551403104826970112   \n",
       "533663  Sat Jan 03 15:42:13 +0000 2015  551403162742300672   \n",
       "533664  Sat Jan 03 15:42:24 +0000 2015  551403209030258688   \n",
       "533665  Sat Jan 03 15:42:26 +0000 2015  551403219855765505   \n",
       "533666  Sat Jan 03 15:42:42 +0000 2015  551403287405019136   \n",
       "533668  Sat Jan 03 15:43:19 +0000 2015  551403438656212993   \n",
       "533669  Sat Jan 03 15:43:41 +0000 2015  551403533593874433   \n",
       "533670  Sat Jan 03 15:43:58 +0000 2015  551403606092824578   \n",
       "533671  Sat Jan 03 15:44:32 +0000 2015  551403748862357504   \n",
       "533672  Sat Jan 03 15:44:37 +0000 2015  551403767480860672   \n",
       "533673  Sat Jan 03 15:45:41 +0000 2015  551404034482266113   \n",
       "533674  Sat Jan 03 15:45:48 +0000 2015  551404066086338560   \n",
       "533677  Sat Jan 03 15:46:42 +0000 2015  551404290473201664   \n",
       "533678  Sat Jan 03 15:46:47 +0000 2015  551404314481393665   \n",
       "533679  Sat Jan 03 15:47:25 +0000 2015  551404472153296896   \n",
       "533680  Sat Jan 03 15:47:36 +0000 2015  551404519045599232   \n",
       "533681  Sat Jan 03 15:47:37 +0000 2015  551404521801666561   \n",
       "533682  Sat Jan 03 15:47:39 +0000 2015  551404529690750976   \n",
       "533683  Sat Jan 03 15:47:57 +0000 2015  551404605201215489   \n",
       "533684  Sat Jan 03 15:48:36 +0000 2015  551404771970928640   \n",
       "533685  Sat Jan 03 15:49:23 +0000 2015  551404969287376896   \n",
       "533686  Sat Jan 03 15:50:01 +0000 2015  551405128369319936   \n",
       "533687  Sat Jan 03 15:50:02 +0000 2015  551405129786986496   \n",
       "533688  Sat Jan 03 15:50:53 +0000 2015  551405343775793153   \n",
       "533690  Sat Jan 03 15:52:58 +0000 2015  551405868043231233   \n",
       "533691  Sat Jan 03 15:57:47 +0000 2015  551407079681183744   \n",
       "533692  Sat Jan 03 15:58:18 +0000 2015  551407209708417024   \n",
       "533693  Sat Jan 03 15:58:53 +0000 2015  551407357373067265   \n",
       "533694  Sat Jan 03 15:58:56 +0000 2015  551407369356603392   \n",
       "533695  Sat Jan 03 15:58:56 +0000 2015  551407369456873472   \n",
       "533696  Sat Jan 03 15:59:42 +0000 2015  551407562483314688   \n",
       "533697  Sat Jan 03 16:01:06 +0000 2015  551407917195616256   \n",
       "533698  Sat Jan 03 16:02:14 +0000 2015  551408202349178881   \n",
       "533699  Sat Jan 03 16:03:18 +0000 2015  551408471451893760   \n",
       "533700  Sat Jan 03 16:03:42 +0000 2015  551408572400427009   \n",
       "533701  Sat Jan 03 16:04:21 +0000 2015  551408735646937089   \n",
       "533703  Sat Jan 03 16:07:34 +0000 2015  551409544069271552   \n",
       "533704  Sat Jan 03 16:08:25 +0000 2015  551409757912055808   \n",
       "533705  Sat Jan 03 16:10:09 +0000 2015  551410191548166144   \n",
       "\n",
       "                                                     text  \\\n",
       "533651  I try not to take it personally when u condemn...   \n",
       "533652  WATCH Black People's Grand Jury on #MikeBrown ...   \n",
       "533653  @TheVikChick 1/9 #ATL Plz Watch/RETWEET   #bla...   \n",
       "533654  Mother's Moving Sign Why She Protests At Fox N...   \n",
       "533655        John Nantz - #AllLivesMatter? Not So Much     \n",
       "533656                   #blacklivesmatter Damon Turner     \n",
       "533657                  2 cops killed #BlackLivesMatter     \n",
       "533658  Policy Changes the Anti-#PoliceViolence Moveme...   \n",
       "533659  @Shelbypitt8Pitt @JenLLM I wish we had the mea...   \n",
       "533660  Be extremely subtle, even to the point of form...   \n",
       "533661  Join the #movement We ain't gonna stop til peo...   \n",
       "533662  Bill Introduced To Ban #Protesters From Wearin...   \n",
       "533663  #research started watching cop movies\\n&amp; r...   \n",
       "533664  'Sun Is Still Out and Everything' After Arrest...   \n",
       "533665  #MayorDeBlasio RESIGN, NOT Fit toLead,Anti-Pol...   \n",
       "533666  Remember the queer feminist 'Herstory of the #...   \n",
       "533668  @Shelbypitt8Pitt @JenLLM It appears that way t...   \n",
       "533669  \"Until #AllLivesMatter there are no truths in ...   \n",
       "533670  #AllLivesMatter includes everyone. White, blac...   \n",
       "533671  Oprah Says #BlackLivesMatter Protests Lack ‘Le...   \n",
       "533672  One of #AlSharpton MayordeBlasio,#Obama's Left...   \n",
       "533673            #BlackLivesMatter Family is Essential     \n",
       "533674  #AllLivesMatter and tbh\\n#BlackLivesMatter mor...   \n",
       "533677  John Nantz - #AllLivesMatter? Not So Much   #B...   \n",
       "533678  “@nytimes: No Turned Backs at Officer Liu’s Fu...   \n",
       "533679  Tomorrow's #BlackLivesMatter protest in Israel...   \n",
       "533680  Do police have a death wish for black men?  Ex...   \n",
       "533681  @Oprah:\"the movement needs leaders\"   protesto...   \n",
       "533682  RESIGN NOW! #MayordeBlasio! #AlSharpton #Black...   \n",
       "533683  @Shelbypitt8Pitt @JenLLM ... would have never ...   \n",
       "533684  #BlackLivesMatter You were created to be loved!     \n",
       "533685  Can't Stop, Won't Stop: #BlackLivesMatter Move...   \n",
       "533686  All Lives Matter God show yourself strong RT @...   \n",
       "533687  All Lives Matter God show yourself strong RT @...   \n",
       "533688  Oprah Says #BlackLivesMatter Protests Lack ‘Le...   \n",
       "533690                  \\n#AllLivesMatter \\nPlz rt peeps!   \n",
       "533691  #Bless Someone Today!\\n#Love #Blessings #Chris...   \n",
       "533692  I added a video to a @YouTube playlist   #NYE2...   \n",
       "533693  I added a video to a @YouTube playlist   #NYE2...   \n",
       "533694  I added a video to a @YouTube playlist   #NYE2...   \n",
       "533695  I added a video to a @YouTube playlist   #NYE2...   \n",
       "533696  A moment of growth...\\n\\nWhen you stop caring ...   \n",
       "533697  @wizdom4you Luv your tweets! Please keep them ...   \n",
       "533698  2015 new year same struggle #BlackLivesMatter \\n    \n",
       "533699  @JDGEXMMG Mr - 27 Welcome - To - My - City by ...   \n",
       "533700  @SrNaturalista @AnonCrips @FoxNews @umojasasa ...   \n",
       "533701  @GrumpyMrRedNeck One of the positives coming o...   \n",
       "533703  Tell SFBart to drop the $70k fine for BlackLiv...   \n",
       "533704  @JoeNBC #BlackLivesMatter when it comes to rat...   \n",
       "533705  @ABGray 1/9 #ATL Plz Watch/RETWEET   #blackliv...   \n",
       "\n",
       "                                              coordinates lang  \\\n",
       "533651                                               None   en   \n",
       "533652                                               None   en   \n",
       "533653                                               None   en   \n",
       "533654                                               None   en   \n",
       "533655                                               None   en   \n",
       "533656                                               None   en   \n",
       "533657                                               None   en   \n",
       "533658                                               None   en   \n",
       "533659                                               None   en   \n",
       "533660                                               None   en   \n",
       "533661                                               None   en   \n",
       "533662                                               None   en   \n",
       "533663                                               None   en   \n",
       "533664                                               None   en   \n",
       "533665                                               None   en   \n",
       "533666                                               None   en   \n",
       "533668                                               None   en   \n",
       "533669                                               None   en   \n",
       "533670                                               None   en   \n",
       "533671                                               None   en   \n",
       "533672                                               None   en   \n",
       "533673                                               None   en   \n",
       "533674                                               None   en   \n",
       "533677                                               None   en   \n",
       "533678                                               None   en   \n",
       "533679                                               None   en   \n",
       "533680                                               None   en   \n",
       "533681  {'type': 'Point', 'coordinates': [-17.5055061,...   en   \n",
       "533682                                               None   en   \n",
       "533683                                               None   en   \n",
       "533684                                               None   en   \n",
       "533685                                               None   en   \n",
       "533686                                               None   en   \n",
       "533687                                               None   en   \n",
       "533688                                               None   en   \n",
       "533690                                               None   en   \n",
       "533691                                               None   en   \n",
       "533692                                               None   en   \n",
       "533693                                               None   en   \n",
       "533694                                               None   en   \n",
       "533695                                               None   en   \n",
       "533696                                               None   en   \n",
       "533697                                               None   en   \n",
       "533698                                               None   en   \n",
       "533699                                               None   en   \n",
       "533700                                               None   en   \n",
       "533701                                               None   en   \n",
       "533703                                               None   en   \n",
       "533704                                               None   en   \n",
       "533705                                               None   en   \n",
       "\n",
       "                                                      geo  \\\n",
       "533651                                               None   \n",
       "533652                                               None   \n",
       "533653                                               None   \n",
       "533654                                               None   \n",
       "533655                                               None   \n",
       "533656                                               None   \n",
       "533657                                               None   \n",
       "533658                                               None   \n",
       "533659                                               None   \n",
       "533660                                               None   \n",
       "533661                                               None   \n",
       "533662                                               None   \n",
       "533663                                               None   \n",
       "533664                                               None   \n",
       "533665                                               None   \n",
       "533666                                               None   \n",
       "533668                                               None   \n",
       "533669                                               None   \n",
       "533670                                               None   \n",
       "533671                                               None   \n",
       "533672                                               None   \n",
       "533673                                               None   \n",
       "533674                                               None   \n",
       "533677                                               None   \n",
       "533678                                               None   \n",
       "533679                                               None   \n",
       "533680                                               None   \n",
       "533681  {'type': 'Point', 'coordinates': [14.74835449,...   \n",
       "533682                                               None   \n",
       "533683                                               None   \n",
       "533684                                               None   \n",
       "533685                                               None   \n",
       "533686                                               None   \n",
       "533687                                               None   \n",
       "533688                                               None   \n",
       "533690                                               None   \n",
       "533691                                               None   \n",
       "533692                                               None   \n",
       "533693                                               None   \n",
       "533694                                               None   \n",
       "533695                                               None   \n",
       "533696                                               None   \n",
       "533697                                               None   \n",
       "533698                                               None   \n",
       "533699                                               None   \n",
       "533700                                               None   \n",
       "533701                                               None   \n",
       "533703                                               None   \n",
       "533704                                               None   \n",
       "533705                                               None   \n",
       "\n",
       "                                                  hashtag  \\\n",
       "533651               [blacklivesmatter, whitelivesmatter]   \n",
       "533652  [mikebrown, ferguson, blacktwitter, blacklives...   \n",
       "533653                            [atl, blacklivesmatter]   \n",
       "533654                   [icantbreathe, blacklivesmatter]   \n",
       "533655                                  [alllivesmatter?]   \n",
       "533656                                 [blacklivesmatter]   \n",
       "533657                                 [blacklivesmatter]   \n",
       "533658       [policeviolence, blacklivesmatter, politics]   \n",
       "533659                                 [blacklivesmatter]   \n",
       "533660                            [blacklivesmatter, aow]   \n",
       "533661  [movement, tamirrice, johncrawford, blacklives...   \n",
       "533662  [protesters, hoodies, oklahoma, protests, occu...   \n",
       "533663                       [research, blacklivesmatter]   \n",
       "533664              [blacklivesmatter, policelivesmatter]   \n",
       "533665  [mayordeblasio, alsharton, nypd, blacklivesmat...   \n",
       "533666                                 [blacklivesmatter]   \n",
       "533668                                 [blacklivesmatter]   \n",
       "533669                                   [alllivesmatter]   \n",
       "533670                          [alllivesmatter, prolife]   \n",
       "533671                                 [blacklivesmatter]   \n",
       "533672  [alsharpton, obama's, blacklivesmatter, nypd, ...   \n",
       "533673                                 [blacklivesmatter]   \n",
       "533674                 [alllivesmatter, blacklivesmatter]   \n",
       "533677                 [alllivesmatter?, bluelivesmatter]   \n",
       "533678                                  [bluelivesmatter]   \n",
       "533679               [blacklivesmatter, strikeforfreedom]   \n",
       "533680            [unctv, blacklivesmatter, icantbreathe]   \n",
       "533681                                 [blacklivesmatter]   \n",
       "533682  [mayordeblasio!, alsharpton, blacklivesmatter,...   \n",
       "533683                                 [blacklivesmatter]   \n",
       "533684                                 [blacklivesmatter]   \n",
       "533685                                 [blacklivesmatter]   \n",
       "533686                                                 []   \n",
       "533687                                                 []   \n",
       "533688                                 [blacklivesmatter]   \n",
       "533690                                   [alllivesmatter]   \n",
       "533691  [bless, love, blessings, christian, humanity, ...   \n",
       "533692  [nye2015, happysa2015, happynewyeareverybody, ...   \n",
       "533693  [nye2015, happysa2015, happynewyeareverybody, ...   \n",
       "533694  [nye2015, happysa2015, happynewyeareverybody, ...   \n",
       "533695  [nye2015, happysa2015, happynewyeareverybody, ...   \n",
       "533696                                 [blacklivesmatter]   \n",
       "533697                                 [blacklivesmatter]   \n",
       "533698                                 [blacklivesmatter]   \n",
       "533699  [soundcloud, indiemusic, blacklivesmatter, bla...   \n",
       "533700                                 [blacklivesmatter]   \n",
       "533701                                 [blacklivesmatter]   \n",
       "533703                                                 []   \n",
       "533704                                 [blacklivesmatter]   \n",
       "533705                            [atl, blacklivesmatter]   \n",
       "\n",
       "                                                 accounts  \\\n",
       "533651                                                 []   \n",
       "533652                                                 []   \n",
       "533653                                     [@TheVikChick]   \n",
       "533654                                        [@AshAgony]   \n",
       "533655                                                 []   \n",
       "533656                                                 []   \n",
       "533657                                                 []   \n",
       "533658                                       [@DMcKinson]   \n",
       "533659                        [@Shelbypitt8Pitt, @JenLLM]   \n",
       "533660                                                 []   \n",
       "533661                                         [@youtube]   \n",
       "533662                                                 []   \n",
       "533663                                                 []   \n",
       "533664                                                 []   \n",
       "533665                                                 []   \n",
       "533666                                                 []   \n",
       "533668                        [@Shelbypitt8Pitt, @JenLLM]   \n",
       "533669                  [@MayorLandrieu,, @NOLA_FOR_LIFE]   \n",
       "533670                                                 []   \n",
       "533671                                                 []   \n",
       "533672                                                 []   \n",
       "533673                                                 []   \n",
       "533674                                                 []   \n",
       "533677   [@BradThor, @SheriffClarke, @BoDietl, @dbongino]   \n",
       "533678                                        [@nytimes:]   \n",
       "533679                                                 []   \n",
       "533680                                                 []   \n",
       "533681                                      [@Oprah:\"the]   \n",
       "533682                                                 []   \n",
       "533683                        [@Shelbypitt8Pitt, @JenLLM]   \n",
       "533684                                                 []   \n",
       "533685                                                 []   \n",
       "533686                                     [@ptfuller76:]   \n",
       "533687                                     [@ptfuller76:]   \n",
       "533688                                                 []   \n",
       "533690                                                 []   \n",
       "533691                                                 []   \n",
       "533692                                         [@YouTube]   \n",
       "533693                                         [@YouTube]   \n",
       "533694                                         [@YouTube]   \n",
       "533695                                         [@YouTube]   \n",
       "533696                                                 []   \n",
       "533697                                      [@wizdom4you]   \n",
       "533698                                                 []   \n",
       "533699                                        [@JDGEXMMG]   \n",
       "533700  [@SrNaturalista, @AnonCrips, @FoxNews, @umojas...   \n",
       "533701                         [@GrumpyMrRedNeck, @deray]   \n",
       "533703                                                 []   \n",
       "533704                                          [@JoeNBC]   \n",
       "533705                                          [@ABGray]   \n",
       "\n",
       "                                                    token  \n",
       "533651  [try, take, personally, u, condemn, white, pol...  \n",
       "533652  [watch, black, people, grand, jury, mikebrown,...  \n",
       "533653  [thevikchick, 19, atl, plz, watchretweet, blac...  \n",
       "533654  [mother, moving, sign, protest, fox, newsnewsc...  \n",
       "533655                [john, nantz, alllivesmatter, much]  \n",
       "533656                  [blacklivesmatter, damon, turner]  \n",
       "533657                 [2, cop, killed, blacklivesmatter]  \n",
       "533658  [policy, change, antipoliceviolence, movement,...  \n",
       "533659  [shelbypitt8pitt, jenllm, wish, mean, help, ex...  \n",
       "533660  [extremely, subtle, even, point, formlessness,...  \n",
       "533661  [join, movement, aint, gonna, stop, til, peopl...  \n",
       "533662  [bill, introduced, ban, protester, wearing, ho...  \n",
       "533663  [research, started, watching, cop, movie, amp,...  \n",
       "533664  [sun, still, everything, arrest, drop, twothir...  \n",
       "533665  [mayordeblasio, resign, fit, toleadantipolicep...  \n",
       "533666  [remember, queer, feminist, herstory, blackliv...  \n",
       "533668  [shelbypitt8pitt, jenllm, appears, way, u, wri...  \n",
       "533669  [until, alllivesmatter, truth, country, hold, ...  \n",
       "533670  [alllivesmatter, includes, everyone, white, bl...  \n",
       "533671  [oprah, say, blacklivesmatter, protest, lack, ...  \n",
       "533672  [one, alsharpton, mayordeblasioobamas, leftist...  \n",
       "533673              [blacklivesmatter, family, essential]  \n",
       "533674  [alllivesmatter, tbh, blacklivesmatter, recogn...  \n",
       "533677  [john, nantz, alllivesmatter, much, bluelivesm...  \n",
       "533678  [“nytimes, turned, back, officer, liu’s, funer...  \n",
       "533679  [tomorrow, blacklivesmatter, protest, israel, ...  \n",
       "533680  [police, death, wish, black, men, expert, disc...  \n",
       "533681  [oprahthe, movement, need, leader, protestorsk...  \n",
       "533682  [resign, now, mayordeblasio, alsharpton, black...  \n",
       "533683  [shelbypitt8pitt, jenllm, would, never, though...  \n",
       "533684                 [blacklivesmatter, created, loved]  \n",
       "533685  [cant, stop, stop, blacklivesmatter, movement,...  \n",
       "533686  [life, matter, god, show, strong, rt, ptfuller...  \n",
       "533687  [life, matter, god, show, strong, rt, ptfuller...  \n",
       "533688  [oprah, say, blacklivesmatter, protest, lack, ...  \n",
       "533690                    [alllivesmatter, plz, rt, peep]  \n",
       "533691  [bless, someone, today, love, blessing, christ...  \n",
       "533692  [added, video, youtube, playlist, nye2015, hap...  \n",
       "533693  [added, video, youtube, playlist, nye2015, hap...  \n",
       "533694  [added, video, youtube, playlist, nye2015, hap...  \n",
       "533695  [added, video, youtube, playlist, nye2015, hap...  \n",
       "533696  [moment, growth, stop, caring, system, oppress...  \n",
       "533697  [wizdom4you, luv, tweet, please, keep, coming,...  \n",
       "533698      [2015, new, year, struggle, blacklivesmatter]  \n",
       "533699  [jdgexmmg, mr, 27, welcome, city, mr27, via, s...  \n",
       "533700  [srnaturalista, anoncrips, foxnews, umojasasa,...  \n",
       "533701  [grumpymrredneck, one, positive, coming, black...  \n",
       "533703  [tell, sfbart, drop, 70k, fine, blacklivesmatt...  \n",
       "533704      [joenbc, blacklivesmatter, come, rating, too]  \n",
       "533705  [abgray, 19, atl, plz, watchretweet, blacklive...  "
      ],
      "text/html": "<div>\n<style scoped>\n    .dataframe tbody tr th:only-of-type {\n        vertical-align: middle;\n    }\n\n    .dataframe tbody tr th {\n        vertical-align: top;\n    }\n\n    .dataframe thead th {\n        text-align: right;\n    }\n</style>\n<table border=\"1\" class=\"dataframe\">\n  <thead>\n    <tr style=\"text-align: right;\">\n      <th></th>\n      <th>created_at</th>\n      <th>id</th>\n      <th>text</th>\n      <th>coordinates</th>\n      <th>lang</th>\n      <th>geo</th>\n      <th>hashtag</th>\n      <th>accounts</th>\n      <th>token</th>\n    </tr>\n  </thead>\n  <tbody>\n    <tr>\n      <th>533651</th>\n      <td>Sat Jan 03 15:38:53 +0000 2015</td>\n      <td>551402323918860288</td>\n      <td>I try not to take it personally when u condemn...</td>\n      <td>None</td>\n      <td>en</td>\n      <td>None</td>\n      <td>[blacklivesmatter, whitelivesmatter]</td>\n      <td>[]</td>\n      <td>[try, take, personally, u, condemn, white, pol...</td>\n    </tr>\n    <tr>\n      <th>533652</th>\n      <td>Sat Jan 03 15:38:59 +0000 2015</td>\n      <td>551402351614255104</td>\n      <td>WATCH Black People's Grand Jury on #MikeBrown ...</td>\n      <td>None</td>\n      <td>en</td>\n      <td>None</td>\n      <td>[mikebrown, ferguson, blacktwitter, blacklives...</td>\n      <td>[]</td>\n      <td>[watch, black, people, grand, jury, mikebrown,...</td>\n    </tr>\n    <tr>\n      <th>533653</th>\n      <td>Sat Jan 03 15:39:17 +0000 2015</td>\n      <td>551402426150813696</td>\n      <td>@TheVikChick 1/9 #ATL Plz Watch/RETWEET   #bla...</td>\n      <td>None</td>\n      <td>en</td>\n      <td>None</td>\n      <td>[atl, blacklivesmatter]</td>\n      <td>[@TheVikChick]</td>\n      <td>[thevikchick, 19, atl, plz, watchretweet, blac...</td>\n    </tr>\n    <tr>\n      <th>533654</th>\n      <td>Sat Jan 03 15:39:57 +0000 2015</td>\n      <td>551402594502209536</td>\n      <td>Mother's Moving Sign Why She Protests At Fox N...</td>\n      <td>None</td>\n      <td>en</td>\n      <td>None</td>\n      <td>[icantbreathe, blacklivesmatter]</td>\n      <td>[@AshAgony]</td>\n      <td>[mother, moving, sign, protest, fox, newsnewsc...</td>\n    </tr>\n    <tr>\n      <th>533655</th>\n      <td>Sat Jan 03 15:40:00 +0000 2015</td>\n      <td>551402604266545152</td>\n      <td>John Nantz - #AllLivesMatter? Not So Much</td>\n      <td>None</td>\n      <td>en</td>\n      <td>None</td>\n      <td>[alllivesmatter?]</td>\n      <td>[]</td>\n      <td>[john, nantz, alllivesmatter, much]</td>\n    </tr>\n    <tr>\n      <th>533656</th>\n      <td>Sat Jan 03 15:40:11 +0000 2015</td>\n      <td>551402653113397249</td>\n      <td>#blacklivesmatter Damon Turner</td>\n      <td>None</td>\n      <td>en</td>\n      <td>None</td>\n      <td>[blacklivesmatter]</td>\n      <td>[]</td>\n      <td>[blacklivesmatter, damon, turner]</td>\n    </tr>\n    <tr>\n      <th>533657</th>\n      <td>Sat Jan 03 15:40:21 +0000 2015</td>\n      <td>551402692091080704</td>\n      <td>2 cops killed #BlackLivesMatter</td>\n      <td>None</td>\n      <td>en</td>\n      <td>None</td>\n      <td>[blacklivesmatter]</td>\n      <td>[]</td>\n      <td>[2, cop, killed, blacklivesmatter]</td>\n    </tr>\n    <tr>\n      <th>533658</th>\n      <td>Sat Jan 03 15:40:35 +0000 2015</td>\n      <td>551402752623271937</td>\n      <td>Policy Changes the Anti-#PoliceViolence Moveme...</td>\n      <td>None</td>\n      <td>en</td>\n      <td>None</td>\n      <td>[policeviolence, blacklivesmatter, politics]</td>\n      <td>[@DMcKinson]</td>\n      <td>[policy, change, antipoliceviolence, movement,...</td>\n    </tr>\n    <tr>\n      <th>533659</th>\n      <td>Sat Jan 03 15:40:37 +0000 2015</td>\n      <td>551402762161102848</td>\n      <td>@Shelbypitt8Pitt @JenLLM I wish we had the mea...</td>\n      <td>None</td>\n      <td>en</td>\n      <td>None</td>\n      <td>[blacklivesmatter]</td>\n      <td>[@Shelbypitt8Pitt, @JenLLM]</td>\n      <td>[shelbypitt8pitt, jenllm, wish, mean, help, ex...</td>\n    </tr>\n    <tr>\n      <th>533660</th>\n      <td>Sat Jan 03 15:41:05 +0000 2015</td>\n      <td>551402880503386112</td>\n      <td>Be extremely subtle, even to the point of form...</td>\n      <td>None</td>\n      <td>en</td>\n      <td>None</td>\n      <td>[blacklivesmatter, aow]</td>\n      <td>[]</td>\n      <td>[extremely, subtle, even, point, formlessness,...</td>\n    </tr>\n    <tr>\n      <th>533661</th>\n      <td>Sat Jan 03 15:41:58 +0000 2015</td>\n      <td>551403100531998720</td>\n      <td>Join the #movement We ain't gonna stop til peo...</td>\n      <td>None</td>\n      <td>en</td>\n      <td>None</td>\n      <td>[movement, tamirrice, johncrawford, blacklives...</td>\n      <td>[@youtube]</td>\n      <td>[join, movement, aint, gonna, stop, til, peopl...</td>\n    </tr>\n    <tr>\n      <th>533662</th>\n      <td>Sat Jan 03 15:41:59 +0000 2015</td>\n      <td>551403104826970112</td>\n      <td>Bill Introduced To Ban #Protesters From Wearin...</td>\n      <td>None</td>\n      <td>en</td>\n      <td>None</td>\n      <td>[protesters, hoodies, oklahoma, protests, occu...</td>\n      <td>[]</td>\n      <td>[bill, introduced, ban, protester, wearing, ho...</td>\n    </tr>\n    <tr>\n      <th>533663</th>\n      <td>Sat Jan 03 15:42:13 +0000 2015</td>\n      <td>551403162742300672</td>\n      <td>#research started watching cop movies\\n&amp;amp; r...</td>\n      <td>None</td>\n      <td>en</td>\n      <td>None</td>\n      <td>[research, blacklivesmatter]</td>\n      <td>[]</td>\n      <td>[research, started, watching, cop, movie, amp,...</td>\n    </tr>\n    <tr>\n      <th>533664</th>\n      <td>Sat Jan 03 15:42:24 +0000 2015</td>\n      <td>551403209030258688</td>\n      <td>'Sun Is Still Out and Everything' After Arrest...</td>\n      <td>None</td>\n      <td>en</td>\n      <td>None</td>\n      <td>[blacklivesmatter, policelivesmatter]</td>\n      <td>[]</td>\n      <td>[sun, still, everything, arrest, drop, twothir...</td>\n    </tr>\n    <tr>\n      <th>533665</th>\n      <td>Sat Jan 03 15:42:26 +0000 2015</td>\n      <td>551403219855765505</td>\n      <td>#MayorDeBlasio RESIGN, NOT Fit toLead,Anti-Pol...</td>\n      <td>None</td>\n      <td>en</td>\n      <td>None</td>\n      <td>[mayordeblasio, alsharton, nypd, blacklivesmat...</td>\n      <td>[]</td>\n      <td>[mayordeblasio, resign, fit, toleadantipolicep...</td>\n    </tr>\n    <tr>\n      <th>533666</th>\n      <td>Sat Jan 03 15:42:42 +0000 2015</td>\n      <td>551403287405019136</td>\n      <td>Remember the queer feminist 'Herstory of the #...</td>\n      <td>None</td>\n      <td>en</td>\n      <td>None</td>\n      <td>[blacklivesmatter]</td>\n      <td>[]</td>\n      <td>[remember, queer, feminist, herstory, blackliv...</td>\n    </tr>\n    <tr>\n      <th>533668</th>\n      <td>Sat Jan 03 15:43:19 +0000 2015</td>\n      <td>551403438656212993</td>\n      <td>@Shelbypitt8Pitt @JenLLM It appears that way t...</td>\n      <td>None</td>\n      <td>en</td>\n      <td>None</td>\n      <td>[blacklivesmatter]</td>\n      <td>[@Shelbypitt8Pitt, @JenLLM]</td>\n      <td>[shelbypitt8pitt, jenllm, appears, way, u, wri...</td>\n    </tr>\n    <tr>\n      <th>533669</th>\n      <td>Sat Jan 03 15:43:41 +0000 2015</td>\n      <td>551403533593874433</td>\n      <td>\"Until #AllLivesMatter there are no truths in ...</td>\n      <td>None</td>\n      <td>en</td>\n      <td>None</td>\n      <td>[alllivesmatter]</td>\n      <td>[@MayorLandrieu,, @NOLA_FOR_LIFE]</td>\n      <td>[until, alllivesmatter, truth, country, hold, ...</td>\n    </tr>\n    <tr>\n      <th>533670</th>\n      <td>Sat Jan 03 15:43:58 +0000 2015</td>\n      <td>551403606092824578</td>\n      <td>#AllLivesMatter includes everyone. White, blac...</td>\n      <td>None</td>\n      <td>en</td>\n      <td>None</td>\n      <td>[alllivesmatter, prolife]</td>\n      <td>[]</td>\n      <td>[alllivesmatter, includes, everyone, white, bl...</td>\n    </tr>\n    <tr>\n      <th>533671</th>\n      <td>Sat Jan 03 15:44:32 +0000 2015</td>\n      <td>551403748862357504</td>\n      <td>Oprah Says #BlackLivesMatter Protests Lack ‘Le...</td>\n      <td>None</td>\n      <td>en</td>\n      <td>None</td>\n      <td>[blacklivesmatter]</td>\n      <td>[]</td>\n      <td>[oprah, say, blacklivesmatter, protest, lack, ...</td>\n    </tr>\n    <tr>\n      <th>533672</th>\n      <td>Sat Jan 03 15:44:37 +0000 2015</td>\n      <td>551403767480860672</td>\n      <td>One of #AlSharpton MayordeBlasio,#Obama's Left...</td>\n      <td>None</td>\n      <td>en</td>\n      <td>None</td>\n      <td>[alsharpton, obama's, blacklivesmatter, nypd, ...</td>\n      <td>[]</td>\n      <td>[one, alsharpton, mayordeblasioobamas, leftist...</td>\n    </tr>\n    <tr>\n      <th>533673</th>\n      <td>Sat Jan 03 15:45:41 +0000 2015</td>\n      <td>551404034482266113</td>\n      <td>#BlackLivesMatter Family is Essential</td>\n      <td>None</td>\n      <td>en</td>\n      <td>None</td>\n      <td>[blacklivesmatter]</td>\n      <td>[]</td>\n      <td>[blacklivesmatter, family, essential]</td>\n    </tr>\n    <tr>\n      <th>533674</th>\n      <td>Sat Jan 03 15:45:48 +0000 2015</td>\n      <td>551404066086338560</td>\n      <td>#AllLivesMatter and tbh\\n#BlackLivesMatter mor...</td>\n      <td>None</td>\n      <td>en</td>\n      <td>None</td>\n      <td>[alllivesmatter, blacklivesmatter]</td>\n      <td>[]</td>\n      <td>[alllivesmatter, tbh, blacklivesmatter, recogn...</td>\n    </tr>\n    <tr>\n      <th>533677</th>\n      <td>Sat Jan 03 15:46:42 +0000 2015</td>\n      <td>551404290473201664</td>\n      <td>John Nantz - #AllLivesMatter? Not So Much   #B...</td>\n      <td>None</td>\n      <td>en</td>\n      <td>None</td>\n      <td>[alllivesmatter?, bluelivesmatter]</td>\n      <td>[@BradThor, @SheriffClarke, @BoDietl, @dbongino]</td>\n      <td>[john, nantz, alllivesmatter, much, bluelivesm...</td>\n    </tr>\n    <tr>\n      <th>533678</th>\n      <td>Sat Jan 03 15:46:47 +0000 2015</td>\n      <td>551404314481393665</td>\n      <td>“@nytimes: No Turned Backs at Officer Liu’s Fu...</td>\n      <td>None</td>\n      <td>en</td>\n      <td>None</td>\n      <td>[bluelivesmatter]</td>\n      <td>[@nytimes:]</td>\n      <td>[“nytimes, turned, back, officer, liu’s, funer...</td>\n    </tr>\n    <tr>\n      <th>533679</th>\n      <td>Sat Jan 03 15:47:25 +0000 2015</td>\n      <td>551404472153296896</td>\n      <td>Tomorrow's #BlackLivesMatter protest in Israel...</td>\n      <td>None</td>\n      <td>en</td>\n      <td>None</td>\n      <td>[blacklivesmatter, strikeforfreedom]</td>\n      <td>[]</td>\n      <td>[tomorrow, blacklivesmatter, protest, israel, ...</td>\n    </tr>\n    <tr>\n      <th>533680</th>\n      <td>Sat Jan 03 15:47:36 +0000 2015</td>\n      <td>551404519045599232</td>\n      <td>Do police have a death wish for black men?  Ex...</td>\n      <td>None</td>\n      <td>en</td>\n      <td>None</td>\n      <td>[unctv, blacklivesmatter, icantbreathe]</td>\n      <td>[]</td>\n      <td>[police, death, wish, black, men, expert, disc...</td>\n    </tr>\n    <tr>\n      <th>533681</th>\n      <td>Sat Jan 03 15:47:37 +0000 2015</td>\n      <td>551404521801666561</td>\n      <td>@Oprah:\"the movement needs leaders\"   protesto...</td>\n      <td>{'type': 'Point', 'coordinates': [-17.5055061,...</td>\n      <td>en</td>\n      <td>{'type': 'Point', 'coordinates': [14.74835449,...</td>\n      <td>[blacklivesmatter]</td>\n      <td>[@Oprah:\"the]</td>\n      <td>[oprahthe, movement, need, leader, protestorsk...</td>\n    </tr>\n    <tr>\n      <th>533682</th>\n      <td>Sat Jan 03 15:47:39 +0000 2015</td>\n      <td>551404529690750976</td>\n      <td>RESIGN NOW! #MayordeBlasio! #AlSharpton #Black...</td>\n      <td>None</td>\n      <td>en</td>\n      <td>None</td>\n      <td>[mayordeblasio!, alsharpton, blacklivesmatter,...</td>\n      <td>[]</td>\n      <td>[resign, now, mayordeblasio, alsharpton, black...</td>\n    </tr>\n    <tr>\n      <th>533683</th>\n      <td>Sat Jan 03 15:47:57 +0000 2015</td>\n      <td>551404605201215489</td>\n      <td>@Shelbypitt8Pitt @JenLLM ... would have never ...</td>\n      <td>None</td>\n      <td>en</td>\n      <td>None</td>\n      <td>[blacklivesmatter]</td>\n      <td>[@Shelbypitt8Pitt, @JenLLM]</td>\n      <td>[shelbypitt8pitt, jenllm, would, never, though...</td>\n    </tr>\n    <tr>\n      <th>533684</th>\n      <td>Sat Jan 03 15:48:36 +0000 2015</td>\n      <td>551404771970928640</td>\n      <td>#BlackLivesMatter You were created to be loved!</td>\n      <td>None</td>\n      <td>en</td>\n      <td>None</td>\n      <td>[blacklivesmatter]</td>\n      <td>[]</td>\n      <td>[blacklivesmatter, created, loved]</td>\n    </tr>\n    <tr>\n      <th>533685</th>\n      <td>Sat Jan 03 15:49:23 +0000 2015</td>\n      <td>551404969287376896</td>\n      <td>Can't Stop, Won't Stop: #BlackLivesMatter Move...</td>\n      <td>None</td>\n      <td>en</td>\n      <td>None</td>\n      <td>[blacklivesmatter]</td>\n      <td>[]</td>\n      <td>[cant, stop, stop, blacklivesmatter, movement,...</td>\n    </tr>\n    <tr>\n      <th>533686</th>\n      <td>Sat Jan 03 15:50:01 +0000 2015</td>\n      <td>551405128369319936</td>\n      <td>All Lives Matter God show yourself strong RT @...</td>\n      <td>None</td>\n      <td>en</td>\n      <td>None</td>\n      <td>[]</td>\n      <td>[@ptfuller76:]</td>\n      <td>[life, matter, god, show, strong, rt, ptfuller...</td>\n    </tr>\n    <tr>\n      <th>533687</th>\n      <td>Sat Jan 03 15:50:02 +0000 2015</td>\n      <td>551405129786986496</td>\n      <td>All Lives Matter God show yourself strong RT @...</td>\n      <td>None</td>\n      <td>en</td>\n      <td>None</td>\n      <td>[]</td>\n      <td>[@ptfuller76:]</td>\n      <td>[life, matter, god, show, strong, rt, ptfuller...</td>\n    </tr>\n    <tr>\n      <th>533688</th>\n      <td>Sat Jan 03 15:50:53 +0000 2015</td>\n      <td>551405343775793153</td>\n      <td>Oprah Says #BlackLivesMatter Protests Lack ‘Le...</td>\n      <td>None</td>\n      <td>en</td>\n      <td>None</td>\n      <td>[blacklivesmatter]</td>\n      <td>[]</td>\n      <td>[oprah, say, blacklivesmatter, protest, lack, ...</td>\n    </tr>\n    <tr>\n      <th>533690</th>\n      <td>Sat Jan 03 15:52:58 +0000 2015</td>\n      <td>551405868043231233</td>\n      <td>\\n#AllLivesMatter \\nPlz rt peeps!</td>\n      <td>None</td>\n      <td>en</td>\n      <td>None</td>\n      <td>[alllivesmatter]</td>\n      <td>[]</td>\n      <td>[alllivesmatter, plz, rt, peep]</td>\n    </tr>\n    <tr>\n      <th>533691</th>\n      <td>Sat Jan 03 15:57:47 +0000 2015</td>\n      <td>551407079681183744</td>\n      <td>#Bless Someone Today!\\n#Love #Blessings #Chris...</td>\n      <td>None</td>\n      <td>en</td>\n      <td>None</td>\n      <td>[bless, love, blessings, christian, humanity, ...</td>\n      <td>[]</td>\n      <td>[bless, someone, today, love, blessing, christ...</td>\n    </tr>\n    <tr>\n      <th>533692</th>\n      <td>Sat Jan 03 15:58:18 +0000 2015</td>\n      <td>551407209708417024</td>\n      <td>I added a video to a @YouTube playlist   #NYE2...</td>\n      <td>None</td>\n      <td>en</td>\n      <td>None</td>\n      <td>[nye2015, happysa2015, happynewyeareverybody, ...</td>\n      <td>[@YouTube]</td>\n      <td>[added, video, youtube, playlist, nye2015, hap...</td>\n    </tr>\n    <tr>\n      <th>533693</th>\n      <td>Sat Jan 03 15:58:53 +0000 2015</td>\n      <td>551407357373067265</td>\n      <td>I added a video to a @YouTube playlist   #NYE2...</td>\n      <td>None</td>\n      <td>en</td>\n      <td>None</td>\n      <td>[nye2015, happysa2015, happynewyeareverybody, ...</td>\n      <td>[@YouTube]</td>\n      <td>[added, video, youtube, playlist, nye2015, hap...</td>\n    </tr>\n    <tr>\n      <th>533694</th>\n      <td>Sat Jan 03 15:58:56 +0000 2015</td>\n      <td>551407369356603392</td>\n      <td>I added a video to a @YouTube playlist   #NYE2...</td>\n      <td>None</td>\n      <td>en</td>\n      <td>None</td>\n      <td>[nye2015, happysa2015, happynewyeareverybody, ...</td>\n      <td>[@YouTube]</td>\n      <td>[added, video, youtube, playlist, nye2015, hap...</td>\n    </tr>\n    <tr>\n      <th>533695</th>\n      <td>Sat Jan 03 15:58:56 +0000 2015</td>\n      <td>551407369456873472</td>\n      <td>I added a video to a @YouTube playlist   #NYE2...</td>\n      <td>None</td>\n      <td>en</td>\n      <td>None</td>\n      <td>[nye2015, happysa2015, happynewyeareverybody, ...</td>\n      <td>[@YouTube]</td>\n      <td>[added, video, youtube, playlist, nye2015, hap...</td>\n    </tr>\n    <tr>\n      <th>533696</th>\n      <td>Sat Jan 03 15:59:42 +0000 2015</td>\n      <td>551407562483314688</td>\n      <td>A moment of growth...\\n\\nWhen you stop caring ...</td>\n      <td>None</td>\n      <td>en</td>\n      <td>None</td>\n      <td>[blacklivesmatter]</td>\n      <td>[]</td>\n      <td>[moment, growth, stop, caring, system, oppress...</td>\n    </tr>\n    <tr>\n      <th>533697</th>\n      <td>Sat Jan 03 16:01:06 +0000 2015</td>\n      <td>551407917195616256</td>\n      <td>@wizdom4you Luv your tweets! Please keep them ...</td>\n      <td>None</td>\n      <td>en</td>\n      <td>None</td>\n      <td>[blacklivesmatter]</td>\n      <td>[@wizdom4you]</td>\n      <td>[wizdom4you, luv, tweet, please, keep, coming,...</td>\n    </tr>\n    <tr>\n      <th>533698</th>\n      <td>Sat Jan 03 16:02:14 +0000 2015</td>\n      <td>551408202349178881</td>\n      <td>2015 new year same struggle #BlackLivesMatter \\n</td>\n      <td>None</td>\n      <td>en</td>\n      <td>None</td>\n      <td>[blacklivesmatter]</td>\n      <td>[]</td>\n      <td>[2015, new, year, struggle, blacklivesmatter]</td>\n    </tr>\n    <tr>\n      <th>533699</th>\n      <td>Sat Jan 03 16:03:18 +0000 2015</td>\n      <td>551408471451893760</td>\n      <td>@JDGEXMMG Mr - 27 Welcome - To - My - City by ...</td>\n      <td>None</td>\n      <td>en</td>\n      <td>None</td>\n      <td>[soundcloud, indiemusic, blacklivesmatter, bla...</td>\n      <td>[@JDGEXMMG]</td>\n      <td>[jdgexmmg, mr, 27, welcome, city, mr27, via, s...</td>\n    </tr>\n    <tr>\n      <th>533700</th>\n      <td>Sat Jan 03 16:03:42 +0000 2015</td>\n      <td>551408572400427009</td>\n      <td>@SrNaturalista @AnonCrips @FoxNews @umojasasa ...</td>\n      <td>None</td>\n      <td>en</td>\n      <td>None</td>\n      <td>[blacklivesmatter]</td>\n      <td>[@SrNaturalista, @AnonCrips, @FoxNews, @umojas...</td>\n      <td>[srnaturalista, anoncrips, foxnews, umojasasa,...</td>\n    </tr>\n    <tr>\n      <th>533701</th>\n      <td>Sat Jan 03 16:04:21 +0000 2015</td>\n      <td>551408735646937089</td>\n      <td>@GrumpyMrRedNeck One of the positives coming o...</td>\n      <td>None</td>\n      <td>en</td>\n      <td>None</td>\n      <td>[blacklivesmatter]</td>\n      <td>[@GrumpyMrRedNeck, @deray]</td>\n      <td>[grumpymrredneck, one, positive, coming, black...</td>\n    </tr>\n    <tr>\n      <th>533703</th>\n      <td>Sat Jan 03 16:07:34 +0000 2015</td>\n      <td>551409544069271552</td>\n      <td>Tell SFBart to drop the $70k fine for BlackLiv...</td>\n      <td>None</td>\n      <td>en</td>\n      <td>None</td>\n      <td>[]</td>\n      <td>[]</td>\n      <td>[tell, sfbart, drop, 70k, fine, blacklivesmatt...</td>\n    </tr>\n    <tr>\n      <th>533704</th>\n      <td>Sat Jan 03 16:08:25 +0000 2015</td>\n      <td>551409757912055808</td>\n      <td>@JoeNBC #BlackLivesMatter when it comes to rat...</td>\n      <td>None</td>\n      <td>en</td>\n      <td>None</td>\n      <td>[blacklivesmatter]</td>\n      <td>[@JoeNBC]</td>\n      <td>[joenbc, blacklivesmatter, come, rating, too]</td>\n    </tr>\n    <tr>\n      <th>533705</th>\n      <td>Sat Jan 03 16:10:09 +0000 2015</td>\n      <td>551410191548166144</td>\n      <td>@ABGray 1/9 #ATL Plz Watch/RETWEET   #blackliv...</td>\n      <td>None</td>\n      <td>en</td>\n      <td>None</td>\n      <td>[atl, blacklivesmatter]</td>\n      <td>[@ABGray]</td>\n      <td>[abgray, 19, atl, plz, watchretweet, blacklive...</td>\n    </tr>\n  </tbody>\n</table>\n</div>"
     },
     "metadata": {},
     "execution_count": 128
    }
   ],
   "source": [
    "tweets.tail(50)"
   ]
  },
  {
   "cell_type": "code",
   "execution_count": 130,
   "metadata": {},
   "outputs": [
    {
     "output_type": "execute_result",
     "data": {
      "text/plain": [
       "0"
      ]
     },
     "metadata": {},
     "execution_count": 130
    }
   ],
   "source": [
    "temp = tweets[tweets['geo'] == None]\n",
    "len(temp)\n",
    "#print(tweets['geo'][1])"
   ]
  },
  {
   "cell_type": "code",
   "execution_count": 136,
   "metadata": {},
   "outputs": [
    {
     "output_type": "stream",
     "name": "stdout",
     "text": [
      "0\n"
     ]
    }
   ],
   "source": [
    "count = 0\n",
    "for i in tweets['geo']:\n",
    "    if type(tweet) == type:\n",
    "        count = count+1\n",
    "print(count)"
   ]
  },
  {
   "cell_type": "code",
   "execution_count": 131,
   "metadata": {},
   "outputs": [
    {
     "output_type": "execute_result",
     "data": {
      "text/plain": [
       "type"
      ]
     },
     "metadata": {},
     "execution_count": 131
    }
   ],
   "source": [
    "type(type(tweets['geo'][533681]))"
   ]
  },
  {
   "cell_type": "code",
   "execution_count": null,
   "metadata": {},
   "outputs": [],
   "source": []
  },
  {
   "cell_type": "code",
   "execution_count": 114,
   "metadata": {},
   "outputs": [
    {
     "output_type": "stream",
     "name": "stdout",
     "text": [
      "0\n"
     ]
    }
   ],
   "source": [
    "print(count)"
   ]
  },
  {
   "cell_type": "code",
   "execution_count": 96,
   "metadata": {},
   "outputs": [],
   "source": [
    "tweets.to_json('tweets_BLM.json')"
   ]
  }
 ]
}
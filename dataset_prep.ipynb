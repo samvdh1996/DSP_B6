{
 "metadata": {
  "language_info": {
   "codemirror_mode": {
    "name": "ipython",
    "version": 3
   },
   "file_extension": ".py",
   "mimetype": "text/x-python",
   "name": "python",
   "nbconvert_exporter": "python",
   "pygments_lexer": "ipython3",
   "version": "3.7.6-final"
  },
  "orig_nbformat": 2,
  "kernelspec": {
   "name": "python3",
   "display_name": "Python 3",
   "language": "python"
  }
 },
 "nbformat": 4,
 "nbformat_minor": 2,
 "cells": [
  {
   "cell_type": "code",
   "execution_count": 2,
   "metadata": {},
   "outputs": [],
   "source": [
    "import pandas as pd\n",
    "import jsonlines"
   ]
  },
  {
   "cell_type": "code",
   "execution_count": 17,
   "metadata": {},
   "outputs": [
    {
     "output_type": "stream",
     "name": "stdout",
     "text": [
      "{'created_at': 'Fri Jun 05 03:42:01 +0000 2020', 'id': 1268749894598250496, 'id_str': '1268749894598250496', 'full_text': 'RT @BTS_twt: 우리는 인종차별에 반대합니다.\\n우리는 폭력에 반대합니다.\\n나, 당신, 우리 모두는 존중받을 권리가 있습니다. 함께 하겠습니다.\\n\\nWe stand against racial discrimination.\\nWe condemn vio…', 'truncated': False, 'display_text_range': [0, 140], 'entities': {'hashtags': [], 'symbols': [], 'user_mentions': [{'screen_name': 'BTS_twt', 'name': '방탄소년단', 'id': 335141638, 'id_str': '335141638', 'indices': [3, 11]}], 'urls': []}, 'source': '<a href=\"http://twitter.com/download/android\" rel=\"nofollow\">Twitter for Android</a>', 'in_reply_to_status_id': None, 'in_reply_to_status_id_str': None, 'in_reply_to_user_id': None, 'in_reply_to_user_id_str': None, 'in_reply_to_screen_name': None, 'user': {'id': 1123984771422523392, 'id_str': '1123984771422523392', 'name': '_HHJTRBL_', 'screen_name': 'hhjdean', 'location': '', 'description': 'Fanxy Child', 'url': None, 'entities': {'description': {'urls': []}}, 'protected': False, 'followers_count': 1, 'friends_count': 1261, 'listed_count': 3, 'created_at': 'Thu May 02 16:17:06 +0000 2019', 'favourites_count': 31587, 'utc_offset': None, 'time_zone': None, 'geo_enabled': False, 'verified': False, 'statuses_count': 666, 'lang': None, 'contributors_enabled': False, 'is_translator': False, 'is_translation_enabled': False, 'profile_background_color': 'F5F8FA', 'profile_background_image_url': None, 'profile_background_image_url_https': None, 'profile_background_tile': False, 'profile_image_url': 'http://pbs.twimg.com/profile_images/1167870224109977602/U0nELUuq_normal.jpg', 'profile_image_url_https': 'https://pbs.twimg.com/profile_images/1167870224109977602/U0nELUuq_normal.jpg', 'profile_banner_url': 'https://pbs.twimg.com/profile_banners/1123984771422523392/1574524214', 'profile_image_extensions_alt_text': None, 'profile_banner_extensions_alt_text': None, 'profile_link_color': '1DA1F2', 'profile_sidebar_border_color': 'C0DEED', 'profile_sidebar_fill_color': 'DDEEF6', 'profile_text_color': '333333', 'profile_use_background_image': True, 'has_extended_profile': False, 'default_profile': True, 'default_profile_image': False, 'following': False, 'follow_request_sent': False, 'notifications': False, 'translator_type': 'none'}, 'geo': None, 'coordinates': None, 'place': None, 'contributors': None, 'retweeted_status': {'created_at': 'Thu Jun 04 06:01:50 +0000 2020', 'id': 1268422690336935943, 'id_str': '1268422690336935943', 'full_text': '우리는 인종차별에 반대합니다.\\n우리는 폭력에 반대합니다.\\n나, 당신, 우리 모두는 존중받을 권리가 있습니다. 함께 하겠습니다.\\n\\nWe stand against racial discrimination.\\nWe condemn violence.\\nYou, I and we all have the right to be respected. We will stand together.\\n\\n#BlackLivesMatter', 'truncated': False, 'display_text_range': [0, 225], 'entities': {'hashtags': [{'text': 'BlackLivesMatter', 'indices': [208, 225]}], 'symbols': [], 'user_mentions': [], 'urls': []}, 'source': '<a href=\"http://twitter.com/download/android\" rel=\"nofollow\">Twitter for Android</a>', 'in_reply_to_status_id': None, 'in_reply_to_status_id_str': None, 'in_reply_to_user_id': None, 'in_reply_to_user_id_str': None, 'in_reply_to_screen_name': None, 'user': {'id': 335141638, 'id_str': '335141638', 'name': '방탄소년단', 'screen_name': 'BTS_twt', 'location': '', 'description': 'Hi! We are BTS!!', 'url': 'https://t.co/BP579N8Xkk', 'entities': {'url': {'urls': [{'url': 'https://t.co/BP579N8Xkk', 'expanded_url': 'http://btsblog.ibighit.com', 'display_url': 'btsblog.ibighit.com', 'indices': [0, 23]}]}, 'description': {'urls': []}}, 'protected': False, 'followers_count': 30813464, 'friends_count': 142, 'listed_count': 76886, 'created_at': 'Thu Jul 14 06:32:56 +0000 2011', 'favourites_count': 214, 'utc_offset': None, 'time_zone': None, 'geo_enabled': True, 'verified': True, 'statuses_count': 12435, 'lang': None, 'contributors_enabled': False, 'is_translator': False, 'is_translation_enabled': False, 'profile_background_color': 'FFFFFF', 'profile_background_image_url': 'http://abs.twimg.com/images/themes/theme14/bg.gif', 'profile_background_image_url_https': 'https://abs.twimg.com/images/themes/theme14/bg.gif', 'profile_background_tile': False, 'profile_image_url': 'http://pbs.twimg.com/profile_images/1318206180359958528/ZYNFS3CE_normal.jpg', 'profile_image_url_https': 'https://pbs.twimg.com/profile_images/1318206180359958528/ZYNFS3CE_normal.jpg', 'profile_banner_url': 'https://pbs.twimg.com/profile_banners/335141638/1604847751', 'profile_image_extensions_alt_text': None, 'profile_banner_extensions_alt_text': None, 'profile_link_color': 'FF0000', 'profile_sidebar_border_color': 'FFFFFF', 'profile_sidebar_fill_color': 'EFEFEF', 'profile_text_color': '333333', 'profile_use_background_image': True, 'has_extended_profile': False, 'default_profile': False, 'default_profile_image': False, 'following': False, 'follow_request_sent': False, 'notifications': False, 'translator_type': 'regular'}, 'geo': None, 'coordinates': None, 'place': None, 'contributors': None, 'is_quote_status': False, 'retweet_count': 917744, 'favorite_count': 2168407, 'favorited': False, 'retweeted': False, 'lang': 'ko'}, 'is_quote_status': False, 'retweet_count': 917744, 'favorite_count': 0, 'favorited': False, 'retweeted': False, 'lang': 'ko'}\n"
     ]
    },
    {
     "output_type": "error",
     "ename": "KeyError",
     "evalue": "'derived'",
     "traceback": [
      "\u001b[0;31m---------------------------------------------------------------------------\u001b[0m",
      "\u001b[0;31mKeyError\u001b[0m                                  Traceback (most recent call last)",
      "\u001b[0;32m<ipython-input-17-ef5914183f3f>\u001b[0m in \u001b[0;36m<module>\u001b[0;34m\u001b[0m\n\u001b[1;32m     10\u001b[0m     \u001b[0;32mfor\u001b[0m \u001b[0mobj\u001b[0m \u001b[0;32min\u001b[0m \u001b[0mreader\u001b[0m\u001b[0;34m:\u001b[0m\u001b[0;34m\u001b[0m\u001b[0;34m\u001b[0m\u001b[0m\n\u001b[1;32m     11\u001b[0m         \u001b[0mprint\u001b[0m\u001b[0;34m(\u001b[0m\u001b[0mobj\u001b[0m\u001b[0;34m)\u001b[0m\u001b[0;34m\u001b[0m\u001b[0;34m\u001b[0m\u001b[0m\n\u001b[0;32m---> 12\u001b[0;31m         \u001b[0mprint\u001b[0m\u001b[0;34m(\u001b[0m\u001b[0mtype\u001b[0m\u001b[0;34m(\u001b[0m\u001b[0mobj\u001b[0m\u001b[0;34m[\u001b[0m\u001b[0;34m'user'\u001b[0m\u001b[0;34m]\u001b[0m\u001b[0;34m[\u001b[0m\u001b[0;34m'derived'\u001b[0m\u001b[0;34m]\u001b[0m\u001b[0;34m)\u001b[0m\u001b[0;34m)\u001b[0m\u001b[0;34m\u001b[0m\u001b[0;34m\u001b[0m\u001b[0m\n\u001b[0m\u001b[1;32m     13\u001b[0m \u001b[0;34m\u001b[0m\u001b[0m\n\u001b[1;32m     14\u001b[0m         \u001b[0;31m#print(obj['geo']['coordinates'])\u001b[0m\u001b[0;34m\u001b[0m\u001b[0;34m\u001b[0m\u001b[0;34m\u001b[0m\u001b[0m\n",
      "\u001b[0;31mKeyError\u001b[0m: 'derived'"
     ]
    }
   ],
   "source": [
    "created_at=[]\n",
    "id=[]\n",
    "full_text=[]\n",
    "coordinates=[]\n",
    "lang=[]\n",
    "geo=[]\n",
    "with jsonlines.open('/Users/sam/Documents/Masters/Data_Systems_Project/blm_continued2.jsonl') as reader:\n",
    "    for obj in reader:\n",
    "        created_at.append(obj['created_at'])\n",
    "        id.append(obj['id'])\n",
    "        full_text.append(obj['full_text'])\n",
    "        coordinates.append(obj['coordinates'])\n",
    "        lang.append(obj['lang'])\n",
    "        geo.append(obj['geo']['coordinates'])"
   ]
  },
  {
   "cell_type": "code",
   "execution_count": null,
   "metadata": {},
   "outputs": [],
   "source": [
    "tweets = pd.DataFrame()\n",
    "tweets['created_at']= created_at\n",
    "tweets['id']= id\n",
    "tweets['text']= full_text\n",
    "tweets['coordinates']= coordinates\n",
    "tweets['lang']= lang\n",
    "tweets['geo']= geo"
   ]
  },
  {
   "cell_type": "code",
   "execution_count": null,
   "metadata": {},
   "outputs": [],
   "source": [
    "#1269748302142042113 is last tweet"
   ]
  },
  {
   "cell_type": "code",
   "execution_count": null,
   "metadata": {},
   "outputs": [],
   "source": [
    "tweets.to_json('tweets_BLM.json')"
   ]
  }
 ]
}
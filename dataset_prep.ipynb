{
 "metadata": {
  "language_info": {
   "codemirror_mode": {
    "name": "ipython",
    "version": 3
   },
   "file_extension": ".py",
   "mimetype": "text/x-python",
   "name": "python",
   "nbconvert_exporter": "python",
   "pygments_lexer": "ipython3",
   "version": "3.7.6-final"
  },
  "orig_nbformat": 2,
  "kernelspec": {
   "name": "python3",
   "display_name": "Python 3",
   "language": "python"
  }
 },
 "nbformat": 4,
 "nbformat_minor": 2,
 "cells": [
  {
   "cell_type": "code",
   "execution_count": 46,
   "metadata": {},
   "outputs": [],
   "source": [
    "import pandas as pd\n",
    "import jsonlines\n",
    "#1269748302142042113 is last tweet"
   ]
  },
  {
   "cell_type": "code",
   "execution_count": 47,
   "metadata": {},
   "outputs": [],
   "source": [
    "created_at=[]\n",
    "id=[]\n",
    "full_text=[]\n",
    "coordinates=[]\n",
    "lang=[]\n",
    "place=[]\n",
    "with jsonlines.open('/Users/sam/Documents/Masters/Data_Systems_Project/blm_continued2.jsonl') as reader:\n",
    "    for obj in reader:\n",
    "        place.append(obj['place'])\n",
    "        created_at.append(obj['created_at'])\n",
    "        id.append(obj['id'])\n",
    "        full_text.append(obj['full_text'])\n",
    "        coordinates.append(obj['coordinates'])\n",
    "        lang.append(obj['lang'])"
   ]
  },
  {
   "cell_type": "code",
   "execution_count": 48,
   "metadata": {},
   "outputs": [],
   "source": [
    "tweets = pd.DataFrame()\n",
    "tweets['created_at']= created_at\n",
    "tweets['id']= id\n",
    "tweets['text']= full_text\n",
    "tweets['coordinates']= coordinates\n",
    "tweets['lang']= lang\n",
    "tweets['place'] = place"
   ]
  },
  {
   "cell_type": "code",
   "execution_count": 50,
   "metadata": {},
   "outputs": [
    {
     "output_type": "stream",
     "name": "stdout",
     "text": [
      "length before: 29512\nlength after: 29512\n"
     ]
    }
   ],
   "source": [
    "print('length before:', len(tweets))\n",
    "tweets = tweets[pd.notnull(tweets['place'])]\n",
    "print('length after:', len(tweets))"
   ]
  },
  {
   "cell_type": "code",
   "execution_count": 51,
   "metadata": {},
   "outputs": [],
   "source": [
    "tweets = tweets.reset_index(drop=True)\n",
    "tweets['full_name'] = 'None'\n",
    "tweets['country'] = 'None'\n",
    "for idx, val in enumerate(tweets['place']):\n",
    "        tweets['full_name'][idx] = val['full_name']\n",
    "        tweets['country'][idx] = val['country_code']\n",
    "#tweets = tweets.drop(columns=['place'])"
   ]
  },
  {
   "cell_type": "code",
   "execution_count": 54,
   "metadata": {},
   "outputs": [
    {
     "output_type": "execute_result",
     "data": {
      "text/plain": [
       "               full_name country\n",
       "2           Georgia, USA      US\n",
       "3           Portland, OR      US\n",
       "4        Los Angeles, CA      US\n",
       "6        San Antonio, TX      US\n",
       "7   The Waterfront Docks      US\n",
       "8          Manhattan, NY      US\n",
       "9        California, USA      US\n",
       "10          McKinney, TX      US\n",
       "11       Los Angeles, CA      US\n",
       "12           Memphis, TN      US"
      ],
      "text/html": "<div>\n<style scoped>\n    .dataframe tbody tr th:only-of-type {\n        vertical-align: middle;\n    }\n\n    .dataframe tbody tr th {\n        vertical-align: top;\n    }\n\n    .dataframe thead th {\n        text-align: right;\n    }\n</style>\n<table border=\"1\" class=\"dataframe\">\n  <thead>\n    <tr style=\"text-align: right;\">\n      <th></th>\n      <th>full_name</th>\n      <th>country</th>\n    </tr>\n  </thead>\n  <tbody>\n    <tr>\n      <th>2</th>\n      <td>Georgia, USA</td>\n      <td>US</td>\n    </tr>\n    <tr>\n      <th>3</th>\n      <td>Portland, OR</td>\n      <td>US</td>\n    </tr>\n    <tr>\n      <th>4</th>\n      <td>Los Angeles, CA</td>\n      <td>US</td>\n    </tr>\n    <tr>\n      <th>6</th>\n      <td>San Antonio, TX</td>\n      <td>US</td>\n    </tr>\n    <tr>\n      <th>7</th>\n      <td>The Waterfront Docks</td>\n      <td>US</td>\n    </tr>\n    <tr>\n      <th>8</th>\n      <td>Manhattan, NY</td>\n      <td>US</td>\n    </tr>\n    <tr>\n      <th>9</th>\n      <td>California, USA</td>\n      <td>US</td>\n    </tr>\n    <tr>\n      <th>10</th>\n      <td>McKinney, TX</td>\n      <td>US</td>\n    </tr>\n    <tr>\n      <th>11</th>\n      <td>Los Angeles, CA</td>\n      <td>US</td>\n    </tr>\n    <tr>\n      <th>12</th>\n      <td>Memphis, TN</td>\n      <td>US</td>\n    </tr>\n  </tbody>\n</table>\n</div>"
     },
     "metadata": {},
     "execution_count": 54
    }
   ],
   "source": [
    "tweets[['full_name', 'country']].head(10)"
   ]
  },
  {
   "cell_type": "code",
   "execution_count": 53,
   "metadata": {},
   "outputs": [
    {
     "output_type": "stream",
     "name": "stdout",
     "text": [
      "length before: 29512\nlength after: 16881\n"
     ]
    }
   ],
   "source": [
    "print('length before:', len(tweets))\n",
    "tweets = tweets[(tweets['country'] == \"US\")]\n",
    "print('length after:', len(tweets))"
   ]
  },
  {
   "cell_type": "code",
   "execution_count": 30,
   "metadata": {},
   "outputs": [
    {
     "output_type": "stream",
     "name": "stdout",
     "text": [
      "length before: 7365723\n",
      "length after: 5208\n"
     ]
    }
   ],
   "source": [
    "print('length before:', len(tweets))\n",
    "tweets = tweets[pd.notnull(tweets['coordinates'])]\n",
    "print('length after:', len(tweets))"
   ]
  },
  {
   "cell_type": "code",
   "execution_count": 32,
   "metadata": {},
   "outputs": [],
   "source": [
    "tweets.to_json(',,,,,.json')"
   ]
  }
 ]
}
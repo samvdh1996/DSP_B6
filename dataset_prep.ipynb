{
 "metadata": {
  "language_info": {
   "codemirror_mode": {
    "name": "ipython",
    "version": 3
   },
   "file_extension": ".py",
   "mimetype": "text/x-python",
   "name": "python",
   "nbconvert_exporter": "python",
   "pygments_lexer": "ipython3",
   "version": "3.7.6-final"
  },
  "orig_nbformat": 2,
  "kernelspec": {
   "name": "python3",
   "display_name": "Python 3",
   "language": "python"
  }
 },
 "nbformat": 4,
 "nbformat_minor": 2,
 "cells": [
  {
   "cell_type": "code",
   "execution_count": 27,
   "metadata": {},
   "outputs": [],
   "source": [
    "import pandas as pd\n",
    "import jsonlines\n",
    "#1269748302142042113 is last tweet"
   ]
  },
  {
   "cell_type": "code",
   "execution_count": 28,
   "metadata": {},
   "outputs": [],
   "source": [
    "created_at=[]\n",
    "id=[]\n",
    "full_text=[]\n",
    "coordinates=[]\n",
    "lang=[]\n",
    "geo=[]\n",
    "with jsonlines.open('/Users/sam/Documents/Masters/Data_Systems_Project/blm_part3.jsonl') as reader:\n",
    "    for obj in reader:\n",
    "        created_at.append(obj['created_at'])\n",
    "        id.append(obj['id'])\n",
    "        full_text.append(obj['full_text'])\n",
    "        coordinates.append(obj['coordinates'])\n",
    "        lang.append(obj['lang'])"
   ]
  },
  {
   "cell_type": "code",
   "execution_count": 29,
   "metadata": {},
   "outputs": [],
   "source": [
    "tweets = pd.DataFrame()\n",
    "tweets['created_at']= created_at\n",
    "tweets['id']= id\n",
    "tweets['text']= full_text\n",
    "tweets['coordinates']= coordinates\n",
    "tweets['lang']= lang"
   ]
  },
  {
   "cell_type": "code",
   "execution_count": 30,
   "metadata": {},
   "outputs": [
    {
     "output_type": "stream",
     "name": "stdout",
     "text": [
      "length before: 7365723\n",
      "length after: 5208\n"
     ]
    }
   ],
   "source": [
    "print('length before:', len(tweets))\n",
    "tweets = tweets[pd.notnull(tweets['coordinates'])]\n",
    "print('length after:', len(tweets))"
   ]
  },
  {
   "cell_type": "code",
   "execution_count": 32,
   "metadata": {},
   "outputs": [],
   "source": [
    "tweets.to_json(',,,,,.json')"
   ]
  }
 ]
}
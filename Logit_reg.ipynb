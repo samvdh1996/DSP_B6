{
 "metadata": {
  "language_info": {
   "codemirror_mode": {
    "name": "ipython",
    "version": 3
   },
   "file_extension": ".py",
   "mimetype": "text/x-python",
   "name": "python",
   "nbconvert_exporter": "python",
   "pygments_lexer": "ipython3",
   "version": "3.7.6-final"
  },
  "orig_nbformat": 2,
  "kernelspec": {
   "name": "python3",
   "display_name": "Python 3",
   "language": "python"
  }
 },
 "nbformat": 4,
 "nbformat_minor": 2,
 "cells": [
  {
   "cell_type": "code",
   "execution_count": null,
   "metadata": {},
   "outputs": [],
   "source": [
    "import pandas as pd\n",
    "from sklearn.linear_model import LogisticRegression\n",
    "from datetime import datetime"
   ]
  },
  {
   "cell_type": "code",
   "execution_count": null,
   "metadata": {},
   "outputs": [],
   "source": [
    "tweets = pd.read_json(\"/Users/sam/Documents/Masters/Data_Systems_Project/Locations/user_locations.json\")"
   ]
  },
  {
   "cell_type": "code",
   "execution_count": null,
   "metadata": {},
   "outputs": [],
   "source": [
    "def split(x):\n",
    "    x = str(x).split()[0]\n",
    "    return x\n",
    "tweets['created_at'] = tweets['created_at'].map(split)\n",
    "tweets['created_at'] = pd.to_datetime(tweets['created_at'], format=\"%Y-%m-%d\")"
   ]
  },
  {
   "source": [
    "### Import protest data"
   ],
   "cell_type": "markdown",
   "metadata": {}
  },
  {
   "cell_type": "code",
   "execution_count": null,
   "metadata": {},
   "outputs": [],
   "source": [
    "protest = pd.read_csv('ACLEDNeatAdress.csv')\n",
    "protest['protest'] = 1\n",
    "protest = protest.rename(columns={\"EVENT_DATE\": \"created_at\", \"state2\": \"state\", 'place': 'city'})\n",
    "protest['created_at'] = pd.to_datetime(protest['created_at'], format=\"%Y-%m-%d\")"
   ]
  },
  {
   "cell_type": "code",
   "execution_count": null,
   "metadata": {},
   "outputs": [],
   "source": [
    "splitted=tweets[\"user_location\"].str.split(\", \", n = 1, expand = True)\n",
    "tweets[\"state\"] = splitted[1]\n",
    "tweets[\"city\"] = splitted[0]"
   ]
  },
  {
   "cell_type": "code",
   "execution_count": null,
   "metadata": {},
   "outputs": [],
   "source": [
    "protest = protest.drop(columns = ['Unnamed: 0', 'Unnamed: 0.1', 'LATITUDE', 'LONGITUDE', 'road'])"
   ]
  },
  {
   "cell_type": "code",
   "execution_count": null,
   "metadata": {},
   "outputs": [],
   "source": [
    "merged.head()"
   ]
  },
  {
   "cell_type": "code",
   "execution_count": null,
   "metadata": {},
   "outputs": [],
   "source": [
    "tweets['created_at'] = tweets['created_at'].astype(str)\n",
    "protest['created_at'] = protest['created_at'].astype(str)\n",
    "\n",
    "merged = pd.merge(tweets, protest,  how='left', on=['created_at','state','city'])\n",
    "merged = merged.fillna(0)"
   ]
  },
  {
   "cell_type": "code",
   "execution_count": null,
   "metadata": {},
   "outputs": [],
   "source": [
    "merged = merged.groupby(['created_at','city']).size().reset_index(name='counts')"
   ]
  },
  {
   "cell_type": "code",
   "execution_count": null,
   "metadata": {},
   "outputs": [],
   "source": [
    "mean = merged[['city', 'counts']].groupby('city').mean()\n",
    "sd = merged[['city', 'counts']].groupby('city').std()"
   ]
  },
  {
   "cell_type": "code",
   "execution_count": null,
   "metadata": {},
   "outputs": [],
   "source": [
    "merged = pd.merge(merged, mean,  how='left', on=['city'])\n"
   ]
  },
  {
   "cell_type": "code",
   "execution_count": null,
   "metadata": {},
   "outputs": [],
   "source": [
    "merged = merged.rename(columns={\"counts_y\": \"mean\", 'counts_x': 'counts'})\n"
   ]
  },
  {
   "cell_type": "code",
   "execution_count": null,
   "metadata": {},
   "outputs": [],
   "source": [
    "merged = pd.merge(merged, sd,  how='left', on=['city'])\n"
   ]
  },
  {
   "cell_type": "code",
   "execution_count": null,
   "metadata": {},
   "outputs": [],
   "source": [
    "merged = merged.rename(columns={\"counts_x\": \"counts\", \"counts_y\": \"sd\"})\n"
   ]
  },
  {
   "cell_type": "code",
   "execution_count": null,
   "metadata": {},
   "outputs": [],
   "source": [
    "merged.head()"
   ]
  },
  {
   "cell_type": "code",
   "execution_count": null,
   "metadata": {},
   "outputs": [],
   "source": [
    "merged = merged[merged.counts>5]\n",
    "merged = pd.merge(merged, protest,  how='left', on=['created_at','city'])\n",
    "merged = merged.fillna(0)"
   ]
  },
  {
   "cell_type": "code",
   "execution_count": null,
   "metadata": {},
   "outputs": [],
   "source": [
    "merged.head()"
   ]
  },
  {
   "cell_type": "code",
   "execution_count": null,
   "metadata": {},
   "outputs": [],
   "source": [
    "merged['norm'] = (merged.counts-merged.mean)/merged.sd"
   ]
  },
  {
   "cell_type": "code",
   "execution_count": null,
   "metadata": {},
   "outputs": [],
   "source": [
    "import statsmodels.api as sm \n",
    "    \n",
    "# defining the dependent and independent variables \n",
    "Xtrain = [merged[['counts']], pd.Categorical(merged.city)]\n",
    "ytrain = merged[['protest']]\n",
    "   \n",
    "# building the model and fitting the data \n",
    "log_reg = sm.Logit(ytrain, Xtrain).fit()"
   ]
  },
  {
   "cell_type": "code",
   "execution_count": null,
   "metadata": {},
   "outputs": [],
   "source": [
    "print(log_reg.summary()) "
   ]
  },
  {
   "cell_type": "code",
   "execution_count": null,
   "metadata": {},
   "outputs": [],
   "source": [
    "crowd counting\n",
    "number of people in protest\n",
    "weekday effects\n",
    "account for days on which verdicts and important new stories aired\n"
   ]
  },
  {
   "cell_type": "code",
   "execution_count": null,
   "metadata": {},
   "outputs": [],
   "source": [
    "import numpy as np\n",
    "import pandas as pd\n",
    "from linearmodels import PanelOLS\n",
    "from linearmodels import RandomEffects"
   ]
  },
  {
   "cell_type": "code",
   "execution_count": null,
   "metadata": {},
   "outputs": [],
   "source": [
    "city = pd.Categorical(tweets.city)"
   ]
  },
  {
   "cell_type": "code",
   "execution_count": null,
   "metadata": {},
   "outputs": [],
   "source": [
    "exog_vars = ['counts', 'city']\n",
    "exog = sm.add_constant(tweets[exog_vars])\n",
    "mod = PanelOLS(data.clscrap, exog)\n",
    "re_res = mod.fit()\n",
    "print(re_res)"
   ]
  }
 ]
}
{
 "metadata": {
  "language_info": {
   "codemirror_mode": {
    "name": "ipython",
    "version": 3
   },
   "file_extension": ".py",
   "mimetype": "text/x-python",
   "name": "python",
   "nbconvert_exporter": "python",
   "pygments_lexer": "ipython3",
   "version": "3.7.6-final"
  },
  "orig_nbformat": 2,
  "kernelspec": {
   "name": "python3",
   "display_name": "Python 3",
   "language": "python"
  }
 },
 "nbformat": 4,
 "nbformat_minor": 2,
 "cells": [
  {
   "cell_type": "code",
   "execution_count": 14,
   "metadata": {},
   "outputs": [],
   "source": [
    "import pandas as pd\n",
    "from sklearn.linear_model import LogisticRegression\n",
    "from datetime import datetime"
   ]
  },
  {
   "cell_type": "code",
   "execution_count": 2,
   "metadata": {},
   "outputs": [],
   "source": [
    "tweets = pd.read_json(\"/Users/sam/Documents/Masters/Data_Systems_Project/Locations/user_locations.json\")"
   ]
  },
  {
   "cell_type": "code",
   "execution_count": 8,
   "metadata": {},
   "outputs": [],
   "source": [
    "def split(x):\n",
    "    x = str(x).split()[0]\n",
    "    return x\n",
    "tweets['created_at'] = tweets['created_at'].map(split)"
   ]
  },
  {
   "cell_type": "code",
   "execution_count": 17,
   "metadata": {},
   "outputs": [],
   "source": [
    "tweets['created_at'] = pd.to_datetime(tweets['created_at'], format=\"%Y-%m-%d\")"
   ]
  },
  {
   "source": [
    "### Import protest data"
   ],
   "cell_type": "markdown",
   "metadata": {}
  },
  {
   "cell_type": "code",
   "execution_count": 109,
   "metadata": {},
   "outputs": [],
   "source": [
    "protest = pd.read_csv('ACLEDNeatAdress.csv')\n",
    "protest['protest'] = 1\n",
    "protest = protest.rename(columns={\"EVENT_DATE\": \"created_at\", \"state2\": \"state\", 'place': 'city'})\n",
    "protest['created_at'] = pd.to_datetime(protest['created_at'], format=\"%Y-%m-%d\")"
   ]
  },
  {
   "cell_type": "code",
   "execution_count": 110,
   "metadata": {},
   "outputs": [],
   "source": [
    "splitted=tweets[\"user_location\"].str.split(\", \", n = 1, expand = True)\n",
    "tweets[\"state\"] = splitted[1]\n",
    "tweets[\"city\"] = splitted[0]"
   ]
  },
  {
   "cell_type": "code",
   "execution_count": 111,
   "metadata": {},
   "outputs": [],
   "source": [
    "protest = protest.drop(columns = ['Unnamed: 0', 'Unnamed: 0.1', 'LATITUDE', 'LONGITUDE', 'road'])"
   ]
  },
  {
   "cell_type": "code",
   "execution_count": 124,
   "metadata": {},
   "outputs": [],
   "source": [
    "tweets['created_at'] = tweets['created_at'].astype(str)\n",
    "protest['created_at'] = protest['created_at'].astype(str)\n",
    "\n",
    "merged = pd.merge(tweets, protest,  how='left', on=['created_at','state','city'])\n",
    "merged = merged.fillna(0)"
   ]
  },
  {
   "cell_type": "code",
   "execution_count": 125,
   "metadata": {},
   "outputs": [
    {
     "output_type": "execute_result",
     "data": {
      "text/plain": [
       "   created_at                   id  \\\n",
       "0  2020-05-07  1258365124517203969   \n",
       "1  2020-05-07  1258365136999518208   \n",
       "2  2020-05-07  1258365210827644930   \n",
       "3  2020-05-07  1258365231497203714   \n",
       "4  2020-05-07  1258365308751970304   \n",
       "\n",
       "                                                text coordinates lang  \\\n",
       "0  This is a sad reality. AmeriKKKa must realize ...           0   en   \n",
       "1  RT @JhadiyahG: Please Share Ahmaud Arbery was ...           0   en   \n",
       "2  RT @SharLovegrove: DEVASTATED by the @guardian...           0   en   \n",
       "3  RT @ZayyWhosane: This shit so frustrating #Bla...           0   en   \n",
       "4  We can't break down on a public road with car ...           0   en   \n",
       "\n",
       "                                               place     user_location state  \\\n",
       "0                                                  0       Detroit, MI    MI   \n",
       "1                                                  0  Philadelphia, PA    PA   \n",
       "2                                                  0   Crazy Horse, ND    ND   \n",
       "3                                                  0   New Orleans, LA    LA   \n",
       "4  {'id': '7f88808f3d4e1c41', 'url': 'https://api...        Mequon, WI    WI   \n",
       "\n",
       "           city  protest  \n",
       "0       Detroit      0.0  \n",
       "1  Philadelphia      0.0  \n",
       "2   Crazy Horse      0.0  \n",
       "3   New Orleans      0.0  \n",
       "4        Mequon      0.0  "
      ],
      "text/html": "<div>\n<style scoped>\n    .dataframe tbody tr th:only-of-type {\n        vertical-align: middle;\n    }\n\n    .dataframe tbody tr th {\n        vertical-align: top;\n    }\n\n    .dataframe thead th {\n        text-align: right;\n    }\n</style>\n<table border=\"1\" class=\"dataframe\">\n  <thead>\n    <tr style=\"text-align: right;\">\n      <th></th>\n      <th>created_at</th>\n      <th>id</th>\n      <th>text</th>\n      <th>coordinates</th>\n      <th>lang</th>\n      <th>place</th>\n      <th>user_location</th>\n      <th>state</th>\n      <th>city</th>\n      <th>protest</th>\n    </tr>\n  </thead>\n  <tbody>\n    <tr>\n      <th>0</th>\n      <td>2020-05-07</td>\n      <td>1258365124517203969</td>\n      <td>This is a sad reality. AmeriKKKa must realize ...</td>\n      <td>0</td>\n      <td>en</td>\n      <td>0</td>\n      <td>Detroit, MI</td>\n      <td>MI</td>\n      <td>Detroit</td>\n      <td>0.0</td>\n    </tr>\n    <tr>\n      <th>1</th>\n      <td>2020-05-07</td>\n      <td>1258365136999518208</td>\n      <td>RT @JhadiyahG: Please Share Ahmaud Arbery was ...</td>\n      <td>0</td>\n      <td>en</td>\n      <td>0</td>\n      <td>Philadelphia, PA</td>\n      <td>PA</td>\n      <td>Philadelphia</td>\n      <td>0.0</td>\n    </tr>\n    <tr>\n      <th>2</th>\n      <td>2020-05-07</td>\n      <td>1258365210827644930</td>\n      <td>RT @SharLovegrove: DEVASTATED by the @guardian...</td>\n      <td>0</td>\n      <td>en</td>\n      <td>0</td>\n      <td>Crazy Horse, ND</td>\n      <td>ND</td>\n      <td>Crazy Horse</td>\n      <td>0.0</td>\n    </tr>\n    <tr>\n      <th>3</th>\n      <td>2020-05-07</td>\n      <td>1258365231497203714</td>\n      <td>RT @ZayyWhosane: This shit so frustrating #Bla...</td>\n      <td>0</td>\n      <td>en</td>\n      <td>0</td>\n      <td>New Orleans, LA</td>\n      <td>LA</td>\n      <td>New Orleans</td>\n      <td>0.0</td>\n    </tr>\n    <tr>\n      <th>4</th>\n      <td>2020-05-07</td>\n      <td>1258365308751970304</td>\n      <td>We can't break down on a public road with car ...</td>\n      <td>0</td>\n      <td>en</td>\n      <td>{'id': '7f88808f3d4e1c41', 'url': 'https://api...</td>\n      <td>Mequon, WI</td>\n      <td>WI</td>\n      <td>Mequon</td>\n      <td>0.0</td>\n    </tr>\n  </tbody>\n</table>\n</div>"
     },
     "metadata": {},
     "execution_count": 125
    }
   ],
   "source": [
    "merged.head()"
   ]
  },
  {
   "cell_type": "code",
   "execution_count": 126,
   "metadata": {},
   "outputs": [],
   "source": [
    "merged = merged.groupby(['created_at','city']).size().reset_index(name='counts')"
   ]
  },
  {
   "cell_type": "code",
   "execution_count": 142,
   "metadata": {},
   "outputs": [],
   "source": [
    "temp = merged[['city', 'counts']].groupby('city').mean()\n",
    "merged['mean'] = temp['counts']"
   ]
  },
  {
   "cell_type": "code",
   "execution_count": 148,
   "metadata": {},
   "outputs": [
    {
     "output_type": "execute_result",
     "data": {
      "text/plain": [
       "30588"
      ]
     },
     "metadata": {},
     "execution_count": 148
    }
   ],
   "source": [
    "len(temp['counts'])\n"
   ]
  },
  {
   "cell_type": "code",
   "execution_count": 107,
   "metadata": {},
   "outputs": [],
   "source": [
    "merged = merged[merged.counts>5]\n",
    "merged = pd.merge(merged, protest,  how='left', on=['created_at','city'])\n",
    "merged = merged.fillna(0)"
   ]
  },
  {
   "cell_type": "code",
   "execution_count": 108,
   "metadata": {},
   "outputs": [
    {
     "output_type": "execute_result",
     "data": {
      "text/plain": [
       "   created_at         city  counts state  protest\n",
       "0  2020-05-07        Akron      11     0      0.0\n",
       "1  2020-05-07       Albany       6     0      0.0\n",
       "2  2020-05-07  Albuquerque      16     0      0.0\n",
       "3  2020-05-07      Anaheim      12     0      0.0\n",
       "4  2020-05-07    Anchorage       6     0      0.0"
      ],
      "text/html": "<div>\n<style scoped>\n    .dataframe tbody tr th:only-of-type {\n        vertical-align: middle;\n    }\n\n    .dataframe tbody tr th {\n        vertical-align: top;\n    }\n\n    .dataframe thead th {\n        text-align: right;\n    }\n</style>\n<table border=\"1\" class=\"dataframe\">\n  <thead>\n    <tr style=\"text-align: right;\">\n      <th></th>\n      <th>created_at</th>\n      <th>city</th>\n      <th>counts</th>\n      <th>state</th>\n      <th>protest</th>\n    </tr>\n  </thead>\n  <tbody>\n    <tr>\n      <th>0</th>\n      <td>2020-05-07</td>\n      <td>Akron</td>\n      <td>11</td>\n      <td>0</td>\n      <td>0.0</td>\n    </tr>\n    <tr>\n      <th>1</th>\n      <td>2020-05-07</td>\n      <td>Albany</td>\n      <td>6</td>\n      <td>0</td>\n      <td>0.0</td>\n    </tr>\n    <tr>\n      <th>2</th>\n      <td>2020-05-07</td>\n      <td>Albuquerque</td>\n      <td>16</td>\n      <td>0</td>\n      <td>0.0</td>\n    </tr>\n    <tr>\n      <th>3</th>\n      <td>2020-05-07</td>\n      <td>Anaheim</td>\n      <td>12</td>\n      <td>0</td>\n      <td>0.0</td>\n    </tr>\n    <tr>\n      <th>4</th>\n      <td>2020-05-07</td>\n      <td>Anchorage</td>\n      <td>6</td>\n      <td>0</td>\n      <td>0.0</td>\n    </tr>\n  </tbody>\n</table>\n</div>"
     },
     "metadata": {},
     "execution_count": 108
    }
   ],
   "source": [
    "merged.head()"
   ]
  },
  {
   "cell_type": "code",
   "execution_count": 88,
   "metadata": {},
   "outputs": [
    {
     "output_type": "stream",
     "name": "stdout",
     "text": [
      "Optimization terminated successfully.\n         Current function value: 0.693127\n         Iterations 3\n"
     ]
    }
   ],
   "source": [
    "import statsmodels.api as sm \n",
    "    \n",
    "# defining the dependent and independent variables \n",
    "Xtrain = merged[['counts']] \n",
    "ytrain = merged[['protest']]\n",
    "   \n",
    "# building the model and fitting the data \n",
    "log_reg = sm.Logit(ytrain, Xtrain).fit()"
   ]
  },
  {
   "cell_type": "code",
   "execution_count": 89,
   "metadata": {},
   "outputs": [
    {
     "output_type": "stream",
     "name": "stdout",
     "text": [
      "                           Logit Regression Results                           \n==============================================================================\nDep. Variable:                protest   No. Observations:                31756\nModel:                          Logit   Df Residuals:                    31755\nMethod:                           MLE   Df Model:                            0\nDate:                Fri, 15 Jan 2021   Pseudo R-squ.:                  -1.692\nTime:                        14:38:02   Log-Likelihood:                -22011.\nconverged:                       True   LL-Null:                       -8175.8\nCovariance Type:            nonrobust   LLR p-value:                       nan\n==============================================================================\n                 coef    std err          z      P>|z|      [0.025      0.975]\n------------------------------------------------------------------------------\ncounts     -1.873e-05   1.67e-05     -1.123      0.261   -5.14e-05     1.4e-05\n==============================================================================\n"
     ]
    }
   ],
   "source": [
    "print(log_reg.summary()) "
   ]
  }
 ]
}